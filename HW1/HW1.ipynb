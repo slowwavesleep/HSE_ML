{
 "cells": [
  {
   "cell_type": "markdown",
   "metadata": {},
   "source": [
    "## Домашнее задание 1\n",
    "Проанализируйте данные и найдите самый холодный и самый ветренный дни в Сегеде за всю имеющуюся историю.\n",
    "\n",
    "Узнайте сколько раз шел дождь летом 2014 года.\n",
    "\n",
    "Сгруппируйтей данные по годам, месяцам и неделям (по отдельности) и найдите:\n",
    "\n",
    "1) самый ветрянный месяц\n",
    "2) самый влажный год\n",
    "3) неделю с самой переменчивой погодой"
   ]
  },
  {
   "cell_type": "markdown",
   "metadata": {},
   "source": [
    "Для работы с датами вам пригодится [pd.to_datetime](https://pandas.pydata.org/pandas-docs/stable/reference/api/pandas.to_datetime.html)\n",
    "\n",
    "Ещё полезно будет пройтись по первому заниятию из [ml_course.ai](https://mlcourse.ai/) - https://habr.com/ru/company/ods/blog/322626/"
   ]
  },
  {
   "cell_type": "code",
   "execution_count": 2,
   "metadata": {},
   "outputs": [],
   "source": [
    "import numpy as np\n",
    "import pandas as pd\n",
    "\n",
    "pd.set_option('display.max_columns', 100)\n",
    "pd.set_option('display.max_rows', 100)"
   ]
  },
  {
   "cell_type": "code",
   "execution_count": 3,
   "metadata": {},
   "outputs": [],
   "source": [
    "data = pd.read_csv('weatherHistory.csv')"
   ]
  },
  {
   "cell_type": "code",
   "execution_count": 4,
   "metadata": {},
   "outputs": [
    {
     "data": {
      "text/plain": [
       "Index(['Formatted Date', 'Summary', 'Precip Type', 'Temperature (C)',\n",
       "       'Apparent Temperature (C)', 'Humidity', 'Wind Speed (km/h)',\n",
       "       'Wind Bearing (degrees)', 'Visibility (km)', 'Loud Cover',\n",
       "       'Pressure (millibars)', 'Daily Summary'],\n",
       "      dtype='object')"
      ]
     },
     "execution_count": 4,
     "metadata": {},
     "output_type": "execute_result"
    }
   ],
   "source": [
    "data.columns"
   ]
  },
  {
   "cell_type": "code",
   "execution_count": 5,
   "metadata": {},
   "outputs": [],
   "source": [
    "def exclude_ps(text):\n",
    "    if '(' in text:\n",
    "        return False\n",
    "    else:\n",
    "        return True\n",
    "\n",
    "def fix_column(column):\n",
    "    column = column.lower()\n",
    "    column = [word for word in column.split() if exclude_ps(word)]\n",
    "    column = '_'.join(column)\n",
    "    \n",
    "    return column\n",
    "\n",
    "replacement = {}\n",
    "for column in data.columns:\n",
    "    replacement[column] = fix_column(column)\n",
    "data.rename(replacement, axis=1, inplace=True)"
   ]
  },
  {
   "cell_type": "code",
   "execution_count": 6,
   "metadata": {},
   "outputs": [],
   "source": [
    "data.rename({'formatted_date': 'date'}, axis=1, inplace=True)"
   ]
  },
  {
   "cell_type": "code",
   "execution_count": 7,
   "metadata": {},
   "outputs": [
    {
     "data": {
      "text/plain": [
       "Index(['date', 'summary', 'precip_type', 'temperature', 'apparent_temperature',\n",
       "       'humidity', 'wind_speed', 'wind_bearing', 'visibility', 'loud_cover',\n",
       "       'pressure', 'daily_summary'],\n",
       "      dtype='object')"
      ]
     },
     "execution_count": 7,
     "metadata": {},
     "output_type": "execute_result"
    }
   ],
   "source": [
    "data.columns"
   ]
  },
  {
   "cell_type": "code",
   "execution_count": 8,
   "metadata": {},
   "outputs": [],
   "source": [
    "data.date = data.date.str.slice(start=0, stop=-6)"
   ]
  },
  {
   "cell_type": "code",
   "execution_count": 9,
   "metadata": {},
   "outputs": [],
   "source": [
    "data.date = pd.to_datetime(data.date)"
   ]
  },
  {
   "cell_type": "code",
   "execution_count": 10,
   "metadata": {},
   "outputs": [],
   "source": [
    "data.sort_values(by='date', inplace=True)"
   ]
  },
  {
   "cell_type": "code",
   "execution_count": 11,
   "metadata": {
    "scrolled": true
   },
   "outputs": [
    {
     "data": {
      "text/html": [
       "<div>\n",
       "<style scoped>\n",
       "    .dataframe tbody tr th:only-of-type {\n",
       "        vertical-align: middle;\n",
       "    }\n",
       "\n",
       "    .dataframe tbody tr th {\n",
       "        vertical-align: top;\n",
       "    }\n",
       "\n",
       "    .dataframe thead th {\n",
       "        text-align: right;\n",
       "    }\n",
       "</style>\n",
       "<table border=\"1\" class=\"dataframe\">\n",
       "  <thead>\n",
       "    <tr style=\"text-align: right;\">\n",
       "      <th></th>\n",
       "      <th>date</th>\n",
       "      <th>summary</th>\n",
       "      <th>precip_type</th>\n",
       "      <th>temperature</th>\n",
       "      <th>apparent_temperature</th>\n",
       "      <th>humidity</th>\n",
       "      <th>wind_speed</th>\n",
       "      <th>wind_bearing</th>\n",
       "      <th>visibility</th>\n",
       "      <th>loud_cover</th>\n",
       "      <th>pressure</th>\n",
       "      <th>daily_summary</th>\n",
       "    </tr>\n",
       "  </thead>\n",
       "  <tbody>\n",
       "    <tr>\n",
       "      <th>2880</th>\n",
       "      <td>2006-01-01 00:00:00</td>\n",
       "      <td>Partly Cloudy</td>\n",
       "      <td>rain</td>\n",
       "      <td>0.577778</td>\n",
       "      <td>-4.050000</td>\n",
       "      <td>0.89</td>\n",
       "      <td>17.1143</td>\n",
       "      <td>140.0</td>\n",
       "      <td>9.9820</td>\n",
       "      <td>0.0</td>\n",
       "      <td>1016.66</td>\n",
       "      <td>Mostly cloudy throughout the day.</td>\n",
       "    </tr>\n",
       "    <tr>\n",
       "      <th>2881</th>\n",
       "      <td>2006-01-01 01:00:00</td>\n",
       "      <td>Mostly Cloudy</td>\n",
       "      <td>rain</td>\n",
       "      <td>1.161111</td>\n",
       "      <td>-3.238889</td>\n",
       "      <td>0.85</td>\n",
       "      <td>16.6152</td>\n",
       "      <td>139.0</td>\n",
       "      <td>9.9015</td>\n",
       "      <td>0.0</td>\n",
       "      <td>1016.15</td>\n",
       "      <td>Mostly cloudy throughout the day.</td>\n",
       "    </tr>\n",
       "    <tr>\n",
       "      <th>2882</th>\n",
       "      <td>2006-01-01 02:00:00</td>\n",
       "      <td>Mostly Cloudy</td>\n",
       "      <td>rain</td>\n",
       "      <td>1.666667</td>\n",
       "      <td>-3.155556</td>\n",
       "      <td>0.82</td>\n",
       "      <td>20.2538</td>\n",
       "      <td>140.0</td>\n",
       "      <td>9.9015</td>\n",
       "      <td>0.0</td>\n",
       "      <td>1015.87</td>\n",
       "      <td>Mostly cloudy throughout the day.</td>\n",
       "    </tr>\n",
       "    <tr>\n",
       "      <th>2883</th>\n",
       "      <td>2006-01-01 03:00:00</td>\n",
       "      <td>Overcast</td>\n",
       "      <td>rain</td>\n",
       "      <td>1.711111</td>\n",
       "      <td>-2.194444</td>\n",
       "      <td>0.82</td>\n",
       "      <td>14.4900</td>\n",
       "      <td>140.0</td>\n",
       "      <td>9.9015</td>\n",
       "      <td>0.0</td>\n",
       "      <td>1015.56</td>\n",
       "      <td>Mostly cloudy throughout the day.</td>\n",
       "    </tr>\n",
       "    <tr>\n",
       "      <th>2884</th>\n",
       "      <td>2006-01-01 04:00:00</td>\n",
       "      <td>Mostly Cloudy</td>\n",
       "      <td>rain</td>\n",
       "      <td>1.183333</td>\n",
       "      <td>-2.744444</td>\n",
       "      <td>0.86</td>\n",
       "      <td>13.9426</td>\n",
       "      <td>134.0</td>\n",
       "      <td>9.9015</td>\n",
       "      <td>0.0</td>\n",
       "      <td>1014.98</td>\n",
       "      <td>Mostly cloudy throughout the day.</td>\n",
       "    </tr>\n",
       "  </tbody>\n",
       "</table>\n",
       "</div>"
      ],
      "text/plain": [
       "                    date        summary precip_type  temperature  \\\n",
       "2880 2006-01-01 00:00:00  Partly Cloudy        rain     0.577778   \n",
       "2881 2006-01-01 01:00:00  Mostly Cloudy        rain     1.161111   \n",
       "2882 2006-01-01 02:00:00  Mostly Cloudy        rain     1.666667   \n",
       "2883 2006-01-01 03:00:00       Overcast        rain     1.711111   \n",
       "2884 2006-01-01 04:00:00  Mostly Cloudy        rain     1.183333   \n",
       "\n",
       "      apparent_temperature  humidity  wind_speed  wind_bearing  visibility  \\\n",
       "2880             -4.050000      0.89     17.1143         140.0      9.9820   \n",
       "2881             -3.238889      0.85     16.6152         139.0      9.9015   \n",
       "2882             -3.155556      0.82     20.2538         140.0      9.9015   \n",
       "2883             -2.194444      0.82     14.4900         140.0      9.9015   \n",
       "2884             -2.744444      0.86     13.9426         134.0      9.9015   \n",
       "\n",
       "      loud_cover  pressure                      daily_summary  \n",
       "2880         0.0   1016.66  Mostly cloudy throughout the day.  \n",
       "2881         0.0   1016.15  Mostly cloudy throughout the day.  \n",
       "2882         0.0   1015.87  Mostly cloudy throughout the day.  \n",
       "2883         0.0   1015.56  Mostly cloudy throughout the day.  \n",
       "2884         0.0   1014.98  Mostly cloudy throughout the day.  "
      ]
     },
     "execution_count": 11,
     "metadata": {},
     "output_type": "execute_result"
    }
   ],
   "source": [
    "data.head(5)"
   ]
  },
  {
   "cell_type": "markdown",
   "metadata": {},
   "source": [
    "### Проанализируйте данные и найдите самый холодный и самый ветренный дни в Сегеде за всю имеющуюся историю."
   ]
  },
  {
   "cell_type": "markdown",
   "metadata": {},
   "source": [
    "Если считать, что самый ветренный/холодный тот день, в который значение соответствующего признака приняло своё максимальное/минимальное значение."
   ]
  },
  {
   "cell_type": "markdown",
   "metadata": {},
   "source": [
    "*Самый холодный*"
   ]
  },
  {
   "cell_type": "code",
   "execution_count": 12,
   "metadata": {},
   "outputs": [
    {
     "data": {
      "text/html": [
       "<div>\n",
       "<style scoped>\n",
       "    .dataframe tbody tr th:only-of-type {\n",
       "        vertical-align: middle;\n",
       "    }\n",
       "\n",
       "    .dataframe tbody tr th {\n",
       "        vertical-align: top;\n",
       "    }\n",
       "\n",
       "    .dataframe thead th {\n",
       "        text-align: right;\n",
       "    }\n",
       "</style>\n",
       "<table border=\"1\" class=\"dataframe\">\n",
       "  <thead>\n",
       "    <tr style=\"text-align: right;\">\n",
       "      <th></th>\n",
       "      <th>date</th>\n",
       "      <th>temperature</th>\n",
       "    </tr>\n",
       "  </thead>\n",
       "  <tbody>\n",
       "    <tr>\n",
       "      <th>54847</th>\n",
       "      <td>2012-02-10 07:00:00</td>\n",
       "      <td>-21.822222</td>\n",
       "    </tr>\n",
       "  </tbody>\n",
       "</table>\n",
       "</div>"
      ],
      "text/plain": [
       "                     date  temperature\n",
       "54847 2012-02-10 07:00:00   -21.822222"
      ]
     },
     "execution_count": 12,
     "metadata": {},
     "output_type": "execute_result"
    }
   ],
   "source": [
    "data.loc[data.temperature == data.temperature.min(), ['date', 'temperature']]"
   ]
  },
  {
   "cell_type": "markdown",
   "metadata": {},
   "source": [
    "*Самый ветренный*"
   ]
  },
  {
   "cell_type": "code",
   "execution_count": 13,
   "metadata": {},
   "outputs": [
    {
     "data": {
      "text/html": [
       "<div>\n",
       "<style scoped>\n",
       "    .dataframe tbody tr th:only-of-type {\n",
       "        vertical-align: middle;\n",
       "    }\n",
       "\n",
       "    .dataframe tbody tr th {\n",
       "        vertical-align: top;\n",
       "    }\n",
       "\n",
       "    .dataframe thead th {\n",
       "        text-align: right;\n",
       "    }\n",
       "</style>\n",
       "<table border=\"1\" class=\"dataframe\">\n",
       "  <thead>\n",
       "    <tr style=\"text-align: right;\">\n",
       "      <th></th>\n",
       "      <th>date</th>\n",
       "      <th>wind_speed</th>\n",
       "    </tr>\n",
       "  </thead>\n",
       "  <tbody>\n",
       "    <tr>\n",
       "      <th>12181</th>\n",
       "      <td>2007-01-29 13:00:00</td>\n",
       "      <td>63.8526</td>\n",
       "    </tr>\n",
       "  </tbody>\n",
       "</table>\n",
       "</div>"
      ],
      "text/plain": [
       "                     date  wind_speed\n",
       "12181 2007-01-29 13:00:00     63.8526"
      ]
     },
     "execution_count": 13,
     "metadata": {},
     "output_type": "execute_result"
    }
   ],
   "source": [
    "data.loc[data.wind_speed == data.wind_speed.max(), ['date', 'wind_speed']]"
   ]
  },
  {
   "cell_type": "markdown",
   "metadata": {},
   "source": [
    "Если считать, что речь идет о *среднесуточных* температуре и скорости ветра."
   ]
  },
  {
   "cell_type": "code",
   "execution_count": 14,
   "metadata": {},
   "outputs": [],
   "source": [
    "by_day = data.groupby(by=[data.date.dt.month, data.date.dt.day, data.date.dt.year])['date', 'temperature', 'wind_speed'].mean()"
   ]
  },
  {
   "cell_type": "markdown",
   "metadata": {},
   "source": [
    "*Самый холодный*"
   ]
  },
  {
   "cell_type": "code",
   "execution_count": 15,
   "metadata": {},
   "outputs": [
    {
     "data": {
      "text/html": [
       "<div>\n",
       "<style scoped>\n",
       "    .dataframe tbody tr th:only-of-type {\n",
       "        vertical-align: middle;\n",
       "    }\n",
       "\n",
       "    .dataframe tbody tr th {\n",
       "        vertical-align: top;\n",
       "    }\n",
       "\n",
       "    .dataframe thead th {\n",
       "        text-align: right;\n",
       "    }\n",
       "</style>\n",
       "<table border=\"1\" class=\"dataframe\">\n",
       "  <thead>\n",
       "    <tr style=\"text-align: right;\">\n",
       "      <th></th>\n",
       "      <th></th>\n",
       "      <th></th>\n",
       "      <th>temperature</th>\n",
       "      <th>wind_speed</th>\n",
       "    </tr>\n",
       "    <tr>\n",
       "      <th>date</th>\n",
       "      <th>date</th>\n",
       "      <th>date</th>\n",
       "      <th></th>\n",
       "      <th></th>\n",
       "    </tr>\n",
       "  </thead>\n",
       "  <tbody>\n",
       "    <tr>\n",
       "      <th>2</th>\n",
       "      <th>10</th>\n",
       "      <th>2012</th>\n",
       "      <td>-15.773611</td>\n",
       "      <td>4.4275</td>\n",
       "    </tr>\n",
       "  </tbody>\n",
       "</table>\n",
       "</div>"
      ],
      "text/plain": [
       "                temperature  wind_speed\n",
       "date date date                         \n",
       "2    10   2012   -15.773611      4.4275"
      ]
     },
     "execution_count": 15,
     "metadata": {},
     "output_type": "execute_result"
    }
   ],
   "source": [
    "by_day.loc[by_day.temperature == by_day.temperature.min()]"
   ]
  },
  {
   "cell_type": "markdown",
   "metadata": {},
   "source": [
    "*Самый ветренный*"
   ]
  },
  {
   "cell_type": "code",
   "execution_count": 16,
   "metadata": {},
   "outputs": [
    {
     "data": {
      "text/html": [
       "<div>\n",
       "<style scoped>\n",
       "    .dataframe tbody tr th:only-of-type {\n",
       "        vertical-align: middle;\n",
       "    }\n",
       "\n",
       "    .dataframe tbody tr th {\n",
       "        vertical-align: top;\n",
       "    }\n",
       "\n",
       "    .dataframe thead th {\n",
       "        text-align: right;\n",
       "    }\n",
       "</style>\n",
       "<table border=\"1\" class=\"dataframe\">\n",
       "  <thead>\n",
       "    <tr style=\"text-align: right;\">\n",
       "      <th></th>\n",
       "      <th></th>\n",
       "      <th></th>\n",
       "      <th>temperature</th>\n",
       "      <th>wind_speed</th>\n",
       "    </tr>\n",
       "    <tr>\n",
       "      <th>date</th>\n",
       "      <th>date</th>\n",
       "      <th>date</th>\n",
       "      <th></th>\n",
       "      <th></th>\n",
       "    </tr>\n",
       "  </thead>\n",
       "  <tbody>\n",
       "    <tr>\n",
       "      <th>1</th>\n",
       "      <th>27</th>\n",
       "      <th>2008</th>\n",
       "      <td>6.269907</td>\n",
       "      <td>36.002954</td>\n",
       "    </tr>\n",
       "  </tbody>\n",
       "</table>\n",
       "</div>"
      ],
      "text/plain": [
       "                temperature  wind_speed\n",
       "date date date                         \n",
       "1    27   2008     6.269907   36.002954"
      ]
     },
     "execution_count": 16,
     "metadata": {},
     "output_type": "execute_result"
    }
   ],
   "source": [
    "by_day.loc[by_day.wind_speed == by_day.wind_speed.max()]"
   ]
  },
  {
   "cell_type": "markdown",
   "metadata": {},
   "source": [
    "### Узнайте сколько раз шел дождь летом 2014 года."
   ]
  },
  {
   "cell_type": "code",
   "execution_count": 17,
   "metadata": {},
   "outputs": [],
   "source": [
    "summer = data.loc[(data.date.dt.month > 5) & (data.date.dt.month < 9) & (data.date.dt.year == 2014)]"
   ]
  },
  {
   "cell_type": "markdown",
   "metadata": {},
   "source": [
    "Считаем сколько *дней* шел дождь хотя бы раз."
   ]
  },
  {
   "cell_type": "code",
   "execution_count": 18,
   "metadata": {},
   "outputs": [
    {
     "data": {
      "text/plain": [
       "92"
      ]
     },
     "execution_count": 18,
     "metadata": {},
     "output_type": "execute_result"
    }
   ],
   "source": [
    "summer.loc[summer.precip_type == 'rain'].date.dt.dayofyear.nunique()"
   ]
  },
  {
   "cell_type": "markdown",
   "metadata": {},
   "source": [
    "#### 1) самый ветрянный месяц"
   ]
  },
  {
   "cell_type": "code",
   "execution_count": 19,
   "metadata": {},
   "outputs": [],
   "source": [
    "by_month = data.groupby(by=data.date.dt.month)['date', 'wind_speed'].mean()"
   ]
  },
  {
   "cell_type": "code",
   "execution_count": 20,
   "metadata": {},
   "outputs": [
    {
     "data": {
      "text/html": [
       "<div>\n",
       "<style scoped>\n",
       "    .dataframe tbody tr th:only-of-type {\n",
       "        vertical-align: middle;\n",
       "    }\n",
       "\n",
       "    .dataframe tbody tr th {\n",
       "        vertical-align: top;\n",
       "    }\n",
       "\n",
       "    .dataframe thead th {\n",
       "        text-align: right;\n",
       "    }\n",
       "</style>\n",
       "<table border=\"1\" class=\"dataframe\">\n",
       "  <thead>\n",
       "    <tr style=\"text-align: right;\">\n",
       "      <th></th>\n",
       "      <th>wind_speed</th>\n",
       "    </tr>\n",
       "    <tr>\n",
       "      <th>date</th>\n",
       "      <th></th>\n",
       "    </tr>\n",
       "  </thead>\n",
       "  <tbody>\n",
       "    <tr>\n",
       "      <th>3</th>\n",
       "      <td>13.405461</td>\n",
       "    </tr>\n",
       "  </tbody>\n",
       "</table>\n",
       "</div>"
      ],
      "text/plain": [
       "      wind_speed\n",
       "date            \n",
       "3      13.405461"
      ]
     },
     "execution_count": 20,
     "metadata": {},
     "output_type": "execute_result"
    }
   ],
   "source": [
    "by_month.loc[by_month.wind_speed == by_month.wind_speed.max()]"
   ]
  },
  {
   "cell_type": "markdown",
   "metadata": {},
   "source": [
    "#### 2) самый влажный год "
   ]
  },
  {
   "cell_type": "code",
   "execution_count": 21,
   "metadata": {},
   "outputs": [],
   "source": [
    "by_year = data.groupby(by=data.date.dt.year)['date', 'humidity'].mean()"
   ]
  },
  {
   "cell_type": "code",
   "execution_count": 22,
   "metadata": {},
   "outputs": [
    {
     "data": {
      "text/html": [
       "<div>\n",
       "<style scoped>\n",
       "    .dataframe tbody tr th:only-of-type {\n",
       "        vertical-align: middle;\n",
       "    }\n",
       "\n",
       "    .dataframe tbody tr th {\n",
       "        vertical-align: top;\n",
       "    }\n",
       "\n",
       "    .dataframe thead th {\n",
       "        text-align: right;\n",
       "    }\n",
       "</style>\n",
       "<table border=\"1\" class=\"dataframe\">\n",
       "  <thead>\n",
       "    <tr style=\"text-align: right;\">\n",
       "      <th></th>\n",
       "      <th>humidity</th>\n",
       "    </tr>\n",
       "    <tr>\n",
       "      <th>date</th>\n",
       "      <th></th>\n",
       "    </tr>\n",
       "  </thead>\n",
       "  <tbody>\n",
       "    <tr>\n",
       "      <th>2010</th>\n",
       "      <td>0.796858</td>\n",
       "    </tr>\n",
       "  </tbody>\n",
       "</table>\n",
       "</div>"
      ],
      "text/plain": [
       "      humidity\n",
       "date          \n",
       "2010  0.796858"
      ]
     },
     "execution_count": 22,
     "metadata": {},
     "output_type": "execute_result"
    }
   ],
   "source": [
    "by_year.loc[by_year.humidity == by_year.humidity.max()]"
   ]
  },
  {
   "cell_type": "markdown",
   "metadata": {},
   "source": [
    "#### 3) неделя с самой переменчивой погодой"
   ]
  },
  {
   "cell_type": "markdown",
   "metadata": {},
   "source": [
    "Неделей с переменчивой погодой будем считать неделю, в которой больше всего менялись температура, влажность, скорость ветра. Т.е. данные признаки в наибольшей степени отклонялись от своего среднего значения."
   ]
  },
  {
   "cell_type": "code",
   "execution_count": 23,
   "metadata": {},
   "outputs": [],
   "source": [
    "by_week = data.groupby(by=data.date.dt.week)['date', 'temperature', 'humidity', 'wind_speed'].std()"
   ]
  },
  {
   "cell_type": "markdown",
   "metadata": {},
   "source": [
    "Найдем такую неделю, отсортировав значения по убыванию (т.о. первая строка – искомая):"
   ]
  },
  {
   "cell_type": "code",
   "execution_count": 24,
   "metadata": {},
   "outputs": [
    {
     "data": {
      "text/html": [
       "<div>\n",
       "<style scoped>\n",
       "    .dataframe tbody tr th:only-of-type {\n",
       "        vertical-align: middle;\n",
       "    }\n",
       "\n",
       "    .dataframe tbody tr th {\n",
       "        vertical-align: top;\n",
       "    }\n",
       "\n",
       "    .dataframe thead th {\n",
       "        text-align: right;\n",
       "    }\n",
       "</style>\n",
       "<table border=\"1\" class=\"dataframe\">\n",
       "  <thead>\n",
       "    <tr style=\"text-align: right;\">\n",
       "      <th></th>\n",
       "      <th>temperature</th>\n",
       "      <th>humidity</th>\n",
       "      <th>wind_speed</th>\n",
       "    </tr>\n",
       "    <tr>\n",
       "      <th>date</th>\n",
       "      <th></th>\n",
       "      <th></th>\n",
       "      <th></th>\n",
       "    </tr>\n",
       "  </thead>\n",
       "  <tbody>\n",
       "    <tr>\n",
       "      <th>34</th>\n",
       "      <td>6.127291</td>\n",
       "      <td>0.222904</td>\n",
       "      <td>6.024446</td>\n",
       "    </tr>\n",
       "  </tbody>\n",
       "</table>\n",
       "</div>"
      ],
      "text/plain": [
       "      temperature  humidity  wind_speed\n",
       "date                                   \n",
       "34       6.127291  0.222904    6.024446"
      ]
     },
     "execution_count": 24,
     "metadata": {},
     "output_type": "execute_result"
    }
   ],
   "source": [
    "by_week.sort_values(by=['humidity', 'temperature', 'wind_speed'], ascending=False).head(1)"
   ]
  },
  {
   "cell_type": "markdown",
   "metadata": {},
   "source": [
    "### Домашнее задание 2\n",
    "\n",
    "Попробуйте придумать признаки (как минимум 5), которые можно извлечь из текста, помимо тех 4, которые мы уже использовали. Обучите модель на них и проверьте, улучашается ли качество. Опишите признаки, которое придумали и почему считаете, что они должны показывать вероятность покупки.\n",
    "\n",
    "Побробуйте подобрать параметры векторизатора (TfidfVectorizer или CountVectorizer, или обоих) и параметры алгоритма так, чтобы качество, которое у нас получилось (0.248) улучшилось. Опишите то, что попробовали."
   ]
  },
  {
   "cell_type": "code",
   "execution_count": 17,
   "metadata": {},
   "outputs": [],
   "source": [
    "data = pd.read_csv('data.csv')"
   ]
  },
  {
   "cell_type": "markdown",
   "metadata": {},
   "source": [
    "#### Обучение на признаках текстов"
   ]
  },
  {
   "cell_type": "markdown",
   "metadata": {},
   "source": [
    "Исходные признаки:"
   ]
  },
  {
   "cell_type": "code",
   "execution_count": 18,
   "metadata": {},
   "outputs": [],
   "source": [
    "# длина текста\n",
    "# data['text_len'] = data['description'].apply(len)\n",
    "# количество токенов в тексте\n",
    "# data['text_len_tokens'] = data['description'].apply(lambda x: len(x.split()))\n",
    "# количество заглавных букв в тексте\n",
    "# data['number_of_caps'] = data['description'].apply(lambda x: len([ch for ch in x if ch.isupper()]))\n",
    "# количество знаков пунктуации или других знаков (не цифр и не букв)\n",
    "# перенос строки сюда по всей видимости тоже попадает\n",
    "# data['number_of_nonalphanum'] = data['description'].apply(lambda x: len([ch for ch in x if not ch.isalnum()]))"
   ]
  },
  {
   "cell_type": "code",
   "execution_count": 19,
   "metadata": {},
   "outputs": [],
   "source": [
    "import nltk\n",
    "import string"
   ]
  },
  {
   "cell_type": "code",
   "execution_count": 20,
   "metadata": {},
   "outputs": [],
   "source": [
    "def upper_case_per(text):\n",
    "    text = nltk.tokenize.word_tokenize(text, language='russian')\n",
    "    text = [word for word in text if word.isalpha()]\n",
    "    upper_case = [word for word in text if word.isupper()]\n",
    "    if not text:\n",
    "        return 0\n",
    "    return len(upper_case)/len(text)"
   ]
  },
  {
   "cell_type": "code",
   "execution_count": 21,
   "metadata": {},
   "outputs": [],
   "source": [
    "def avg_word_len(text):\n",
    "    text = nltk.tokenize.word_tokenize(text, language='russian')\n",
    "    text = [len(word) for word in text if word.isalpha()]\n",
    "    if not text:\n",
    "        return 0\n",
    "    return sum(text)/len(text)"
   ]
  },
  {
   "cell_type": "code",
   "execution_count": 22,
   "metadata": {},
   "outputs": [],
   "source": [
    "def zero_or_one(value):\n",
    "    if value < 1:\n",
    "        return 0\n",
    "    else:\n",
    "        return 1"
   ]
  },
  {
   "cell_type": "code",
   "execution_count": 23,
   "metadata": {},
   "outputs": [],
   "source": [
    "def latin_letters(text):\n",
    "    return sum([1 for ch in text if ch in string.ascii_lowercase])"
   ]
  },
  {
   "cell_type": "code",
   "execution_count": 24,
   "metadata": {},
   "outputs": [],
   "source": [
    "def sent_num(text):\n",
    "    return len(nltk.tokenize.sent_tokenize(text, language='russian'))\n",
    "    "
   ]
  },
  {
   "cell_type": "code",
   "execution_count": 25,
   "metadata": {},
   "outputs": [],
   "source": [
    "def avg_sent_len(text):\n",
    "    text = [len(sent) for sent in nltk.tokenize.sent_tokenize(text, language='russian')]\n",
    "    if not text:\n",
    "        return 0\n",
    "    return sum(text)/len(text)"
   ]
  },
  {
   "cell_type": "markdown",
   "metadata": {},
   "source": [
    "Возможно, объявления, в которых много слов написано заглавными буквами могут быть менее привлекательно для потенциального покупателя."
   ]
  },
  {
   "cell_type": "code",
   "execution_count": 26,
   "metadata": {},
   "outputs": [],
   "source": [
    "data['upper_case_per'] = data.description.apply(upper_case_per)"
   ]
  },
  {
   "cell_type": "markdown",
   "metadata": {},
   "source": [
    "Кажется, что объявление, полностью состоящее из заглавных букв должно отталкивать."
   ]
  },
  {
   "cell_type": "code",
   "execution_count": 27,
   "metadata": {},
   "outputs": [],
   "source": [
    "data['all_caps'] = data.upper_case_per.apply(zero_or_one)"
   ]
  },
  {
   "cell_type": "markdown",
   "metadata": {},
   "source": [
    "Предположительно, описания, содержащие больше длинных слов должны быть более информативны, что может влиять на вероятность покупки."
   ]
  },
  {
   "cell_type": "code",
   "execution_count": 28,
   "metadata": {},
   "outputs": [],
   "source": [
    "data['avg_word_len'] = data.description.apply(avg_word_len)"
   ]
  },
  {
   "cell_type": "markdown",
   "metadata": {},
   "source": [
    "Если объявление содержит много латинских букв, то вероятно, что в нём описываются технические характерстики продаваемой вещи. Это может влиять на вероятность покупки."
   ]
  },
  {
   "cell_type": "code",
   "execution_count": 29,
   "metadata": {},
   "outputs": [],
   "source": [
    "data['latin_letters'] = data.description.apply(latin_letters)"
   ]
  },
  {
   "cell_type": "markdown",
   "metadata": {},
   "source": [
    "Возможно, описание, содержащее большее количество предложений, может показаться более структурированным и, возможно, более привлекательным."
   ]
  },
  {
   "cell_type": "code",
   "execution_count": 30,
   "metadata": {},
   "outputs": [],
   "source": [
    "data['sent_num'] = data.description.apply(sent_num)"
   ]
  },
  {
   "cell_type": "markdown",
   "metadata": {},
   "source": [
    "Средняя длина предложений опять же может указывать на информативность объявления."
   ]
  },
  {
   "cell_type": "code",
   "execution_count": 31,
   "metadata": {},
   "outputs": [],
   "source": [
    "data['avg_sent_len'] = data.description.apply(avg_sent_len)"
   ]
  },
  {
   "cell_type": "markdown",
   "metadata": {},
   "source": [
    "Как видим, только средняя длинна слов более-менее существенно коррелирует с целевой переменной."
   ]
  },
  {
   "cell_type": "code",
   "execution_count": 32,
   "metadata": {},
   "outputs": [
    {
     "data": {
      "text/html": [
       "<div>\n",
       "<style scoped>\n",
       "    .dataframe tbody tr th:only-of-type {\n",
       "        vertical-align: middle;\n",
       "    }\n",
       "\n",
       "    .dataframe tbody tr th {\n",
       "        vertical-align: top;\n",
       "    }\n",
       "\n",
       "    .dataframe thead th {\n",
       "        text-align: right;\n",
       "    }\n",
       "</style>\n",
       "<table border=\"1\" class=\"dataframe\">\n",
       "  <thead>\n",
       "    <tr style=\"text-align: right;\">\n",
       "      <th></th>\n",
       "      <th>price</th>\n",
       "      <th>item_seq_number</th>\n",
       "      <th>image_top_1</th>\n",
       "      <th>deal_probability</th>\n",
       "      <th>upper_case_per</th>\n",
       "      <th>all_caps</th>\n",
       "      <th>avg_word_len</th>\n",
       "      <th>latin_letters</th>\n",
       "      <th>sent_num</th>\n",
       "      <th>avg_sent_len</th>\n",
       "    </tr>\n",
       "  </thead>\n",
       "  <tbody>\n",
       "    <tr>\n",
       "      <th>price</th>\n",
       "      <td>1.000000</td>\n",
       "      <td>0.077973</td>\n",
       "      <td>0.046540</td>\n",
       "      <td>-0.015032</td>\n",
       "      <td>-0.006553</td>\n",
       "      <td>-0.002286</td>\n",
       "      <td>0.029157</td>\n",
       "      <td>-0.003490</td>\n",
       "      <td>0.070424</td>\n",
       "      <td>0.023365</td>\n",
       "    </tr>\n",
       "    <tr>\n",
       "      <th>item_seq_number</th>\n",
       "      <td>0.077973</td>\n",
       "      <td>1.000000</td>\n",
       "      <td>0.093411</td>\n",
       "      <td>-0.038196</td>\n",
       "      <td>0.027008</td>\n",
       "      <td>-0.005166</td>\n",
       "      <td>0.039038</td>\n",
       "      <td>0.016230</td>\n",
       "      <td>0.099171</td>\n",
       "      <td>0.062149</td>\n",
       "    </tr>\n",
       "    <tr>\n",
       "      <th>image_top_1</th>\n",
       "      <td>0.046540</td>\n",
       "      <td>0.093411</td>\n",
       "      <td>1.000000</td>\n",
       "      <td>0.185397</td>\n",
       "      <td>0.081460</td>\n",
       "      <td>0.011117</td>\n",
       "      <td>0.085557</td>\n",
       "      <td>0.156175</td>\n",
       "      <td>0.087741</td>\n",
       "      <td>0.169118</td>\n",
       "    </tr>\n",
       "    <tr>\n",
       "      <th>deal_probability</th>\n",
       "      <td>-0.015032</td>\n",
       "      <td>-0.038196</td>\n",
       "      <td>0.185397</td>\n",
       "      <td>1.000000</td>\n",
       "      <td>0.000957</td>\n",
       "      <td>0.004474</td>\n",
       "      <td>0.041378</td>\n",
       "      <td>-0.003680</td>\n",
       "      <td>0.004417</td>\n",
       "      <td>0.007912</td>\n",
       "    </tr>\n",
       "    <tr>\n",
       "      <th>upper_case_per</th>\n",
       "      <td>-0.006553</td>\n",
       "      <td>0.027008</td>\n",
       "      <td>0.081460</td>\n",
       "      <td>0.000957</td>\n",
       "      <td>1.000000</td>\n",
       "      <td>0.710454</td>\n",
       "      <td>-0.066318</td>\n",
       "      <td>0.047872</td>\n",
       "      <td>0.018302</td>\n",
       "      <td>0.039722</td>\n",
       "    </tr>\n",
       "    <tr>\n",
       "      <th>all_caps</th>\n",
       "      <td>-0.002286</td>\n",
       "      <td>-0.005166</td>\n",
       "      <td>0.011117</td>\n",
       "      <td>0.004474</td>\n",
       "      <td>0.710454</td>\n",
       "      <td>1.000000</td>\n",
       "      <td>-0.022160</td>\n",
       "      <td>-0.014972</td>\n",
       "      <td>-0.021060</td>\n",
       "      <td>-0.013542</td>\n",
       "    </tr>\n",
       "    <tr>\n",
       "      <th>avg_word_len</th>\n",
       "      <td>0.029157</td>\n",
       "      <td>0.039038</td>\n",
       "      <td>0.085557</td>\n",
       "      <td>0.041378</td>\n",
       "      <td>-0.066318</td>\n",
       "      <td>-0.022160</td>\n",
       "      <td>1.000000</td>\n",
       "      <td>0.018562</td>\n",
       "      <td>0.061885</td>\n",
       "      <td>0.087737</td>\n",
       "    </tr>\n",
       "    <tr>\n",
       "      <th>latin_letters</th>\n",
       "      <td>-0.003490</td>\n",
       "      <td>0.016230</td>\n",
       "      <td>0.156175</td>\n",
       "      <td>-0.003680</td>\n",
       "      <td>0.047872</td>\n",
       "      <td>-0.014972</td>\n",
       "      <td>0.018562</td>\n",
       "      <td>1.000000</td>\n",
       "      <td>0.117090</td>\n",
       "      <td>0.348301</td>\n",
       "    </tr>\n",
       "    <tr>\n",
       "      <th>sent_num</th>\n",
       "      <td>0.070424</td>\n",
       "      <td>0.099171</td>\n",
       "      <td>0.087741</td>\n",
       "      <td>0.004417</td>\n",
       "      <td>0.018302</td>\n",
       "      <td>-0.021060</td>\n",
       "      <td>0.061885</td>\n",
       "      <td>0.117090</td>\n",
       "      <td>1.000000</td>\n",
       "      <td>-0.064198</td>\n",
       "    </tr>\n",
       "    <tr>\n",
       "      <th>avg_sent_len</th>\n",
       "      <td>0.023365</td>\n",
       "      <td>0.062149</td>\n",
       "      <td>0.169118</td>\n",
       "      <td>0.007912</td>\n",
       "      <td>0.039722</td>\n",
       "      <td>-0.013542</td>\n",
       "      <td>0.087737</td>\n",
       "      <td>0.348301</td>\n",
       "      <td>-0.064198</td>\n",
       "      <td>1.000000</td>\n",
       "    </tr>\n",
       "  </tbody>\n",
       "</table>\n",
       "</div>"
      ],
      "text/plain": [
       "                     price  item_seq_number  image_top_1  deal_probability  \\\n",
       "price             1.000000         0.077973     0.046540         -0.015032   \n",
       "item_seq_number   0.077973         1.000000     0.093411         -0.038196   \n",
       "image_top_1       0.046540         0.093411     1.000000          0.185397   \n",
       "deal_probability -0.015032        -0.038196     0.185397          1.000000   \n",
       "upper_case_per   -0.006553         0.027008     0.081460          0.000957   \n",
       "all_caps         -0.002286        -0.005166     0.011117          0.004474   \n",
       "avg_word_len      0.029157         0.039038     0.085557          0.041378   \n",
       "latin_letters    -0.003490         0.016230     0.156175         -0.003680   \n",
       "sent_num          0.070424         0.099171     0.087741          0.004417   \n",
       "avg_sent_len      0.023365         0.062149     0.169118          0.007912   \n",
       "\n",
       "                  upper_case_per  all_caps  avg_word_len  latin_letters  \\\n",
       "price                  -0.006553 -0.002286      0.029157      -0.003490   \n",
       "item_seq_number         0.027008 -0.005166      0.039038       0.016230   \n",
       "image_top_1             0.081460  0.011117      0.085557       0.156175   \n",
       "deal_probability        0.000957  0.004474      0.041378      -0.003680   \n",
       "upper_case_per          1.000000  0.710454     -0.066318       0.047872   \n",
       "all_caps                0.710454  1.000000     -0.022160      -0.014972   \n",
       "avg_word_len           -0.066318 -0.022160      1.000000       0.018562   \n",
       "latin_letters           0.047872 -0.014972      0.018562       1.000000   \n",
       "sent_num                0.018302 -0.021060      0.061885       0.117090   \n",
       "avg_sent_len            0.039722 -0.013542      0.087737       0.348301   \n",
       "\n",
       "                  sent_num  avg_sent_len  \n",
       "price             0.070424      0.023365  \n",
       "item_seq_number   0.099171      0.062149  \n",
       "image_top_1       0.087741      0.169118  \n",
       "deal_probability  0.004417      0.007912  \n",
       "upper_case_per    0.018302      0.039722  \n",
       "all_caps         -0.021060     -0.013542  \n",
       "avg_word_len      0.061885      0.087737  \n",
       "latin_letters     0.117090      0.348301  \n",
       "sent_num          1.000000     -0.064198  \n",
       "avg_sent_len     -0.064198      1.000000  "
      ]
     },
     "execution_count": 32,
     "metadata": {},
     "output_type": "execute_result"
    }
   ],
   "source": [
    "data.corr()"
   ]
  },
  {
   "cell_type": "code",
   "execution_count": 33,
   "metadata": {},
   "outputs": [],
   "source": [
    "X = data[['upper_case_per', 'all_caps', 'avg_word_len', 'latin_letters', 'sent_num', 'avg_sent_len']].values\n",
    "y = data.deal_probability.values"
   ]
  },
  {
   "cell_type": "code",
   "execution_count": 34,
   "metadata": {},
   "outputs": [],
   "source": [
    "from sklearn.model_selection import train_test_split"
   ]
  },
  {
   "cell_type": "code",
   "execution_count": 35,
   "metadata": {},
   "outputs": [],
   "source": [
    "X_train, X_test, y_train, y_test = train_test_split(X, y, random_state=42)"
   ]
  },
  {
   "cell_type": "code",
   "execution_count": 36,
   "metadata": {},
   "outputs": [],
   "source": [
    "from sklearn.linear_model import LinearRegression, Ridge\n",
    "from sklearn.metrics import mean_squared_error"
   ]
  },
  {
   "cell_type": "code",
   "execution_count": 37,
   "metadata": {},
   "outputs": [],
   "source": [
    "clf = LinearRegression().fit(X_train, y_train)\n",
    "y_pred = clf.predict(X_test)"
   ]
  },
  {
   "cell_type": "code",
   "execution_count": 38,
   "metadata": {
    "scrolled": true
   },
   "outputs": [
    {
     "data": {
      "text/plain": [
       "array([0.1549894 , 0.13676318, 0.14609567, ..., 0.13760842, 0.14376354,\n",
       "       0.14805246])"
      ]
     },
     "execution_count": 38,
     "metadata": {},
     "output_type": "execute_result"
    }
   ],
   "source": [
    "y_pred"
   ]
  },
  {
   "cell_type": "code",
   "execution_count": 39,
   "metadata": {
    "scrolled": true
   },
   "outputs": [
    {
     "data": {
      "text/plain": [
       "0.2633898614650038"
      ]
     },
     "execution_count": 39,
     "metadata": {},
     "output_type": "execute_result"
    }
   ],
   "source": [
    "np.sqrt(mean_squared_error(y_test, y_pred))\n",
    "# Значение на исходных признаках 0.2633314826860365"
   ]
  },
  {
   "cell_type": "markdown",
   "metadata": {},
   "source": [
    "Полученный результат несколько ухудшился."
   ]
  },
  {
   "cell_type": "markdown",
   "metadata": {},
   "source": [
    "#### Обучение на векторном представлении текстов"
   ]
  },
  {
   "cell_type": "code",
   "execution_count": 46,
   "metadata": {},
   "outputs": [],
   "source": [
    "data = pd.read_csv('data.csv')"
   ]
  },
  {
   "cell_type": "code",
   "execution_count": 89,
   "metadata": {},
   "outputs": [],
   "source": [
    "from sklearn.feature_extraction.text import CountVectorizer, TfidfVectorizer\n",
    "from sklearn.metrics import r2_score, mean_squared_error"
   ]
  },
  {
   "cell_type": "code",
   "execution_count": 90,
   "metadata": {},
   "outputs": [],
   "source": [
    "from nltk.corpus import stopwords"
   ]
  },
  {
   "cell_type": "code",
   "execution_count": 94,
   "metadata": {},
   "outputs": [],
   "source": [
    "def eval_result(y_test, y_pred):\n",
    "    print(f'{np.sqrt(mean_squared_error(y_test, y_pred))}')\n",
    "    print(f'{r2_score(y_test, y_pred)}')"
   ]
  },
  {
   "cell_type": "code",
   "execution_count": 150,
   "metadata": {},
   "outputs": [],
   "source": [
    "def eval_model(vec_repr):\n",
    "    X = vec_repr.fit_transform(data.description)\n",
    "    y = data.deal_probability.values\n",
    "    X_train, X_test, y_train, y_test = train_test_split(X, y, random_state=42)\n",
    "    regressor = Ridge(alpha=1).fit(X_train, y_train)\n",
    "    y_pred = regressor.predict(X_test)\n",
    "    eval_result(y_test, y_pred)"
   ]
  },
  {
   "cell_type": "markdown",
   "metadata": {},
   "source": [
    "Использование стоп-слов не дало ощутимого прироста."
   ]
  },
  {
   "cell_type": "code",
   "execution_count": 151,
   "metadata": {},
   "outputs": [
    {
     "name": "stdout",
     "output_type": "stream",
     "text": [
      "0.2514558627097011\n",
      "0.0905340754682128\n"
     ]
    }
   ],
   "source": [
    "cv = CountVectorizer(max_features=1000, min_df=5, max_df=0.4, ngram_range=(1,3),\n",
    "                     stop_words=stopwords.words('russian'))\n",
    "eval_model(cv)"
   ]
  },
  {
   "cell_type": "markdown",
   "metadata": {},
   "source": [
    "Повышение количества фич также не помогает."
   ]
  },
  {
   "cell_type": "code",
   "execution_count": 153,
   "metadata": {},
   "outputs": [
    {
     "name": "stdout",
     "output_type": "stream",
     "text": [
      "0.2527414999858558\n",
      "0.08121051211722075\n"
     ]
    }
   ],
   "source": [
    "cv = CountVectorizer(max_features=5000, min_df=5, max_df=0.4, ngram_range=(1,3),\n",
    "                     stop_words=stopwords.words('russian'))\n",
    "eval_model(cv)"
   ]
  },
  {
   "cell_type": "markdown",
   "metadata": {},
   "source": [
    "Изменение минимальной частоты документов также не повышает качество предсказания."
   ]
  },
  {
   "cell_type": "code",
   "execution_count": 154,
   "metadata": {},
   "outputs": [
    {
     "name": "stdout",
     "output_type": "stream",
     "text": [
      "0.2527401898318976\n",
      "0.08122003768040997\n"
     ]
    }
   ],
   "source": [
    "cv = CountVectorizer(max_features=5000, min_df=3, max_df=0.4, ngram_range=(1,3),\n",
    "                     stop_words=stopwords.words('russian'))\n",
    "eval_model(cv)"
   ]
  },
  {
   "cell_type": "code",
   "execution_count": 155,
   "metadata": {},
   "outputs": [
    {
     "name": "stdout",
     "output_type": "stream",
     "text": [
      "0.2527388159880188\n",
      "0.0812300262524479\n"
     ]
    }
   ],
   "source": [
    "cv = CountVectorizer(max_features=5000, min_df=7, max_df=0.4, ngram_range=(1,3),\n",
    "                     stop_words=stopwords.words('russian'))\n",
    "eval_model(cv)"
   ]
  },
  {
   "cell_type": "markdown",
   "metadata": {},
   "source": [
    "Максимальная частота вообще не влияет."
   ]
  },
  {
   "cell_type": "code",
   "execution_count": 156,
   "metadata": {},
   "outputs": [
    {
     "name": "stdout",
     "output_type": "stream",
     "text": [
      "0.2527414999858558\n",
      "0.08121051211722075\n"
     ]
    }
   ],
   "source": [
    "cv = CountVectorizer(max_features=5000, min_df=5, max_df=0.2, ngram_range=(1,3),\n",
    "                     stop_words=stopwords.words('russian'))\n",
    "eval_model(cv)"
   ]
  },
  {
   "cell_type": "code",
   "execution_count": 157,
   "metadata": {
    "scrolled": true
   },
   "outputs": [
    {
     "name": "stdout",
     "output_type": "stream",
     "text": [
      "0.2527414999858558\n",
      "0.08121051211722075\n"
     ]
    }
   ],
   "source": [
    "cv = CountVectorizer(max_features=5000, min_df=5, max_df=0.7, ngram_range=(1,3),\n",
    "                     stop_words=stopwords.words('russian'))\n",
    "eval_model(cv)"
   ]
  },
  {
   "cell_type": "markdown",
   "metadata": {},
   "source": [
    "Отказ от использования триграмов несколько повысил качество."
   ]
  },
  {
   "cell_type": "code",
   "execution_count": 158,
   "metadata": {},
   "outputs": [
    {
     "name": "stdout",
     "output_type": "stream",
     "text": [
      "0.25266534445788547\n",
      "0.08176412406307465\n"
     ]
    }
   ],
   "source": [
    "cv = CountVectorizer(max_features=5000, min_df=5, max_df=0.7, ngram_range=(1,2),\n",
    "                     stop_words=stopwords.words('russian'))\n",
    "eval_model(cv)"
   ]
  },
  {
   "cell_type": "markdown",
   "metadata": {},
   "source": [
    "Использование стоп-слов в модели Tf-Idf кажется более полезным."
   ]
  },
  {
   "cell_type": "code",
   "execution_count": 163,
   "metadata": {
    "scrolled": true
   },
   "outputs": [
    {
     "name": "stdout",
     "output_type": "stream",
     "text": [
      "0.2483492774474999\n",
      "0.11286706674186087\n"
     ]
    }
   ],
   "source": [
    "tf = TfidfVectorizer(max_features=1000, min_df=5, max_df=0.4, stop_words=stopwords.words('russian'))\n",
    "eval_model(tf)"
   ]
  },
  {
   "cell_type": "markdown",
   "metadata": {},
   "source": [
    "Повышение количества фич также улучшает качество."
   ]
  },
  {
   "cell_type": "code",
   "execution_count": 164,
   "metadata": {
    "scrolled": true
   },
   "outputs": [
    {
     "name": "stdout",
     "output_type": "stream",
     "text": [
      "0.24772994342604907\n",
      "0.11728621807444306\n"
     ]
    }
   ],
   "source": [
    "tf = TfidfVectorizer(max_features=7000, min_df=5, max_df=0.4, stop_words=stopwords.words('russian'))\n",
    "eval_model(tf)"
   ]
  },
  {
   "cell_type": "markdown",
   "metadata": {},
   "source": [
    "Увеличение минимально частоты документов оказалось полезным."
   ]
  },
  {
   "cell_type": "code",
   "execution_count": 165,
   "metadata": {},
   "outputs": [
    {
     "name": "stdout",
     "output_type": "stream",
     "text": [
      "0.24774394329127347\n",
      "0.11718644633917663\n"
     ]
    }
   ],
   "source": [
    "tf = TfidfVectorizer(max_features=7000, min_df=3, max_df=0.4, stop_words=stopwords.words('russian'))\n",
    "eval_model(tf)"
   ]
  },
  {
   "cell_type": "code",
   "execution_count": 166,
   "metadata": {
    "scrolled": true
   },
   "outputs": [
    {
     "name": "stdout",
     "output_type": "stream",
     "text": [
      "0.2477109359427215\n",
      "0.11742166818269262\n"
     ]
    }
   ],
   "source": [
    "tf = TfidfVectorizer(max_features=7000, min_df=7, max_df=0.4, stop_words=stopwords.words('russian'))\n",
    "eval_model(tf)"
   ]
  },
  {
   "cell_type": "markdown",
   "metadata": {},
   "source": [
    "Максимальная частота похоже ничего не меняет."
   ]
  },
  {
   "cell_type": "code",
   "execution_count": 167,
   "metadata": {},
   "outputs": [
    {
     "name": "stdout",
     "output_type": "stream",
     "text": [
      "0.2477109359427215\n",
      "0.11742166818269262\n"
     ]
    }
   ],
   "source": [
    "tf = TfidfVectorizer(max_features=7000, min_df=7, max_df=0.2, stop_words=stopwords.words('russian'))\n",
    "eval_model(tf)"
   ]
  },
  {
   "cell_type": "code",
   "execution_count": 168,
   "metadata": {},
   "outputs": [
    {
     "name": "stdout",
     "output_type": "stream",
     "text": [
      "0.2477109359427215\n",
      "0.11742166818269262\n"
     ]
    }
   ],
   "source": [
    "tf = TfidfVectorizer(max_features=7000, min_df=7, max_df=0.7, stop_words=stopwords.words('russian'))\n",
    "eval_model(tf)"
   ]
  },
  {
   "cell_type": "markdown",
   "metadata": {},
   "source": [
    "Использование большего количества моделей не улучшает качество."
   ]
  },
  {
   "cell_type": "code",
   "execution_count": 169,
   "metadata": {},
   "outputs": [
    {
     "name": "stdout",
     "output_type": "stream",
     "text": [
      "0.24786959550466828\n",
      "0.11629071822586978\n"
     ]
    }
   ],
   "source": [
    "tf = TfidfVectorizer(max_features=7000, min_df=7, max_df=0.2, stop_words=stopwords.words('russian'), ngram_range=(1, 2))\n",
    "eval_model(tf)"
   ]
  },
  {
   "cell_type": "code",
   "execution_count": 170,
   "metadata": {},
   "outputs": [
    {
     "name": "stdout",
     "output_type": "stream",
     "text": [
      "0.24784038380504242\n",
      "0.11649899813935427\n"
     ]
    }
   ],
   "source": [
    "tf = TfidfVectorizer(max_features=7000, min_df=7, max_df=0.2, stop_words=stopwords.words('russian'), ngram_range=(1, 3))\n",
    "eval_model(tf)"
   ]
  },
  {
   "cell_type": "markdown",
   "metadata": {},
   "source": [
    "Использование логарифма от частоты терминов даёт некоторый прирост."
   ]
  },
  {
   "cell_type": "code",
   "execution_count": 172,
   "metadata": {},
   "outputs": [
    {
     "name": "stdout",
     "output_type": "stream",
     "text": [
      "0.24761835964396067\n",
      "0.1180812318565474\n"
     ]
    }
   ],
   "source": [
    "tf = TfidfVectorizer(max_features=7000, min_df=7, max_df=0.2, stop_words=stopwords.words('russian'), sublinear_tf=True)\n",
    "eval_model(tf)"
   ]
  },
  {
   "cell_type": "code",
   "execution_count": null,
   "metadata": {},
   "outputs": [],
   "source": []
  }
 ],
 "metadata": {
  "kernelspec": {
   "display_name": "Python 3",
   "language": "python",
   "name": "python3"
  },
  "language_info": {
   "codemirror_mode": {
    "name": "ipython",
    "version": 3
   },
   "file_extension": ".py",
   "mimetype": "text/x-python",
   "name": "python",
   "nbconvert_exporter": "python",
   "pygments_lexer": "ipython3",
   "version": "3.7.6"
  }
 },
 "nbformat": 4,
 "nbformat_minor": 2
}
