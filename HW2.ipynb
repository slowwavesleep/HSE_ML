{
 "cells": [
  {
   "cell_type": "markdown",
   "metadata": {},
   "source": [
    "В качестве домашнего задания мы предлагаем вам решить задачу бинарной классификации на большом корпусе imdb рецензий на фильмы. \n",
    "Корпус можно скачать по ссылке http://ai.stanford.edu/~amaas/data/sentiment/\n",
    "\n",
    "Ваша задача в sklearn, используя три разных алгоритма, построить и обучить классификаторы, для каждого из них посчитать метрики качества. Постройте ROC кривую и посчитайте величину ROC AUC. Выберите лучший классификатор.\n",
    "\n",
    "Используя предсказания вероятностей класса, найдите 15 самых негативных и самых позитивных рецензий по мнению модели.  - 7 баллов\n",
    "\n",
    "Написать свои функции, которые бы считали tp, fp, tn, fn, и возвращали точность, полноту и ф-меру и применить их к результатам, полученным вашими классификаторами (если все сделано правильно, то результаты должны совпадать с полученными  sklearn метриками). - 3 балла"
   ]
  },
  {
   "cell_type": "code",
   "execution_count": 194,
   "metadata": {},
   "outputs": [],
   "source": [
    "import os\n",
    "import sys\n",
    "import numpy as np\n",
    "import pandas as pd\n",
    "\n",
    "from matplotlib import pyplot as plt\n",
    "\n",
    "from sklearn.metrics import roc_auc_score, roc_curve, f1_score, precision_score, recall_score\n",
    "from sklearn.linear_model import LogisticRegression\n",
    "from sklearn.model_selection import train_test_split\n",
    "from sklearn.feature_extraction.text import TfidfVectorizer\n",
    "from sklearn.svm import LinearSVC\n",
    "from sklearn.tree import DecisionTreeClassifier\n",
    "from sklearn.neighbors import KNeighborsClassifier\n",
    "\n",
    "import warnings\n",
    "warnings.filterwarnings('ignore')"
   ]
  },
  {
   "cell_type": "code",
   "execution_count": 195,
   "metadata": {},
   "outputs": [],
   "source": [
    "def load_files(directory):\n",
    "    sentences = []\n",
    "    for file in os.listdir(directory):\n",
    "        path = directory + '\\\\' + file\n",
    "        with open(path, 'r', encoding='utf-8') as file:\n",
    "            sentences.append(file.readlines()[0])\n",
    "    return sentences\n",
    "    \n",
    "\n",
    "def read_texts(directory):\n",
    "    \n",
    "    directory = os.getcwd() + directory\n",
    "    neg_directory = directory + '\\\\neg'\n",
    "    pos_directory = directory + '\\\\pos'\n",
    "    neg_sentences = load_files(neg_directory)\n",
    "    pos_sentences = load_files(pos_directory)\n",
    "    \n",
    "    neg_index = np.arange(len(neg_sentences))\n",
    "    pos_index = np.arange(len(neg_sentences), len(neg_sentences) + len(pos_sentences))\n",
    "    \n",
    "    neg_sentences = pd.Series(neg_sentences, index=neg_index)\n",
    "    pos_sentences = pd.Series(pos_sentences, index=pos_index)\n",
    "    \n",
    "    sentences = pd.concat([neg_sentences, pos_sentences])\n",
    "    sentiment_values = pd.concat([pd.Series(0, index=neg_index),\n",
    "                                  pd.Series(1, index=pos_index)])\n",
    "    \n",
    "    df = pd.concat([sentences, sentiment_values], axis=1)\n",
    "    df.columns = ['text', 'sentiment']\n",
    "    \n",
    "    return df"
   ]
  },
  {
   "cell_type": "code",
   "execution_count": 196,
   "metadata": {},
   "outputs": [],
   "source": [
    "train_data = read_texts('\\\\aclImdb\\\\train')\n",
    "#test_data = read_texts('\\\\aclImdb\\\\test')"
   ]
  },
  {
   "cell_type": "code",
   "execution_count": 232,
   "metadata": {},
   "outputs": [],
   "source": [
    "train, test = train_test_split(train_data, test_size=0.2, random_state=0)"
   ]
  },
  {
   "cell_type": "code",
   "execution_count": 233,
   "metadata": {},
   "outputs": [],
   "source": [
    "train.reset_index(inplace=True)"
   ]
  },
  {
   "cell_type": "code",
   "execution_count": 234,
   "metadata": {},
   "outputs": [],
   "source": [
    "test.reset_index(inplace=True)"
   ]
  },
  {
   "cell_type": "code",
   "execution_count": 235,
   "metadata": {},
   "outputs": [
    {
     "data": {
      "text/plain": [
       "TfidfVectorizer(analyzer='word', binary=False, decode_error='strict',\n",
       "                dtype=<class 'numpy.float64'>, encoding='utf-8',\n",
       "                input='content', lowercase=True, max_df=1.0, max_features=None,\n",
       "                min_df=1, ngram_range=(1, 1), norm='l2', preprocessor=None,\n",
       "                smooth_idf=True, stop_words=None, strip_accents=None,\n",
       "                sublinear_tf=False, token_pattern='(?u)\\\\b\\\\w\\\\w+\\\\b',\n",
       "                tokenizer=None, use_idf=True, vocabulary=None)"
      ]
     },
     "execution_count": 235,
     "metadata": {},
     "output_type": "execute_result"
    }
   ],
   "source": [
    "vec = TfidfVectorizer()\n",
    "vec.fit(train.text.values)"
   ]
  },
  {
   "cell_type": "code",
   "execution_count": 236,
   "metadata": {},
   "outputs": [],
   "source": [
    "X_train = vec.transform(train.text)\n",
    "X_test = vec.transform(test.text)"
   ]
  },
  {
   "cell_type": "code",
   "execution_count": 237,
   "metadata": {},
   "outputs": [],
   "source": [
    "y_train = train.sentiment\n",
    "y_test = test.sentiment"
   ]
  },
  {
   "cell_type": "code",
   "execution_count": 238,
   "metadata": {},
   "outputs": [],
   "source": [
    "log_reg = LogisticRegression(solver='liblinear')\n",
    "knn = KNeighborsClassifier()\n",
    "dt = DecisionTreeClassifier()"
   ]
  },
  {
   "cell_type": "code",
   "execution_count": 239,
   "metadata": {},
   "outputs": [],
   "source": [
    "def eval_model(X_train, X_test, y_train, y_test, model):\n",
    "    model.fit(X_train, y_train)\n",
    "    y_pred = model.predict(X_test)\n",
    "    y_pred_proba = model.predict_proba(X_test)\n",
    "    \n",
    "    f1 = f1_score(y_test, y_pred)\n",
    "    roc = roc_auc_score(y_test, y_pred)\n",
    "    pr = precision_score(y_test, y_pred)\n",
    "    rec = recall_score(y_test, y_pred)\n",
    "    \n",
    "    fpr, tpr, _ = roc_curve(y_test, y_pred)\n",
    "    plt.plot(fpr, tpr, marker='.', label='Test')\n",
    "    plt.xlabel('False Positive Rate')\n",
    "    plt.ylabel('True Positive Rate')\n",
    "    plt.legend()\n",
    "    \n",
    "    print('\\n')\n",
    "    print(f'f-score of the model is {f1}')\n",
    "    print(f'ROC AUC score of the model is {roc}')\n",
    "    print(f'Precision is {pr}')\n",
    "    print(f'Recall is {rec}')\n",
    "    print('\\n\\n\\n')\n",
    "    plt.show()\n",
    "    \n",
    "    return y_pred, y_pred_proba, f1, pr, rec"
   ]
  },
  {
   "cell_type": "code",
   "execution_count": 240,
   "metadata": {},
   "outputs": [
    {
     "name": "stdout",
     "output_type": "stream",
     "text": [
      "\n",
      "\n",
      "f-score of the model is 0.8864309697807624\n",
      "ROC AUC score of the model is 0.8849821055541902\n",
      "Precision is 0.876905041031653\n",
      "Recall is 0.8961661341853036\n",
      "\n",
      "\n",
      "\n",
      "\n"
     ]
    },
    {
     "data": {
      "image/png": "[encoded data removed]",
      "text/plain": [
       "<Figure size 432x288 with 1 Axes>"
      ]
     },
     "metadata": {
      "needs_background": "light"
     },
     "output_type": "display_data"
    }
   ],
   "source": [
    "log_pred, log_pred_proba, log_f1, log_pr, log_rec = eval_model(X_train, X_test, y_train, y_test, log_reg)"
   ]
  },
  {
   "cell_type": "code",
   "execution_count": 241,
   "metadata": {},
   "outputs": [
    {
     "name": "stdout",
     "output_type": "stream",
     "text": [
      "\n",
      "\n",
      "f-score of the model is 0.7797348110033643\n",
      "ROC AUC score of the model is 0.7773850301056769\n",
      "Precision is 0.7728520988622989\n",
      "Recall is 0.786741214057508\n",
      "\n",
      "\n",
      "\n",
      "\n"
     ]
    },
    {
     "data": {
      "image/png": "[encoded data removed]",
      "text/plain": [
       "<Figure size 432x288 with 1 Axes>"
      ]
     },
     "metadata": {
      "needs_background": "light"
     },
     "output_type": "display_data"
    }
   ],
   "source": [
    "knn_pred, knn_pred_proba, knn_f1, knn_pr, knn_rec = eval_model(X_train, X_test, y_train, y_test, knn)"
   ]
  },
  {
   "cell_type": "code",
   "execution_count": 242,
   "metadata": {
    "scrolled": false
   },
   "outputs": [
    {
     "name": "stdout",
     "output_type": "stream",
     "text": [
      "\n",
      "\n",
      "f-score of the model is 0.7147644391878573\n",
      "ROC AUC score of the model is 0.7105784590808553\n",
      "Precision is 0.7057220708446866\n",
      "Recall is 0.7240415335463258\n",
      "\n",
      "\n",
      "\n",
      "\n"
     ]
    },
    {
     "data": {
      "image/png": "[encoded data removed]",
      "text/plain": [
       "<Figure size 432x288 with 1 Axes>"
      ]
     },
     "metadata": {
      "needs_background": "light"
     },
     "output_type": "display_data"
    }
   ],
   "source": [
    "dt_pred, dt_pred_proba, dt_f1, dt_pr, dt_rec = eval_model(X_train, X_test, y_train, y_test, dt)"
   ]
  },
  {
   "cell_type": "markdown",
   "metadata": {},
   "source": [
    "### Оценка моделей"
   ]
  },
  {
   "cell_type": "markdown",
   "metadata": {},
   "source": [
    "Лучшим классификатором оказалась *логистическая регрессия*."
   ]
  },
  {
   "cell_type": "code",
   "execution_count": 243,
   "metadata": {},
   "outputs": [],
   "source": [
    "test['proba_0'] = log_pred_proba[:, 0]\n",
    "test['proba_1'] = log_pred_proba[:, 1]"
   ]
  },
  {
   "cell_type": "markdown",
   "metadata": {},
   "source": [
    "Самые негативные отзывы по мнению модели."
   ]
  },
  {
   "cell_type": "code",
   "execution_count": 244,
   "metadata": {
    "scrolled": false
   },
   "outputs": [
    {
     "data": {
      "text/html": [
       "<div>\n",
       "<style scoped>\n",
       "    .dataframe tbody tr th:only-of-type {\n",
       "        vertical-align: middle;\n",
       "    }\n",
       "\n",
       "    .dataframe tbody tr th {\n",
       "        vertical-align: top;\n",
       "    }\n",
       "\n",
       "    .dataframe thead th {\n",
       "        text-align: right;\n",
       "    }\n",
       "</style>\n",
       "<table border=\"1\" class=\"dataframe\">\n",
       "  <thead>\n",
       "    <tr style=\"text-align: right;\">\n",
       "      <th></th>\n",
       "      <th>index</th>\n",
       "      <th>text</th>\n",
       "      <th>sentiment</th>\n",
       "      <th>proba_0</th>\n",
       "      <th>proba_1</th>\n",
       "    </tr>\n",
       "  </thead>\n",
       "  <tbody>\n",
       "    <tr>\n",
       "      <th>73</th>\n",
       "      <td>11389</td>\n",
       "      <td>When I rented this I was hoping for what \"Reig...</td>\n",
       "      <td>0</td>\n",
       "      <td>0.999207</td>\n",
       "      <td>0.000793</td>\n",
       "    </tr>\n",
       "    <tr>\n",
       "      <th>2575</th>\n",
       "      <td>8562</td>\n",
       "      <td>I guess I've seen worse films, but that may be...</td>\n",
       "      <td>0</td>\n",
       "      <td>0.998933</td>\n",
       "      <td>0.001067</td>\n",
       "    </tr>\n",
       "    <tr>\n",
       "      <th>2667</th>\n",
       "      <td>11738</td>\n",
       "      <td>This movie was so bad! It was terrible! It was...</td>\n",
       "      <td>0</td>\n",
       "      <td>0.998637</td>\n",
       "      <td>0.001363</td>\n",
       "    </tr>\n",
       "    <tr>\n",
       "      <th>388</th>\n",
       "      <td>11563</td>\n",
       "      <td>Oh my GOD. I bought this movie and...I...watch...</td>\n",
       "      <td>0</td>\n",
       "      <td>0.998620</td>\n",
       "      <td>0.001380</td>\n",
       "    </tr>\n",
       "    <tr>\n",
       "      <th>4817</th>\n",
       "      <td>8173</td>\n",
       "      <td>This was just horrible the plot was just OK, b...</td>\n",
       "      <td>0</td>\n",
       "      <td>0.998226</td>\n",
       "      <td>0.001774</td>\n",
       "    </tr>\n",
       "    <tr>\n",
       "      <th>187</th>\n",
       "      <td>9652</td>\n",
       "      <td>This movie is an utter waste of time, the plot...</td>\n",
       "      <td>0</td>\n",
       "      <td>0.997816</td>\n",
       "      <td>0.002184</td>\n",
       "    </tr>\n",
       "    <tr>\n",
       "      <th>4672</th>\n",
       "      <td>2769</td>\n",
       "      <td>Bad acting, bad lighting, bad plot!! This had ...</td>\n",
       "      <td>0</td>\n",
       "      <td>0.997792</td>\n",
       "      <td>0.002208</td>\n",
       "    </tr>\n",
       "    <tr>\n",
       "      <th>3930</th>\n",
       "      <td>2783</td>\n",
       "      <td>The acting was bad, the script was bad and the...</td>\n",
       "      <td>0</td>\n",
       "      <td>0.997762</td>\n",
       "      <td>0.002238</td>\n",
       "    </tr>\n",
       "    <tr>\n",
       "      <th>3458</th>\n",
       "      <td>8835</td>\n",
       "      <td>i can't figure out who greenlighted this thing...</td>\n",
       "      <td>0</td>\n",
       "      <td>0.997588</td>\n",
       "      <td>0.002412</td>\n",
       "    </tr>\n",
       "    <tr>\n",
       "      <th>3985</th>\n",
       "      <td>10011</td>\n",
       "      <td>After a series of power-outages on a remote is...</td>\n",
       "      <td>0</td>\n",
       "      <td>0.997103</td>\n",
       "      <td>0.002897</td>\n",
       "    </tr>\n",
       "    <tr>\n",
       "      <th>4167</th>\n",
       "      <td>12077</td>\n",
       "      <td>IT IS A PIECE OF CRAP! not funny at all. durin...</td>\n",
       "      <td>0</td>\n",
       "      <td>0.996987</td>\n",
       "      <td>0.003013</td>\n",
       "    </tr>\n",
       "    <tr>\n",
       "      <th>796</th>\n",
       "      <td>11838</td>\n",
       "      <td>I just finished watching this on TV and what c...</td>\n",
       "      <td>0</td>\n",
       "      <td>0.996975</td>\n",
       "      <td>0.003025</td>\n",
       "    </tr>\n",
       "    <tr>\n",
       "      <th>279</th>\n",
       "      <td>10541</td>\n",
       "      <td>This film was positively the worst film I have...</td>\n",
       "      <td>0</td>\n",
       "      <td>0.996664</td>\n",
       "      <td>0.003336</td>\n",
       "    </tr>\n",
       "    <tr>\n",
       "      <th>975</th>\n",
       "      <td>12052</td>\n",
       "      <td>Boring, badly written Italian exploitation fli...</td>\n",
       "      <td>0</td>\n",
       "      <td>0.996613</td>\n",
       "      <td>0.003387</td>\n",
       "    </tr>\n",
       "    <tr>\n",
       "      <th>4242</th>\n",
       "      <td>1553</td>\n",
       "      <td>i cannot believe i wasted 80 minutes of my lif...</td>\n",
       "      <td>0</td>\n",
       "      <td>0.996293</td>\n",
       "      <td>0.003707</td>\n",
       "    </tr>\n",
       "  </tbody>\n",
       "</table>\n",
       "</div>"
      ],
      "text/plain": [
       "      index                                               text  sentiment  \\\n",
       "73    11389  When I rented this I was hoping for what \"Reig...          0   \n",
       "2575   8562  I guess I've seen worse films, but that may be...          0   \n",
       "2667  11738  This movie was so bad! It was terrible! It was...          0   \n",
       "388   11563  Oh my GOD. I bought this movie and...I...watch...          0   \n",
       "4817   8173  This was just horrible the plot was just OK, b...          0   \n",
       "187    9652  This movie is an utter waste of time, the plot...          0   \n",
       "4672   2769  Bad acting, bad lighting, bad plot!! This had ...          0   \n",
       "3930   2783  The acting was bad, the script was bad and the...          0   \n",
       "3458   8835  i can't figure out who greenlighted this thing...          0   \n",
       "3985  10011  After a series of power-outages on a remote is...          0   \n",
       "4167  12077  IT IS A PIECE OF CRAP! not funny at all. durin...          0   \n",
       "796   11838  I just finished watching this on TV and what c...          0   \n",
       "279   10541  This film was positively the worst film I have...          0   \n",
       "975   12052  Boring, badly written Italian exploitation fli...          0   \n",
       "4242   1553  i cannot believe i wasted 80 minutes of my lif...          0   \n",
       "\n",
       "       proba_0   proba_1  \n",
       "73    0.999207  0.000793  \n",
       "2575  0.998933  0.001067  \n",
       "2667  0.998637  0.001363  \n",
       "388   0.998620  0.001380  \n",
       "4817  0.998226  0.001774  \n",
       "187   0.997816  0.002184  \n",
       "4672  0.997792  0.002208  \n",
       "3930  0.997762  0.002238  \n",
       "3458  0.997588  0.002412  \n",
       "3985  0.997103  0.002897  \n",
       "4167  0.996987  0.003013  \n",
       "796   0.996975  0.003025  \n",
       "279   0.996664  0.003336  \n",
       "975   0.996613  0.003387  \n",
       "4242  0.996293  0.003707  "
      ]
     },
     "execution_count": 244,
     "metadata": {},
     "output_type": "execute_result"
    }
   ],
   "source": [
    "most_negative = test.sort_values(by='proba_0', ascending=False).head(15)\n",
    "most_negative"
   ]
  },
  {
   "cell_type": "markdown",
   "metadata": {},
   "source": [
    "Посмотрим на некоторые из них:"
   ]
  },
  {
   "cell_type": "code",
   "execution_count": 245,
   "metadata": {},
   "outputs": [
    {
     "data": {
      "text/plain": [
       "array(['This movie was so bad! It was terrible! It was awful! I cannot stress it enough! The acting, directing, story, characters and everything about it was bad! It was so corny and clichéd. Don\\'t be fooled by the cover, or the tag line \"The \\'texas massacre\\' is nothing to laugh at.\" Are you frogging\\' kidding me! It was ridiculous.<br /><br />The first 2 minutes of the film is good until it gets to the main character Brendan, OK now turn it off. What I got from the film was, A bunch of ugly, annoying and immature people go to a cabin in the middle of the woods and a clown that sings nursery rhymes kills them in unoriginal and fake ways.<br /><br />This movie was a waste of my time and money, and it would be a waste of your money and time too! I fast forward through most of the movie because it was so terrible, I just wanted to see how each bad actor died, and it STILL wasn\\'t worth it! Just looking at the cover is a waste of time. This IS seriously THE worst movie EVER! Rating: doesn\\'t deserve one.',\n",
       "       \"I guess I've seen worse films, but that may be becuz I'm so jaded by how standard these bad horror movies are. The killer monster thing is really really bad, basically its a guy in some kind of green body suit. There is much worse acting as far as B movie go, but don't think for a second this was anything stellar, hell no. It actually did have a plot with substance, but was still pretty stupid. Basically its just a bad low budget horror movie. But at least its not as bad as titanic, that movie sucks balls, this one just sucks. The blood looks really fake in this movie. Thats one complaint I have about all the horror of the new millinium, low grade gore, looks stupid. A good gruesome death scene with really fake blood is so stupid. At least there was a nice shower scene\",\n",
       "       'The acting was bad, the script was bad and the ending was just terrible...the only good comment i could make about this movie would be the special effects and make up...but apart from that...this movie would be one of the worst movies of 2001...why on earth did they have to remake such a perfect movie and ruin it...why!!!!'],\n",
       "      dtype=object)"
      ]
     },
     "execution_count": 245,
     "metadata": {},
     "output_type": "execute_result"
    }
   ],
   "source": [
    "most_negative.sample(3).text.values"
   ]
  },
  {
   "cell_type": "markdown",
   "metadata": {},
   "source": [
    "Самые позитивные отзывы."
   ]
  },
  {
   "cell_type": "code",
   "execution_count": 246,
   "metadata": {
    "scrolled": false
   },
   "outputs": [
    {
     "data": {
      "text/html": [
       "<div>\n",
       "<style scoped>\n",
       "    .dataframe tbody tr th:only-of-type {\n",
       "        vertical-align: middle;\n",
       "    }\n",
       "\n",
       "    .dataframe tbody tr th {\n",
       "        vertical-align: top;\n",
       "    }\n",
       "\n",
       "    .dataframe thead th {\n",
       "        text-align: right;\n",
       "    }\n",
       "</style>\n",
       "<table border=\"1\" class=\"dataframe\">\n",
       "  <thead>\n",
       "    <tr style=\"text-align: right;\">\n",
       "      <th></th>\n",
       "      <th>index</th>\n",
       "      <th>text</th>\n",
       "      <th>sentiment</th>\n",
       "      <th>proba_0</th>\n",
       "      <th>proba_1</th>\n",
       "    </tr>\n",
       "  </thead>\n",
       "  <tbody>\n",
       "    <tr>\n",
       "      <th>3770</th>\n",
       "      <td>18680</td>\n",
       "      <td>If you have not seen this excellent movie abou...</td>\n",
       "      <td>1</td>\n",
       "      <td>0.001977</td>\n",
       "      <td>0.998023</td>\n",
       "    </tr>\n",
       "    <tr>\n",
       "      <th>3530</th>\n",
       "      <td>13356</td>\n",
       "      <td>This movie has an all star cast, John Candy, R...</td>\n",
       "      <td>1</td>\n",
       "      <td>0.002623</td>\n",
       "      <td>0.997377</td>\n",
       "    </tr>\n",
       "    <tr>\n",
       "      <th>3275</th>\n",
       "      <td>21505</td>\n",
       "      <td>This is a taut suspenseful masterpiece from Br...</td>\n",
       "      <td>1</td>\n",
       "      <td>0.003043</td>\n",
       "      <td>0.996957</td>\n",
       "    </tr>\n",
       "    <tr>\n",
       "      <th>45</th>\n",
       "      <td>13420</td>\n",
       "      <td>I watched the movie in a preview and I really ...</td>\n",
       "      <td>1</td>\n",
       "      <td>0.003341</td>\n",
       "      <td>0.996659</td>\n",
       "    </tr>\n",
       "    <tr>\n",
       "      <th>308</th>\n",
       "      <td>15877</td>\n",
       "      <td>I love this film and it is such a wonderful ex...</td>\n",
       "      <td>1</td>\n",
       "      <td>0.004372</td>\n",
       "      <td>0.995628</td>\n",
       "    </tr>\n",
       "    <tr>\n",
       "      <th>1951</th>\n",
       "      <td>15030</td>\n",
       "      <td>well, i said it all in the summary, i simpley ...</td>\n",
       "      <td>1</td>\n",
       "      <td>0.005224</td>\n",
       "      <td>0.994776</td>\n",
       "    </tr>\n",
       "    <tr>\n",
       "      <th>1818</th>\n",
       "      <td>21846</td>\n",
       "      <td>This is one of my favorite films of all time. ...</td>\n",
       "      <td>1</td>\n",
       "      <td>0.007261</td>\n",
       "      <td>0.992739</td>\n",
       "    </tr>\n",
       "    <tr>\n",
       "      <th>1713</th>\n",
       "      <td>20993</td>\n",
       "      <td>For me,this is one of the best movies i ever s...</td>\n",
       "      <td>1</td>\n",
       "      <td>0.008021</td>\n",
       "      <td>0.991979</td>\n",
       "    </tr>\n",
       "    <tr>\n",
       "      <th>4990</th>\n",
       "      <td>21676</td>\n",
       "      <td>I thought this was a wonderful movie. It touch...</td>\n",
       "      <td>1</td>\n",
       "      <td>0.008201</td>\n",
       "      <td>0.991799</td>\n",
       "    </tr>\n",
       "    <tr>\n",
       "      <th>2778</th>\n",
       "      <td>13417</td>\n",
       "      <td>I have rarely emerged from viewing a film with...</td>\n",
       "      <td>1</td>\n",
       "      <td>0.008385</td>\n",
       "      <td>0.991615</td>\n",
       "    </tr>\n",
       "    <tr>\n",
       "      <th>287</th>\n",
       "      <td>16112</td>\n",
       "      <td>I took part in a little mini production of thi...</td>\n",
       "      <td>1</td>\n",
       "      <td>0.009274</td>\n",
       "      <td>0.990726</td>\n",
       "    </tr>\n",
       "    <tr>\n",
       "      <th>4578</th>\n",
       "      <td>23922</td>\n",
       "      <td>This film caught me by surprise. My friend tol...</td>\n",
       "      <td>1</td>\n",
       "      <td>0.009319</td>\n",
       "      <td>0.990681</td>\n",
       "    </tr>\n",
       "    <tr>\n",
       "      <th>2614</th>\n",
       "      <td>24482</td>\n",
       "      <td>Road to Perdition, a movie undeservedly overlo...</td>\n",
       "      <td>1</td>\n",
       "      <td>0.009392</td>\n",
       "      <td>0.990608</td>\n",
       "    </tr>\n",
       "    <tr>\n",
       "      <th>4427</th>\n",
       "      <td>23272</td>\n",
       "      <td>What can I say? An excellent end to an excelle...</td>\n",
       "      <td>1</td>\n",
       "      <td>0.009534</td>\n",
       "      <td>0.990466</td>\n",
       "    </tr>\n",
       "    <tr>\n",
       "      <th>2185</th>\n",
       "      <td>15285</td>\n",
       "      <td>I've read a number of reviews on this film and...</td>\n",
       "      <td>1</td>\n",
       "      <td>0.009839</td>\n",
       "      <td>0.990161</td>\n",
       "    </tr>\n",
       "  </tbody>\n",
       "</table>\n",
       "</div>"
      ],
      "text/plain": [
       "      index                                               text  sentiment  \\\n",
       "3770  18680  If you have not seen this excellent movie abou...          1   \n",
       "3530  13356  This movie has an all star cast, John Candy, R...          1   \n",
       "3275  21505  This is a taut suspenseful masterpiece from Br...          1   \n",
       "45    13420  I watched the movie in a preview and I really ...          1   \n",
       "308   15877  I love this film and it is such a wonderful ex...          1   \n",
       "1951  15030  well, i said it all in the summary, i simpley ...          1   \n",
       "1818  21846  This is one of my favorite films of all time. ...          1   \n",
       "1713  20993  For me,this is one of the best movies i ever s...          1   \n",
       "4990  21676  I thought this was a wonderful movie. It touch...          1   \n",
       "2778  13417  I have rarely emerged from viewing a film with...          1   \n",
       "287   16112  I took part in a little mini production of thi...          1   \n",
       "4578  23922  This film caught me by surprise. My friend tol...          1   \n",
       "2614  24482  Road to Perdition, a movie undeservedly overlo...          1   \n",
       "4427  23272  What can I say? An excellent end to an excelle...          1   \n",
       "2185  15285  I've read a number of reviews on this film and...          1   \n",
       "\n",
       "       proba_0   proba_1  \n",
       "3770  0.001977  0.998023  \n",
       "3530  0.002623  0.997377  \n",
       "3275  0.003043  0.996957  \n",
       "45    0.003341  0.996659  \n",
       "308   0.004372  0.995628  \n",
       "1951  0.005224  0.994776  \n",
       "1818  0.007261  0.992739  \n",
       "1713  0.008021  0.991979  \n",
       "4990  0.008201  0.991799  \n",
       "2778  0.008385  0.991615  \n",
       "287   0.009274  0.990726  \n",
       "4578  0.009319  0.990681  \n",
       "2614  0.009392  0.990608  \n",
       "4427  0.009534  0.990466  \n",
       "2185  0.009839  0.990161  "
      ]
     },
     "execution_count": 246,
     "metadata": {},
     "output_type": "execute_result"
    }
   ],
   "source": [
    "most_positive = test.sort_values(by='proba_1', ascending=False).head(15)\n",
    "most_positive"
   ]
  },
  {
   "cell_type": "code",
   "execution_count": 247,
   "metadata": {},
   "outputs": [
    {
     "data": {
      "text/plain": [
       "array(['This movie has an all star cast, John Candy, Richard Lewis, Ornella Mutti, Cybill Shepard, and Jim Belushi to name a few, run amuck in Monte Carlo, as well as some other beautiful European locations, and is very funny. The trouble that everyone gets in when they lie to protect themselves is great, and I highly recommend that you see this movie, it is well worth it! John Candy is in top form in Once Upon A Crime, as is everyone else! If you and your family are looking for a great family film, this is your ticket. Everyone gives stellar performances, great acting, great comedy, and great timing, which is rare in movies these days. Great plot, great mystery, (which I love anyways) and overall, well worth the money you spend on it. So get the kids, grab some popcorn, juice, or tea, or sodas, and enjoy the show!!!!',\n",
       "       'What can I say? An excellent end to an excellent series! It never quite got the exposure it deserved in Asia, but by far, the best cop show with the best writing and the best cast on televison. EVER! The end of a great era. Sorry to see you go...',\n",
       "       'This film caught me by surprise. My friend told me that this movie was a \"chick flick.\" Boy, was he wrong! This movie has a great family appeal, with no sex scenes like _other_ movies. Jake Gyllenhaal does an excellent job in Homer Hickam\\'s shoes. The supporting cast is great, as well.<br /><br />Science, coming-of-age, family quarrels, a great train scene... This film has it all. The soundtrack is good, although the score is presented quite choppily. The 50s music kicks the movie over the edge of greatness.<br /><br />The DVD is definitely worth its weigh in coal. Replay value is great - I\\'ve seen it quite a few times already.'],\n",
       "      dtype=object)"
      ]
     },
     "execution_count": 247,
     "metadata": {},
     "output_type": "execute_result"
    }
   ],
   "source": [
    "most_positive.sample(3).text.values"
   ]
  },
  {
   "cell_type": "markdown",
   "metadata": {},
   "source": [
    "### Функции оценки качества предсказаний"
   ]
  },
  {
   "cell_type": "code",
   "execution_count": 248,
   "metadata": {},
   "outputs": [],
   "source": [
    "def tp(true, pred):\n",
    "    if true and pred:\n",
    "        return True\n",
    "    else:\n",
    "        return False\n",
    "def fp(true, pred):\n",
    "    if not true and pred:\n",
    "        return True\n",
    "    else:\n",
    "        return False\n",
    "    \n",
    "def tn(true, pred):\n",
    "    if not true and not pred:\n",
    "        return True\n",
    "    else:\n",
    "        return False\n",
    "\n",
    "def fn(true, pred):\n",
    "    if true and not pred:\n",
    "        return True\n",
    "    else:\n",
    "        return False\n",
    "    \n",
    "def precision(tp, fp):\n",
    "    return (tp)/(tp + fp)\n",
    "\n",
    "def recall(tp, fn):\n",
    "    return (tp)/(tp + fn)\n",
    "    \n",
    "def f1_custom(pr, rec):\n",
    "    return (2 * pr * rec)/(pr + rec)  \n",
    "    \n",
    "def model_metrics(y_test, y_pred):\n",
    "    assert len(y_test) == len(y_pred)\n",
    "    TP = 0\n",
    "    FP = 0\n",
    "    TN = 0\n",
    "    FN = 0\n",
    "    for i in range(len(y_test)):\n",
    "        TP += tp(y_test[i], y_pred[i])\n",
    "        FP += fp(y_test[i], y_pred[i])\n",
    "        TN += tn(y_test[i], y_pred[i])\n",
    "        FN += fn(y_test[i], y_pred[i])\n",
    "    \n",
    "    pr =  precision(TP, FP)\n",
    "    rec = recall(TP, FN)\n",
    "    f1 = f1_custom(pr, rec)\n",
    "    \n",
    "    return pr, rec, f1\n",
    "\n",
    "def print_metrics(y_test, y_pred, true_pr, true_rec, true_f1):\n",
    "    pr, rec, f1 = model_metrics(y_test.tolist(), y_pred)\n",
    "    print('++++++++++++++++++++++++++++++++++++++++++++++++++++++++++++++++++++++++++++++++++++++++++++')\n",
    "    print(f'Custom function precision is {pr}, sklearn precision is {true_pr}.')\n",
    "    print(f'These values are equal: {pr == true_pr}')\n",
    "    print('++++++++++++++++++++++++++++++++++++++++++++++++++++++++++++++++++++++++++++++++++++++++++++')\n",
    "    print(f'Custom function recall is {rec}, sklearn recall is {true_rec}.')\n",
    "    print(f'These values are equal: {rec == true_rec}')\n",
    "    print('++++++++++++++++++++++++++++++++++++++++++++++++++++++++++++++++++++++++++++++++++++++++++++')\n",
    "    print(f'Custom function f-score is {f1}, sklearn f-score is {true_f1}.')\n",
    "    print(f'These values are equal: {f1 == true_f1}')\n",
    "    print('++++++++++++++++++++++++++++++++++++++++++++++++++++++++++++++++++++++++++++++++++++++++++++')"
   ]
  },
  {
   "cell_type": "markdown",
   "metadata": {},
   "source": [
    "### Сравнение с библиотекой sklearn"
   ]
  },
  {
   "cell_type": "markdown",
   "metadata": {},
   "source": [
    "*Logistic Regression*"
   ]
  },
  {
   "cell_type": "code",
   "execution_count": 249,
   "metadata": {
    "scrolled": true
   },
   "outputs": [
    {
     "name": "stdout",
     "output_type": "stream",
     "text": [
      "++++++++++++++++++++++++++++++++++++++++++++++++++++++++++++++++++++++++++++++++++++++++++++\n",
      "Custom function precision is 0.876905041031653, sklearn precision is 0.876905041031653.\n",
      "These values are equal: True\n",
      "++++++++++++++++++++++++++++++++++++++++++++++++++++++++++++++++++++++++++++++++++++++++++++\n",
      "Custom function recall is 0.8961661341853036, sklearn recall is 0.8961661341853036.\n",
      "These values are equal: True\n",
      "++++++++++++++++++++++++++++++++++++++++++++++++++++++++++++++++++++++++++++++++++++++++++++\n",
      "Custom function f-score is 0.8864309697807624, sklearn f-score is 0.8864309697807624.\n",
      "These values are equal: True\n",
      "++++++++++++++++++++++++++++++++++++++++++++++++++++++++++++++++++++++++++++++++++++++++++++\n"
     ]
    }
   ],
   "source": [
    "print_metrics(y_test, log_pred, log_pr, log_rec, log_f1)"
   ]
  },
  {
   "cell_type": "markdown",
   "metadata": {},
   "source": [
    "*K-Nearest Neighbors*"
   ]
  },
  {
   "cell_type": "code",
   "execution_count": 250,
   "metadata": {},
   "outputs": [
    {
     "name": "stdout",
     "output_type": "stream",
     "text": [
      "++++++++++++++++++++++++++++++++++++++++++++++++++++++++++++++++++++++++++++++++++++++++++++\n",
      "Custom function precision is 0.7728520988622989, sklearn precision is 0.7728520988622989.\n",
      "These values are equal: True\n",
      "++++++++++++++++++++++++++++++++++++++++++++++++++++++++++++++++++++++++++++++++++++++++++++\n",
      "Custom function recall is 0.786741214057508, sklearn recall is 0.786741214057508.\n",
      "These values are equal: True\n",
      "++++++++++++++++++++++++++++++++++++++++++++++++++++++++++++++++++++++++++++++++++++++++++++\n",
      "Custom function f-score is 0.7797348110033643, sklearn f-score is 0.7797348110033643.\n",
      "These values are equal: True\n",
      "++++++++++++++++++++++++++++++++++++++++++++++++++++++++++++++++++++++++++++++++++++++++++++\n"
     ]
    }
   ],
   "source": [
    "print_metrics(y_test, knn_pred, knn_pr, knn_rec, knn_f1)"
   ]
  },
  {
   "cell_type": "markdown",
   "metadata": {},
   "source": [
    "*Decision Tree*"
   ]
  },
  {
   "cell_type": "code",
   "execution_count": 251,
   "metadata": {},
   "outputs": [
    {
     "name": "stdout",
     "output_type": "stream",
     "text": [
      "++++++++++++++++++++++++++++++++++++++++++++++++++++++++++++++++++++++++++++++++++++++++++++\n",
      "Custom function precision is 0.7057220708446866, sklearn precision is 0.7057220708446866.\n",
      "These values are equal: True\n",
      "++++++++++++++++++++++++++++++++++++++++++++++++++++++++++++++++++++++++++++++++++++++++++++\n",
      "Custom function recall is 0.7240415335463258, sklearn recall is 0.7240415335463258.\n",
      "These values are equal: True\n",
      "++++++++++++++++++++++++++++++++++++++++++++++++++++++++++++++++++++++++++++++++++++++++++++\n",
      "Custom function f-score is 0.7147644391878573, sklearn f-score is 0.7147644391878573.\n",
      "These values are equal: True\n",
      "++++++++++++++++++++++++++++++++++++++++++++++++++++++++++++++++++++++++++++++++++++++++++++\n"
     ]
    }
   ],
   "source": [
    "print_metrics(y_test, dt_pred, dt_pr, dt_rec, dt_f1)"
   ]
  },
  {
   "cell_type": "code",
   "execution_count": null,
   "metadata": {},
   "outputs": [],
   "source": []
  }
 ],
 "metadata": {
  "kernelspec": {
   "display_name": "Python 3",
   "language": "python",
   "name": "python3"
  },
  "language_info": {
   "codemirror_mode": {
    "name": "ipython",
    "version": 3
   },
   "file_extension": ".py",
   "mimetype": "text/x-python",
   "name": "python",
   "nbconvert_exporter": "python",
   "pygments_lexer": "ipython3",
   "version": "3.7.6"
  }
 },
 "nbformat": 4,
 "nbformat_minor": 2
}
