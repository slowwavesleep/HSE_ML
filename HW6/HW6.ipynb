{
  "nbformat": 4,
  "nbformat_minor": 0,
  "metadata": {
    "colab": {
      "name": "hw6.ipynb",
      "provenance": [],
      "collapsed_sections": [],
      "machine_shape": "hm"
    },
    "kernelspec": {
      "name": "python3",
      "display_name": "Python 3"
    }
  },
  "cells": [
    {
      "cell_type": "code",
      "metadata": {
        "id": "4OOX68s9LkBc",
        "colab_type": "code",
        "colab": {}
      },
      "source": [
        "%tensorflow_version 2.x"
      ],
      "execution_count": 0,
      "outputs": []
    },
    {
      "cell_type": "code",
      "metadata": {
        "id": "0-oNWp7JMnIj",
        "colab_type": "code",
        "outputId": "24500b26-fd22-4e73-881c-0a28de361292",
        "colab": {
          "base_uri": "https://localhost:8080/",
          "height": 34
        }
      },
      "source": [
        "cd 'drive/My Drive/colab_data'"
      ],
      "execution_count": 2,
      "outputs": [
        {
          "output_type": "stream",
          "text": [
            "/content/drive/My Drive/colab_data\n"
          ],
          "name": "stdout"
        }
      ]
    },
    {
      "cell_type": "code",
      "metadata": {
        "id": "4XYIVJK_MwWb",
        "colab_type": "code",
        "colab": {}
      },
      "source": [
        "import tensorflow as tf\n",
        "import pandas as pd\n",
        "from collections import Counter\n",
        "from string import punctuation\n",
        "from sklearn.model_selection import train_test_split\n",
        "import gensim\n",
        "import numpy as np"
      ],
      "execution_count": 0,
      "outputs": []
    },
    {
      "cell_type": "code",
      "metadata": {
        "id": "X3Rkqbx7M3QL",
        "colab_type": "code",
        "colab": {}
      },
      "source": [
        "quora = pd.read_csv('quora.csv')"
      ],
      "execution_count": 0,
      "outputs": []
    },
    {
      "cell_type": "code",
      "metadata": {
        "id": "kDI0bQOeNOrj",
        "colab_type": "code",
        "colab": {}
      },
      "source": [
        "def tokenize(text: str) -> list:\n",
        "  tokens = text.lower().split()\n",
        "  return [token.strip(punctuation) for token in tokens]\n",
        "\n",
        "def filter_dict(d: dict, func: callable) -> dict:\n",
        "    new_d = dict()\n",
        "    for key, value in d.items():\n",
        "        if func((key, value)):\n",
        "            new_d[key] = value\n",
        "    return new_d\n"
      ],
      "execution_count": 0,
      "outputs": []
    },
    {
      "cell_type": "code",
      "metadata": {
        "id": "EYTNq7UKR9Or",
        "colab_type": "code",
        "colab": {}
      },
      "source": [
        "quora['tokenized'] = quora.question_text.apply(tokenize)"
      ],
      "execution_count": 0,
      "outputs": []
    },
    {
      "cell_type": "code",
      "metadata": {
        "id": "HsEgfrKnQSeb",
        "colab_type": "code",
        "colab": {}
      },
      "source": [
        "def build_vocab(texts: list, min_count: int) -> set:\n",
        "  \n",
        "  vocab = Counter()\n",
        "\n",
        "  for text in texts:\n",
        "    vocab.update(text)\n",
        "\n",
        "  return set(filter_dict(vocab, lambda x: x[1] > min_count))"
      ],
      "execution_count": 0,
      "outputs": []
    },
    {
      "cell_type": "code",
      "metadata": {
        "id": "leB9NxIfSbcp",
        "colab_type": "code",
        "colab": {}
      },
      "source": [
        "def index_words(words: set) -> dict:\n",
        "  d = {'UNK': 1, 'PAD': 0}\n",
        "  for word in words:\n",
        "    d[word] = len(d)\n",
        "  return d"
      ],
      "execution_count": 0,
      "outputs": []
    },
    {
      "cell_type": "code",
      "metadata": {
        "id": "21w6CN8dTbwL",
        "colab_type": "code",
        "colab": {}
      },
      "source": [
        "def index_text(text: list) -> list:\n",
        "  return [word2id.get(token, 1) for token in text]"
      ],
      "execution_count": 0,
      "outputs": []
    },
    {
      "cell_type": "code",
      "metadata": {
        "id": "syXRD_t2SG7p",
        "colab_type": "code",
        "colab": {}
      },
      "source": [
        "vocab = build_vocab(quora.tokenized.values, 100)"
      ],
      "execution_count": 0,
      "outputs": []
    },
    {
      "cell_type": "code",
      "metadata": {
        "id": "RgAoeD77Sv2K",
        "colab_type": "code",
        "colab": {}
      },
      "source": [
        "word2id = index_words(vocab)"
      ],
      "execution_count": 0,
      "outputs": []
    },
    {
      "cell_type": "code",
      "metadata": {
        "id": "fbyNV-E8TJa7",
        "colab_type": "code",
        "colab": {}
      },
      "source": [
        "id2word = {i: word for word, i in word2id.items()}"
      ],
      "execution_count": 0,
      "outputs": []
    },
    {
      "cell_type": "code",
      "metadata": {
        "id": "mW19ocVkTUnL",
        "colab_type": "code",
        "colab": {}
      },
      "source": [
        "quora['indexed'] = quora.tokenized.apply(index_text)"
      ],
      "execution_count": 0,
      "outputs": []
    },
    {
      "cell_type": "code",
      "metadata": {
        "id": "ZsMLVR71UzT7",
        "colab_type": "code",
        "colab": {}
      },
      "source": [
        "max_len = max(quora.indexed.str.len())"
      ],
      "execution_count": 0,
      "outputs": []
    },
    {
      "cell_type": "code",
      "metadata": {
        "id": "G_2tT9E_VRi7",
        "colab_type": "code",
        "colab": {}
      },
      "source": [
        "X = tf.keras.preprocessing.sequence.pad_sequences(quora.indexed.values, maxlen=max_len)"
      ],
      "execution_count": 0,
      "outputs": []
    },
    {
      "cell_type": "code",
      "metadata": {
        "id": "LG7sGpNoVpi8",
        "colab_type": "code",
        "colab": {}
      },
      "source": [
        "y = quora.target.values"
      ],
      "execution_count": 0,
      "outputs": []
    },
    {
      "cell_type": "markdown",
      "metadata": {
        "id": "QAWNlpMXjszU",
        "colab_type": "text"
      },
      "source": [
        "1) На одной из задач сравните, что лучше: а) конкатенировать эмбединги в один большой эмбединг, б) усреднять эмбединги, в) складывать эмбединги. Зафиксируйте разбиение на train_test через random_seed, чтобы обучаться и оцениваться на одних и тех же данных. Параметры нейронок не нужно делать одинаковыми. Просто попробуйте добиться максимума от каждого из подходов."
      ]
    },
    {
      "cell_type": "code",
      "metadata": {
        "id": "HErDafOdVsWT",
        "colab_type": "code",
        "colab": {}
      },
      "source": [
        "X_train, X_valid, y_train, y_valid = train_test_split(X, y, test_size=0.05, random_state=1)"
      ],
      "execution_count": 0,
      "outputs": []
    },
    {
      "cell_type": "code",
      "metadata": {
        "id": "pCCmYtGHX6OF",
        "colab_type": "code",
        "colab": {}
      },
      "source": [
        "def get_model(emb_transform: str):\n",
        "  inputs = tf.keras.layers.Input(shape=(max_len,))\n",
        "  embeddings = tf.keras.layers.Embedding(input_dim=len(word2id), output_dim=100)(inputs)\n",
        "  if emb_transform == 'mean':\n",
        "    transformed = tf.keras.layers.Lambda(lambda x: tf.keras.backend.mean(x,  axis=1))(embeddings)\n",
        "  elif emb_transform == 'sum':\n",
        "    transformed = tf.keras.layers.Lambda(lambda x: tf.keras.backend.sum(x,  axis=1))(embeddings)\n",
        "  else:\n",
        "    transformed = tf.keras.layers.Flatten()(embeddings)\n",
        "    \n",
        "\n",
        "  dense = tf.keras.layers.Dense(64, activation='relu')(transformed)\n",
        "  outputs = tf.keras.layers.Dense(1, activation='sigmoid')(dense)\n",
        "  model = tf.keras.Model(inputs=inputs, outputs=outputs)\n",
        "  model.compile(optimizer='adam',\n",
        "                loss='binary_crossentropy',\n",
        "                metrics=['accuracy'])\n",
        "  return model"
      ],
      "execution_count": 0,
      "outputs": []
    },
    {
      "cell_type": "code",
      "metadata": {
        "id": "mI3YLqJogiR9",
        "colab_type": "code",
        "colab": {}
      },
      "source": [
        "model_1 = get_model('mean')"
      ],
      "execution_count": 0,
      "outputs": []
    },
    {
      "cell_type": "code",
      "metadata": {
        "id": "WxRwulQ1g1pa",
        "colab_type": "code",
        "outputId": "cb61263a-e96a-4845-f04e-bbd5615b360b",
        "colab": {
          "base_uri": "https://localhost:8080/",
          "height": 408
        }
      },
      "source": [
        "%%time\n",
        "\n",
        "model_1.fit(X_train, y_train, \n",
        "            validation_data=(X_valid, y_valid),\n",
        "            batch_size=20000,\n",
        "            epochs=10,\n",
        "            callbacks=[tf.keras.callbacks.EarlyStopping(patience=2)])"
      ],
      "execution_count": 70,
      "outputs": [
        {
          "output_type": "stream",
          "text": [
            "Epoch 1/10\n",
            "63/63 [==============================] - 29s 460ms/step - loss: 0.4435 - accuracy: 0.9241 - val_loss: 0.2355 - val_accuracy: 0.9371\n",
            "Epoch 2/10\n",
            "63/63 [==============================] - 30s 478ms/step - loss: 0.2259 - accuracy: 0.9382 - val_loss: 0.2233 - val_accuracy: 0.9371\n",
            "Epoch 3/10\n",
            "63/63 [==============================] - 31s 489ms/step - loss: 0.2202 - accuracy: 0.9382 - val_loss: 0.2177 - val_accuracy: 0.9371\n",
            "Epoch 4/10\n",
            "63/63 [==============================] - 31s 487ms/step - loss: 0.2135 - accuracy: 0.9382 - val_loss: 0.2102 - val_accuracy: 0.9371\n",
            "Epoch 5/10\n",
            "63/63 [==============================] - 30s 483ms/step - loss: 0.2037 - accuracy: 0.9382 - val_loss: 0.1968 - val_accuracy: 0.9373\n",
            "Epoch 6/10\n",
            "63/63 [==============================] - 30s 483ms/step - loss: 0.1858 - accuracy: 0.9393 - val_loss: 0.1749 - val_accuracy: 0.9398\n",
            "Epoch 7/10\n",
            "63/63 [==============================] - 30s 479ms/step - loss: 0.1637 - accuracy: 0.9425 - val_loss: 0.1558 - val_accuracy: 0.9428\n",
            "Epoch 8/10\n",
            "63/63 [==============================] - 30s 479ms/step - loss: 0.1484 - accuracy: 0.9454 - val_loss: 0.1446 - val_accuracy: 0.9459\n",
            "Epoch 9/10\n",
            "63/63 [==============================] - 30s 479ms/step - loss: 0.1392 - accuracy: 0.9476 - val_loss: 0.1376 - val_accuracy: 0.9476\n",
            "Epoch 10/10\n",
            "63/63 [==============================] - 30s 478ms/step - loss: 0.1327 - accuracy: 0.9494 - val_loss: 0.1324 - val_accuracy: 0.9488\n",
            "CPU times: user 6min 43s, sys: 7.91 s, total: 6min 51s\n",
            "Wall time: 5min 7s\n"
          ],
          "name": "stdout"
        },
        {
          "output_type": "execute_result",
          "data": {
            "text/plain": [
              "<tensorflow.python.keras.callbacks.History at 0x7f35fe00b240>"
            ]
          },
          "metadata": {
            "tags": []
          },
          "execution_count": 70
        }
      ]
    },
    {
      "cell_type": "code",
      "metadata": {
        "id": "xPqYVB4ohAcL",
        "colab_type": "code",
        "colab": {}
      },
      "source": [
        "model_2 = get_model('sum')"
      ],
      "execution_count": 0,
      "outputs": []
    },
    {
      "cell_type": "code",
      "metadata": {
        "id": "WcmnILQuh85q",
        "colab_type": "code",
        "outputId": "4344755c-a024-4f6a-a5dd-3cdc8e74368f",
        "colab": {
          "base_uri": "https://localhost:8080/",
          "height": 408
        }
      },
      "source": [
        "%%time\n",
        "\n",
        "model_2.fit(X_train, y_train, \n",
        "            validation_data=(X_valid, y_valid),\n",
        "            batch_size=20000,\n",
        "            epochs=10,\n",
        "            callbacks=[tf.keras.callbacks.EarlyStopping(patience=2)])"
      ],
      "execution_count": 72,
      "outputs": [
        {
          "output_type": "stream",
          "text": [
            "Epoch 1/10\n",
            "63/63 [==============================] - 29s 464ms/step - loss: 0.1761 - accuracy: 0.9417 - val_loss: 0.1420 - val_accuracy: 0.9460\n",
            "Epoch 2/10\n",
            "63/63 [==============================] - 29s 464ms/step - loss: 0.1308 - accuracy: 0.9495 - val_loss: 0.1272 - val_accuracy: 0.9499\n",
            "Epoch 3/10\n",
            "63/63 [==============================] - 29s 462ms/step - loss: 0.1219 - accuracy: 0.9528 - val_loss: 0.1238 - val_accuracy: 0.9510\n",
            "Epoch 4/10\n",
            "63/63 [==============================] - 29s 460ms/step - loss: 0.1188 - accuracy: 0.9539 - val_loss: 0.1223 - val_accuracy: 0.9518\n",
            "Epoch 5/10\n",
            "63/63 [==============================] - 29s 462ms/step - loss: 0.1166 - accuracy: 0.9545 - val_loss: 0.1236 - val_accuracy: 0.9524\n",
            "Epoch 6/10\n",
            "63/63 [==============================] - 29s 463ms/step - loss: 0.1151 - accuracy: 0.9548 - val_loss: 0.1214 - val_accuracy: 0.9528\n",
            "Epoch 7/10\n",
            "63/63 [==============================] - 29s 462ms/step - loss: 0.1131 - accuracy: 0.9553 - val_loss: 0.1191 - val_accuracy: 0.9529\n",
            "Epoch 8/10\n",
            "63/63 [==============================] - 29s 465ms/step - loss: 0.1115 - accuracy: 0.9556 - val_loss: 0.1198 - val_accuracy: 0.9522\n",
            "Epoch 9/10\n",
            "63/63 [==============================] - 29s 466ms/step - loss: 0.1107 - accuracy: 0.9559 - val_loss: 0.1175 - val_accuracy: 0.9533\n",
            "Epoch 10/10\n",
            "63/63 [==============================] - 30s 470ms/step - loss: 0.1088 - accuracy: 0.9565 - val_loss: 0.1203 - val_accuracy: 0.9520\n",
            "CPU times: user 6min 43s, sys: 7.37 s, total: 6min 50s\n",
            "Wall time: 4min 57s\n"
          ],
          "name": "stdout"
        },
        {
          "output_type": "execute_result",
          "data": {
            "text/plain": [
              "<tensorflow.python.keras.callbacks.History at 0x7f35fdffe9b0>"
            ]
          },
          "metadata": {
            "tags": []
          },
          "execution_count": 72
        }
      ]
    },
    {
      "cell_type": "code",
      "metadata": {
        "id": "3uGGfeIXihCs",
        "colab_type": "code",
        "colab": {}
      },
      "source": [
        "model_3 = get_model('flat')"
      ],
      "execution_count": 0,
      "outputs": []
    },
    {
      "cell_type": "code",
      "metadata": {
        "id": "QN6j_4HJik6j",
        "colab_type": "code",
        "outputId": "391867ad-b3c0-4761-c0f8-f41cb3e24b14",
        "colab": {
          "base_uri": "https://localhost:8080/",
          "height": 306
        }
      },
      "source": [
        "%%time\n",
        "\n",
        "model_3.fit(X_train, y_train, \n",
        "            validation_data=(X_valid, y_valid),\n",
        "            batch_size=20000,\n",
        "            epochs=10,\n",
        "            callbacks=[tf.keras.callbacks.EarlyStopping(patience=2)])"
      ],
      "execution_count": 74,
      "outputs": [
        {
          "output_type": "stream",
          "text": [
            "Epoch 1/10\n",
            "63/63 [==============================] - 33s 521ms/step - loss: 0.2102 - accuracy: 0.9377 - val_loss: 0.1464 - val_accuracy: 0.9371\n",
            "Epoch 2/10\n",
            "63/63 [==============================] - 33s 520ms/step - loss: 0.1319 - accuracy: 0.9418 - val_loss: 0.1266 - val_accuracy: 0.9499\n",
            "Epoch 3/10\n",
            "63/63 [==============================] - 32s 514ms/step - loss: 0.1188 - accuracy: 0.9525 - val_loss: 0.1198 - val_accuracy: 0.9514\n",
            "Epoch 4/10\n",
            "63/63 [==============================] - 32s 507ms/step - loss: 0.1124 - accuracy: 0.9546 - val_loss: 0.1186 - val_accuracy: 0.9525\n",
            "Epoch 5/10\n",
            "63/63 [==============================] - 32s 511ms/step - loss: 0.1093 - accuracy: 0.9559 - val_loss: 0.1184 - val_accuracy: 0.9529\n",
            "Epoch 6/10\n",
            "63/63 [==============================] - 32s 511ms/step - loss: 0.1063 - accuracy: 0.9568 - val_loss: 0.1191 - val_accuracy: 0.9524\n",
            "Epoch 7/10\n",
            "63/63 [==============================] - 32s 508ms/step - loss: 0.1037 - accuracy: 0.9578 - val_loss: 0.1208 - val_accuracy: 0.9522\n",
            "CPU times: user 4min 47s, sys: 5.98 s, total: 4min 53s\n",
            "Wall time: 3min 50s\n"
          ],
          "name": "stdout"
        },
        {
          "output_type": "execute_result",
          "data": {
            "text/plain": [
              "<tensorflow.python.keras.callbacks.History at 0x7f35fe4c6550>"
            ]
          },
          "metadata": {
            "tags": []
          },
          "execution_count": 74
        }
      ]
    },
    {
      "cell_type": "markdown",
      "metadata": {
        "id": "CPl4_tMnlBOU",
        "colab_type": "text"
      },
      "source": [
        "В датасете очень большой перевес классов, поэтому на метрику *accuracy* полагаться не стоит."
      ]
    },
    {
      "cell_type": "code",
      "metadata": {
        "id": "Iceroqh6k_RL",
        "colab_type": "code",
        "outputId": "eea6e777-f279-43c1-938a-12a7fb62e2de",
        "colab": {
          "base_uri": "https://localhost:8080/",
          "height": 68
        }
      },
      "source": [
        "quora.target.value_counts()"
      ],
      "execution_count": 75,
      "outputs": [
        {
          "output_type": "execute_result",
          "data": {
            "text/plain": [
              "0    1225312\n",
              "1      80810\n",
              "Name: target, dtype: int64"
            ]
          },
          "metadata": {
            "tags": []
          },
          "execution_count": 75
        }
      ]
    },
    {
      "cell_type": "code",
      "metadata": {
        "id": "N880oBctinub",
        "colab_type": "code",
        "colab": {}
      },
      "source": [
        "from sklearn.metrics import classification_report, f1_score"
      ],
      "execution_count": 0,
      "outputs": []
    },
    {
      "cell_type": "code",
      "metadata": {
        "id": "--Nlzf8tiwHq",
        "colab_type": "code",
        "colab": {}
      },
      "source": [
        "preds_1 = model_1.predict(X_valid).reshape(-1)\n",
        "preds_2 = model_2.predict(X_valid).reshape(-1)\n",
        "preds_3 = model_3.predict(X_valid).reshape(-1)"
      ],
      "execution_count": 0,
      "outputs": []
    },
    {
      "cell_type": "code",
      "metadata": {
        "id": "-T19TOygixzo",
        "colab_type": "code",
        "outputId": "8dec8f2f-a4b7-4724-def2-1ef45a49c515",
        "colab": {
          "base_uri": "https://localhost:8080/",
          "height": 170
        }
      },
      "source": [
        "print(classification_report(y_valid, (preds_1 > 0.5).astype(int)))"
      ],
      "execution_count": 88,
      "outputs": [
        {
          "output_type": "stream",
          "text": [
            "              precision    recall  f1-score   support\n",
            "\n",
            "           0       0.96      0.99      0.97     61198\n",
            "           1       0.66      0.39      0.49      4109\n",
            "\n",
            "    accuracy                           0.95     65307\n",
            "   macro avg       0.81      0.69      0.73     65307\n",
            "weighted avg       0.94      0.95      0.94     65307\n",
            "\n"
          ],
          "name": "stdout"
        }
      ]
    },
    {
      "cell_type": "code",
      "metadata": {
        "id": "cHNlS_n4jYGR",
        "colab_type": "code",
        "outputId": "e442a94a-e386-4deb-a79c-babc37763003",
        "colab": {
          "base_uri": "https://localhost:8080/",
          "height": 170
        }
      },
      "source": [
        "print(classification_report(y_valid, (preds_2 > 0.5).astype(int)))"
      ],
      "execution_count": 89,
      "outputs": [
        {
          "output_type": "stream",
          "text": [
            "              precision    recall  f1-score   support\n",
            "\n",
            "           0       0.96      0.99      0.97     61198\n",
            "           1       0.73      0.38      0.50      4109\n",
            "\n",
            "    accuracy                           0.95     65307\n",
            "   macro avg       0.84      0.69      0.74     65307\n",
            "weighted avg       0.95      0.95      0.94     65307\n",
            "\n"
          ],
          "name": "stdout"
        }
      ]
    },
    {
      "cell_type": "code",
      "metadata": {
        "id": "otUskx-SjYt0",
        "colab_type": "code",
        "outputId": "0861e059-13ad-4b9f-adf2-81cc6c06d5bb",
        "colab": {
          "base_uri": "https://localhost:8080/",
          "height": 170
        }
      },
      "source": [
        "print(classification_report(y_valid, (preds_3 > 0.5).astype(int)))"
      ],
      "execution_count": 90,
      "outputs": [
        {
          "output_type": "stream",
          "text": [
            "              precision    recall  f1-score   support\n",
            "\n",
            "           0       0.97      0.98      0.97     61198\n",
            "           1       0.64      0.56      0.60      4109\n",
            "\n",
            "    accuracy                           0.95     65307\n",
            "   macro avg       0.80      0.77      0.79     65307\n",
            "weighted avg       0.95      0.95      0.95     65307\n",
            "\n"
          ],
          "name": "stdout"
        }
      ]
    },
    {
      "cell_type": "code",
      "metadata": {
        "id": "dFBy_PXTj4Zs",
        "colab_type": "code",
        "outputId": "1ea0251c-91e5-40c4-a397-87b5a6021618",
        "colab": {
          "base_uri": "https://localhost:8080/",
          "height": 34
        }
      },
      "source": [
        "f1_score(y_valid, (preds_1 > 0.5).astype(int))"
      ],
      "execution_count": 91,
      "outputs": [
        {
          "output_type": "execute_result",
          "data": {
            "text/plain": [
              "0.4883792048929664"
            ]
          },
          "metadata": {
            "tags": []
          },
          "execution_count": 91
        }
      ]
    },
    {
      "cell_type": "code",
      "metadata": {
        "id": "t_8HWbjekiEU",
        "colab_type": "code",
        "outputId": "473ba624-ac9c-4a4a-939f-bc950629fb6e",
        "colab": {
          "base_uri": "https://localhost:8080/",
          "height": 34
        }
      },
      "source": [
        "f1_score(y_valid, (preds_2 > 0.5).astype(int))"
      ],
      "execution_count": 92,
      "outputs": [
        {
          "output_type": "execute_result",
          "data": {
            "text/plain": [
              "0.5002391200382592"
            ]
          },
          "metadata": {
            "tags": []
          },
          "execution_count": 92
        }
      ]
    },
    {
      "cell_type": "code",
      "metadata": {
        "id": "zfjzqlynkmqQ",
        "colab_type": "code",
        "outputId": "d0ec1351-7681-468f-da69-64e2d50acf8c",
        "colab": {
          "base_uri": "https://localhost:8080/",
          "height": 34
        }
      },
      "source": [
        "f1_score(y_valid, (preds_3 > 0.5).astype(int))"
      ],
      "execution_count": 93,
      "outputs": [
        {
          "output_type": "execute_result",
          "data": {
            "text/plain": [
              "0.5954079647165651"
            ]
          },
          "metadata": {
            "tags": []
          },
          "execution_count": 93
        }
      ]
    },
    {
      "cell_type": "markdown",
      "metadata": {
        "id": "nylBwT87QKL_",
        "colab_type": "text"
      },
      "source": [
        "Видим, что лучший результат показывает сплющивание вектора. Еще нужно отметить, что перед тем, как я подкрутил какие-то параметры, у меня получалась лучше сумма, но мне не удалось понять в чем именно было дело."
      ]
    },
    {
      "cell_type": "markdown",
      "metadata": {
        "id": "dYYMWosLlZgW",
        "colab_type": "text"
      },
      "source": [
        "2) В одной из задач используйте сразу две предобученные эмбединг модели (можно фастекст и ворд2век, а можно просто 2 фастекста с разными параметрами) в одной нейронке. Попробуйте усреднять эмбединги и конкатенировать (общие эмбединги потом в один вектор собирайте любым способом - например, тем который оказался лучше в первой задаче). Подсказка: используйте functional api, сделайте два Embedding слоя и к их выходам примените слой Concatenate([emb1, emb2)) или Average([emb1, emb2))"
      ]
    },
    {
      "cell_type": "code",
      "metadata": {
        "id": "ELQfXM-zBevk",
        "colab_type": "code",
        "colab": {}
      },
      "source": [
        "dim = 100"
      ],
      "execution_count": 0,
      "outputs": []
    },
    {
      "cell_type": "markdown",
      "metadata": {
        "id": "4dXVygDhO0Mv",
        "colab_type": "text"
      },
      "source": [
        ""
      ]
    },
    {
      "cell_type": "code",
      "metadata": {
        "id": "5Q7sg0iGlZ5c",
        "colab_type": "code",
        "colab": {}
      },
      "source": [
        "ft_1 = gensim.models.FastText(quora.tokenized.values, size=dim, iter=2, window=3)"
      ],
      "execution_count": 0,
      "outputs": []
    },
    {
      "cell_type": "code",
      "metadata": {
        "id": "P894u9YdnbZO",
        "colab_type": "code",
        "colab": {}
      },
      "source": [
        "# # # Используем CBOW, суммируем контекстные вектора, задаем минимальные нграммы, минимальную частоту\n",
        "# ft_1 = gensim.models.FastText(quora.tokenized.values, size=dim, iter=5, window=3,\n",
        "#                               min_count=30, workers=-1, sg=0, cbow_mean=0, min_n=3)"
      ],
      "execution_count": 0,
      "outputs": []
    },
    {
      "cell_type": "code",
      "metadata": {
        "id": "t_Ar51eMiqLz",
        "colab_type": "code",
        "colab": {}
      },
      "source": [
        "# # Используем Skipgram, меньшая минимальная частота, большее окно, negative sampling\n",
        "# ft_2 = gensim.models.FastText(quora.tokenized.values, size=dim, iter=5, window=7,\n",
        "#                               min_count=10, negative=10, workers=-1)"
      ],
      "execution_count": 0,
      "outputs": []
    },
    {
      "cell_type": "code",
      "metadata": {
        "id": "5EiswkWBXU_c",
        "colab_type": "code",
        "colab": {}
      },
      "source": [
        "w2v = gensim.models.Word2Vec(quora.tokenized.values, size=dim, window=3, min_count=1, workers=-1)"
      ],
      "execution_count": 0,
      "outputs": []
    },
    {
      "cell_type": "code",
      "metadata": {
        "id": "htyiYs9-3nLG",
        "colab_type": "code",
        "colab": {}
      },
      "source": [
        "def get_weights(word2id, model):\n",
        "\n",
        "  dim = model.vector_size\n",
        "  weights = np.zeros((len(word2id), dim))\n",
        "\n",
        "  for word, i in word2id.items():\n",
        "    if word == 'PAD':\n",
        "        continue\n",
        "    if word == 'UNK':\n",
        "        weights[i] = np.random.normal(0, 2, dim) #поменять\n",
        "    try:\n",
        "        weights[i] = model.wv.get_vector(word)\n",
        "    except KeyError:\n",
        "      weights[i] = np.random.normal(0, 2, dim)\n",
        "  \n",
        "  return weights\n",
        "\n",
        "    "
      ],
      "execution_count": 0,
      "outputs": []
    },
    {
      "cell_type": "code",
      "metadata": {
        "id": "nPH-YAnX7vmN",
        "colab_type": "code",
        "colab": {}
      },
      "source": [
        "inputs = tf.keras.layers.Input(shape=(max_len,))\n",
        "\n",
        "embeddings_1 = tf.keras.layers.Embedding(input_dim=len(word2id), output_dim=100, trainable=False,\n",
        "                                      weights=[get_weights(word2id, ft_1)])(inputs)\n",
        "embeddings_2 = tf.keras.layers.Embedding(input_dim=len(word2id), output_dim=100, trainable=False,\n",
        "                                      weights=[get_weights(word2id, w2v)])(inputs)\n",
        "\n",
        "\n",
        "avg_emb = tf.keras.layers.Average()([embeddings_1, embeddings_2])\n",
        "mean = tf.keras.layers.Lambda(lambda x: tf.keras.backend.sum(x,  axis=1))(avg_emb)\n",
        "dense = tf.keras.layers.Dense(64, activation='relu')(mean)\n",
        "dense = tf.keras.layers.Dense(64, activation='relu')(dense)\n",
        "outputs = tf.keras.layers.Dense(1, activation='sigmoid')(dense)\n",
        "\n",
        "model_4 = tf.keras.Model(inputs=inputs, outputs=outputs)\n",
        "model_4.compile(optimizer='adam',\n",
        "              loss='binary_crossentropy',\n",
        "              metrics=['accuracy'])"
      ],
      "execution_count": 0,
      "outputs": []
    },
    {
      "cell_type": "code",
      "metadata": {
        "id": "T-U6YhTEDKeF",
        "colab_type": "code",
        "outputId": "ecefaab0-31fe-4dd0-b3b3-4802155894d8",
        "colab": {
          "base_uri": "https://localhost:8080/",
          "height": 170
        }
      },
      "source": [
        "%%time\n",
        "\n",
        "model_4.fit(X_train, y_train, \n",
        "            validation_data=(X_valid, y_valid),\n",
        "            batch_size=20000,\n",
        "            epochs=3,\n",
        "            callbacks=[tf.keras.callbacks.EarlyStopping(patience=2)])"
      ],
      "execution_count": 48,
      "outputs": [
        {
          "output_type": "stream",
          "text": [
            "Epoch 1/3\n",
            "63/63 [==============================] - 27s 424ms/step - loss: 0.2142 - accuracy: 0.9349 - val_loss: 0.1674 - val_accuracy: 0.9415\n",
            "Epoch 2/3\n",
            "63/63 [==============================] - 27s 422ms/step - loss: 0.1597 - accuracy: 0.9431 - val_loss: 0.1554 - val_accuracy: 0.9444\n",
            "Epoch 3/3\n",
            "63/63 [==============================] - 27s 425ms/step - loss: 0.1518 - accuracy: 0.9449 - val_loss: 0.1500 - val_accuracy: 0.9448\n",
            "CPU times: user 4min 54s, sys: 5.12 s, total: 4min 59s\n",
            "Wall time: 1min 21s\n"
          ],
          "name": "stdout"
        },
        {
          "output_type": "execute_result",
          "data": {
            "text/plain": [
              "<tensorflow.python.keras.callbacks.History at 0x7fa4b6361278>"
            ]
          },
          "metadata": {
            "tags": []
          },
          "execution_count": 48
        }
      ]
    },
    {
      "cell_type": "code",
      "metadata": {
        "id": "b0J_YY2IDu2P",
        "colab_type": "code",
        "colab": {}
      },
      "source": [
        "preds_4 = model_4.predict(X_valid).reshape(-1)"
      ],
      "execution_count": 0,
      "outputs": []
    },
    {
      "cell_type": "code",
      "metadata": {
        "id": "DJuVwSkGF2Q9",
        "colab_type": "code",
        "outputId": "4c6b0f3b-362b-4c4d-efb2-4a97525f448b",
        "colab": {
          "base_uri": "https://localhost:8080/",
          "height": 170
        }
      },
      "source": [
        "print(classification_report(y_valid, (preds_4 > 0.5).astype(int)))"
      ],
      "execution_count": 52,
      "outputs": [
        {
          "output_type": "stream",
          "text": [
            "              precision    recall  f1-score   support\n",
            "\n",
            "           0       0.96      0.99      0.97     61198\n",
            "           1       0.62      0.31      0.42      4109\n",
            "\n",
            "    accuracy                           0.94     65307\n",
            "   macro avg       0.79      0.65      0.69     65307\n",
            "weighted avg       0.93      0.94      0.94     65307\n",
            "\n"
          ],
          "name": "stdout"
        }
      ]
    },
    {
      "cell_type": "markdown",
      "metadata": {
        "id": "OCXgty1rlBXO",
        "colab_type": "text"
      },
      "source": [
        ""
      ]
    },
    {
      "cell_type": "code",
      "metadata": {
        "id": "ybzgZw0ZGF-5",
        "colab_type": "code",
        "colab": {}
      },
      "source": [
        "inputs = tf.keras.layers.Input(shape=(max_len,))\n",
        "\n",
        "embeddings_1 = tf.keras.layers.Embedding(input_dim=len(word2id), output_dim=100, trainable=False,\n",
        "                                      weights=[get_weights(word2id, ft_1)])(inputs)\n",
        "embeddings_2 = tf.keras.layers.Embedding(input_dim=len(word2id), output_dim=100, trainable=False,\n",
        "                                      weights=[get_weights(word2id, w2v)])(inputs)\n",
        "\n",
        "\n",
        "avg_emb = tf.keras.layers.Concatenate()([embeddings_1, embeddings_2])\n",
        "mean = tf.keras.layers.Lambda(lambda x: tf.keras.backend.sum(x,  axis=1))(avg_emb)\n",
        "dense = tf.keras.layers.Dense(64, activation='relu')(mean)\n",
        "dense = tf.keras.layers.Dense(64, activation='relu')(dense)\n",
        "outputs = tf.keras.layers.Dense(1, activation='sigmoid')(dense)\n",
        "\n",
        "model_5 = tf.keras.Model(inputs=inputs, outputs=outputs)\n",
        "model_5.compile(optimizer='adam',\n",
        "              loss='binary_crossentropy',\n",
        "              metrics=['accuracy'])"
      ],
      "execution_count": 0,
      "outputs": []
    },
    {
      "cell_type": "code",
      "metadata": {
        "id": "5eNJKbYOIL3I",
        "colab_type": "code",
        "outputId": "4b60aa40-5046-4cce-c503-97626bc5a448",
        "colab": {
          "base_uri": "https://localhost:8080/",
          "height": 578
        }
      },
      "source": [
        "%%time\n",
        "\n",
        "model_5.fit(X_train, y_train, \n",
        "            validation_data=(X_valid, y_valid),\n",
        "            batch_size=20000,\n",
        "            epochs=15,\n",
        "            callbacks=[tf.keras.callbacks.EarlyStopping(patience=2)])"
      ],
      "execution_count": 65,
      "outputs": [
        {
          "output_type": "stream",
          "text": [
            "Epoch 1/15\n",
            "63/63 [==============================] - 42s 665ms/step - loss: 0.5786 - accuracy: 0.8901 - val_loss: 0.2141 - val_accuracy: 0.9286\n",
            "Epoch 2/15\n",
            "63/63 [==============================] - 44s 706ms/step - loss: 0.1932 - accuracy: 0.9360 - val_loss: 0.1782 - val_accuracy: 0.9388\n",
            "Epoch 3/15\n",
            "63/63 [==============================] - 42s 674ms/step - loss: 0.1708 - accuracy: 0.9405 - val_loss: 0.1660 - val_accuracy: 0.9419\n",
            "Epoch 4/15\n",
            "63/63 [==============================] - 41s 655ms/step - loss: 0.1618 - accuracy: 0.9424 - val_loss: 0.1599 - val_accuracy: 0.9428\n",
            "Epoch 5/15\n",
            "63/63 [==============================] - 42s 662ms/step - loss: 0.1571 - accuracy: 0.9436 - val_loss: 0.1565 - val_accuracy: 0.9434\n",
            "Epoch 6/15\n",
            "63/63 [==============================] - 44s 691ms/step - loss: 0.1530 - accuracy: 0.9443 - val_loss: 0.1539 - val_accuracy: 0.9440\n",
            "Epoch 7/15\n",
            "63/63 [==============================] - 41s 646ms/step - loss: 0.1508 - accuracy: 0.9449 - val_loss: 0.1518 - val_accuracy: 0.9442\n",
            "Epoch 8/15\n",
            "63/63 [==============================] - 40s 637ms/step - loss: 0.1488 - accuracy: 0.9454 - val_loss: 0.1498 - val_accuracy: 0.9446\n",
            "Epoch 9/15\n",
            "63/63 [==============================] - 40s 634ms/step - loss: 0.1464 - accuracy: 0.9459 - val_loss: 0.1482 - val_accuracy: 0.9450\n",
            "Epoch 10/15\n",
            "63/63 [==============================] - 40s 637ms/step - loss: 0.1457 - accuracy: 0.9461 - val_loss: 0.1469 - val_accuracy: 0.9451\n",
            "Epoch 11/15\n",
            "63/63 [==============================] - 40s 631ms/step - loss: 0.1437 - accuracy: 0.9464 - val_loss: 0.1454 - val_accuracy: 0.9458\n",
            "Epoch 12/15\n",
            "63/63 [==============================] - 40s 627ms/step - loss: 0.1430 - accuracy: 0.9467 - val_loss: 0.1449 - val_accuracy: 0.9457\n",
            "Epoch 13/15\n",
            "63/63 [==============================] - 40s 628ms/step - loss: 0.1419 - accuracy: 0.9469 - val_loss: 0.1459 - val_accuracy: 0.9448\n",
            "Epoch 14/15\n",
            "63/63 [==============================] - 39s 626ms/step - loss: 0.1414 - accuracy: 0.9471 - val_loss: 0.1448 - val_accuracy: 0.9450\n",
            "Epoch 15/15\n",
            "63/63 [==============================] - 39s 622ms/step - loss: 0.1405 - accuracy: 0.9472 - val_loss: 0.1442 - val_accuracy: 0.9456\n",
            "CPU times: user 37min 22s, sys: 40.8 s, total: 38min 3s\n",
            "Wall time: 10min 23s\n"
          ],
          "name": "stdout"
        },
        {
          "output_type": "execute_result",
          "data": {
            "text/plain": [
              "<tensorflow.python.keras.callbacks.History at 0x7fa4b0b19278>"
            ]
          },
          "metadata": {
            "tags": []
          },
          "execution_count": 65
        }
      ]
    },
    {
      "cell_type": "code",
      "metadata": {
        "id": "2yVLpgUwIOZN",
        "colab_type": "code",
        "colab": {}
      },
      "source": [
        "preds_5 = model_5.predict(X_valid).reshape(-1)"
      ],
      "execution_count": 0,
      "outputs": []
    },
    {
      "cell_type": "code",
      "metadata": {
        "id": "FlpNqkYpIT32",
        "colab_type": "code",
        "outputId": "c4fae665-887a-40af-80b6-6a2f34976eab",
        "colab": {
          "base_uri": "https://localhost:8080/",
          "height": 170
        }
      },
      "source": [
        "print(classification_report(y_valid, (preds_5 > 0.5).astype(int)))"
      ],
      "execution_count": 67,
      "outputs": [
        {
          "output_type": "stream",
          "text": [
            "              precision    recall  f1-score   support\n",
            "\n",
            "           0       0.96      0.98      0.97     61198\n",
            "           1       0.60      0.40      0.48      4109\n",
            "\n",
            "    accuracy                           0.95     65307\n",
            "   macro avg       0.78      0.69      0.73     65307\n",
            "weighted avg       0.94      0.95      0.94     65307\n",
            "\n"
          ],
          "name": "stdout"
        }
      ]
    },
    {
      "cell_type": "markdown",
      "metadata": {
        "id": "huttZdynJyBs",
        "colab_type": "text"
      },
      "source": [
        "**Эксперименты**"
      ]
    },
    {
      "cell_type": "markdown",
      "metadata": {
        "id": "VW-YywUeQUjB",
        "colab_type": "text"
      },
      "source": [
        "Бонусный балл можно получить за эксперименты с параметрами в Embbeding, Dense (поизучайте другие существующие параметры и попробуйте комбинировать несколько слоев с разным активациями) слоях, а также за эксперименты с улучшением нормализации."
      ]
    },
    {
      "cell_type": "code",
      "metadata": {
        "id": "fDYAu9QIJ1US",
        "colab_type": "code",
        "colab": {}
      },
      "source": [
        "# Регуляризация в эмбеддинговом слое\n",
        "inputs = tf.keras.layers.Input(shape=(max_len,))\n",
        "embeddings = tf.keras.layers.Embedding(input_dim=len(word2id), output_dim=100,\n",
        "                                       activity_regularizer=tf.keras.regularizers.l2())(inputs)\n",
        "transformed = tf.keras.layers.Lambda(lambda x: tf.keras.backend.sum(x,  axis=1))(embeddings)\n",
        "dense = tf.keras.layers.Dense(64, activation='relu')(transformed)\n",
        "outputs = tf.keras.layers.Dense(1, activation='sigmoid')(dense)\n",
        "model = tf.keras.Model(inputs=inputs, outputs=outputs)\n",
        "model_6 = tf.keras.Model(inputs=inputs, outputs=outputs)\n",
        "\n",
        "model_6.compile(optimizer='adam',\n",
        "              loss='binary_crossentropy',\n",
        "              metrics=['accuracy'])"
      ],
      "execution_count": 0,
      "outputs": []
    },
    {
      "cell_type": "code",
      "metadata": {
        "id": "knjInw-IJ1ZY",
        "colab_type": "code",
        "colab": {
          "base_uri": "https://localhost:8080/",
          "height": 374
        },
        "outputId": "2a1898c5-a212-47db-cf8b-8b300e9fd872"
      },
      "source": [
        "model_6.fit(X_train, y_train, \n",
        "            validation_data=(X_valid, y_valid),\n",
        "            batch_size=20000,\n",
        "            epochs=10,\n",
        "            callbacks=[tf.keras.callbacks.EarlyStopping(patience=2)])"
      ],
      "execution_count": 40,
      "outputs": [
        {
          "output_type": "stream",
          "text": [
            "Epoch 1/10\n",
            "63/63 [==============================] - 55s 879ms/step - loss: 0.3340 - accuracy: 0.9314 - val_loss: 0.2421 - val_accuracy: 0.9434\n",
            "Epoch 2/10\n",
            "63/63 [==============================] - 55s 880ms/step - loss: 0.2135 - accuracy: 0.9470 - val_loss: 0.1915 - val_accuracy: 0.9482\n",
            "Epoch 3/10\n",
            "63/63 [==============================] - 56s 883ms/step - loss: 0.1745 - accuracy: 0.9509 - val_loss: 0.1629 - val_accuracy: 0.9506\n",
            "Epoch 4/10\n",
            "63/63 [==============================] - 56s 881ms/step - loss: 0.1503 - accuracy: 0.9532 - val_loss: 0.1441 - val_accuracy: 0.9522\n",
            "Epoch 5/10\n",
            "63/63 [==============================] - 55s 878ms/step - loss: 0.1347 - accuracy: 0.9550 - val_loss: 0.1348 - val_accuracy: 0.9529\n",
            "Epoch 6/10\n",
            "63/63 [==============================] - 56s 881ms/step - loss: 0.1254 - accuracy: 0.9556 - val_loss: 0.1281 - val_accuracy: 0.9533\n",
            "Epoch 7/10\n",
            "63/63 [==============================] - 56s 883ms/step - loss: 0.1204 - accuracy: 0.9561 - val_loss: 0.1254 - val_accuracy: 0.9534\n",
            "Epoch 8/10\n",
            "63/63 [==============================] - 56s 889ms/step - loss: 0.1166 - accuracy: 0.9565 - val_loss: 0.1279 - val_accuracy: 0.9529\n",
            "Epoch 9/10\n",
            "63/63 [==============================] - 56s 883ms/step - loss: 0.1151 - accuracy: 0.9568 - val_loss: 0.1230 - val_accuracy: 0.9531\n",
            "Epoch 10/10\n",
            "63/63 [==============================] - 56s 884ms/step - loss: 0.1134 - accuracy: 0.9571 - val_loss: 0.1243 - val_accuracy: 0.9526\n"
          ],
          "name": "stdout"
        },
        {
          "output_type": "execute_result",
          "data": {
            "text/plain": [
              "<tensorflow.python.keras.callbacks.History at 0x7fa4a1c18cf8>"
            ]
          },
          "metadata": {
            "tags": []
          },
          "execution_count": 40
        }
      ]
    },
    {
      "cell_type": "code",
      "metadata": {
        "id": "VyG-N_f4J1be",
        "colab_type": "code",
        "colab": {}
      },
      "source": [
        "preds_6 = model_6.predict(X_valid).reshape(-1)"
      ],
      "execution_count": 0,
      "outputs": []
    },
    {
      "cell_type": "code",
      "metadata": {
        "id": "-9q83xqEUCit",
        "colab_type": "code",
        "colab": {
          "base_uri": "https://localhost:8080/",
          "height": 170
        },
        "outputId": "79698d2e-51bb-4470-aa20-b7a493a28494"
      },
      "source": [
        "print(classification_report(y_valid, (preds_6 > 0.5).astype(int)))"
      ],
      "execution_count": 43,
      "outputs": [
        {
          "output_type": "stream",
          "text": [
            "              precision    recall  f1-score   support\n",
            "\n",
            "           0       0.96      0.99      0.98     61198\n",
            "           1       0.71      0.41      0.52      4109\n",
            "\n",
            "    accuracy                           0.95     65307\n",
            "   macro avg       0.84      0.70      0.75     65307\n",
            "weighted avg       0.95      0.95      0.95     65307\n",
            "\n"
          ],
          "name": "stdout"
        }
      ]
    },
    {
      "cell_type": "markdown",
      "metadata": {
        "id": "-jAYeXQyvb8j",
        "colab_type": "text"
      },
      "source": [
        "Качество немного повысилось по сравнению с аналогичной моделью `model_2`"
      ]
    },
    {
      "cell_type": "code",
      "metadata": {
        "id": "-7T8wS_SVIR5",
        "colab_type": "code",
        "colab": {}
      },
      "source": [
        "# Регуляризация в полносвязных слоях, дополнительный слой, другие функции активации\n",
        "inputs = tf.keras.layers.Input(shape=(max_len,))\n",
        "embeddings = tf.keras.layers.Embedding(input_dim=len(word2id), output_dim=100,)(inputs)\n",
        "transformed = tf.keras.layers.Lambda(lambda x: tf.keras.backend.sum(x,  axis=1))(embeddings)\n",
        "dense = tf.keras.layers.Dense(64, activation='tanh',\n",
        "                              activity_regularizer=tf.keras.regularizers.l2())(transformed)\n",
        "dense = tf.keras.layers.Dense(64, activation='tanh',\n",
        "                              activity_regularizer=tf.keras.regularizers.l2())(dense)\n",
        "dense = tf.keras.layers.Dense(64, activation='relu',\n",
        "                              activity_regularizer=tf.keras.regularizers.l2())(dense)\n",
        "                              \n",
        "outputs = tf.keras.layers.Dense(1, activation='sigmoid')(dense)\n",
        "model = tf.keras.Model(inputs=inputs, outputs=outputs)\n",
        "model_7 = tf.keras.Model(inputs=inputs, outputs=outputs)\n",
        "\n",
        "model_7.compile(optimizer='adam',\n",
        "              loss='binary_crossentropy',\n",
        "              metrics=['accuracy'])"
      ],
      "execution_count": 0,
      "outputs": []
    },
    {
      "cell_type": "code",
      "metadata": {
        "id": "ZalEZ6iUVP1e",
        "colab_type": "code",
        "colab": {
          "base_uri": "https://localhost:8080/",
          "height": 374
        },
        "outputId": "8fcbd811-4642-4a69-ea42-4424b85e3e20"
      },
      "source": [
        "model_7.fit(X_train, y_train, \n",
        "            validation_data=(X_valid, y_valid),\n",
        "            batch_size=40000,\n",
        "            epochs=10,\n",
        "            callbacks=[tf.keras.callbacks.EarlyStopping(patience=2)])"
      ],
      "execution_count": 85,
      "outputs": [
        {
          "output_type": "stream",
          "text": [
            "Epoch 1/10\n",
            "32/32 [==============================] - 27s 833ms/step - loss: 0.6396 - accuracy: 0.9391 - val_loss: 0.3579 - val_accuracy: 0.9427\n",
            "Epoch 2/10\n",
            "32/32 [==============================] - 26s 811ms/step - loss: 0.2951 - accuracy: 0.9498 - val_loss: 0.3098 - val_accuracy: 0.9450\n",
            "Epoch 3/10\n",
            "32/32 [==============================] - 26s 825ms/step - loss: 0.2485 - accuracy: 0.9517 - val_loss: 0.2199 - val_accuracy: 0.9520\n",
            "Epoch 4/10\n",
            "32/32 [==============================] - 28s 864ms/step - loss: 0.2089 - accuracy: 0.9538 - val_loss: 0.2358 - val_accuracy: 0.9484\n",
            "Epoch 5/10\n",
            "32/32 [==============================] - 27s 856ms/step - loss: 0.2056 - accuracy: 0.9530 - val_loss: 0.1936 - val_accuracy: 0.9529\n",
            "Epoch 6/10\n",
            "32/32 [==============================] - 27s 850ms/step - loss: 0.1846 - accuracy: 0.9547 - val_loss: 0.1902 - val_accuracy: 0.9520\n",
            "Epoch 7/10\n",
            "32/32 [==============================] - 27s 840ms/step - loss: 0.2279 - accuracy: 0.9497 - val_loss: 0.1949 - val_accuracy: 0.9521\n",
            "Epoch 8/10\n",
            "32/32 [==============================] - 27s 832ms/step - loss: 0.1795 - accuracy: 0.9546 - val_loss: 0.1777 - val_accuracy: 0.9532\n",
            "Epoch 9/10\n",
            "32/32 [==============================] - 27s 834ms/step - loss: 0.1688 - accuracy: 0.9555 - val_loss: 0.1724 - val_accuracy: 0.9530\n",
            "Epoch 10/10\n",
            "32/32 [==============================] - 27s 837ms/step - loss: 0.1643 - accuracy: 0.9557 - val_loss: 0.1684 - val_accuracy: 0.9533\n"
          ],
          "name": "stdout"
        },
        {
          "output_type": "execute_result",
          "data": {
            "text/plain": [
              "<tensorflow.python.keras.callbacks.History at 0x7fa48ddbe048>"
            ]
          },
          "metadata": {
            "tags": []
          },
          "execution_count": 85
        }
      ]
    },
    {
      "cell_type": "code",
      "metadata": {
        "id": "HLGKjsvlVQas",
        "colab_type": "code",
        "colab": {}
      },
      "source": [
        "preds_7 = model_7.predict(X_valid).reshape(-1)"
      ],
      "execution_count": 0,
      "outputs": []
    },
    {
      "cell_type": "code",
      "metadata": {
        "id": "PKrEqJANVR2T",
        "colab_type": "code",
        "colab": {
          "base_uri": "https://localhost:8080/",
          "height": 170
        },
        "outputId": "35564fa8-901b-495a-8451-b77f41368a52"
      },
      "source": [
        "print(classification_report(y_valid, (preds_7 > 0.5).astype(int)))"
      ],
      "execution_count": 87,
      "outputs": [
        {
          "output_type": "stream",
          "text": [
            "              precision    recall  f1-score   support\n",
            "\n",
            "           0       0.97      0.98      0.98     61198\n",
            "           1       0.66      0.53      0.59      4109\n",
            "\n",
            "    accuracy                           0.95     65307\n",
            "   macro avg       0.81      0.76      0.78     65307\n",
            "weighted avg       0.95      0.95      0.95     65307\n",
            "\n"
          ],
          "name": "stdout"
        }
      ]
    },
    {
      "cell_type": "code",
      "metadata": {
        "id": "MdNONayewoFj",
        "colab_type": "code",
        "colab": {}
      },
      "source": [
        ""
      ],
      "execution_count": 0,
      "outputs": []
    }
  ]
}