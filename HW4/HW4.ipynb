{
 "cells": [
  {
   "cell_type": "code",
   "execution_count": 336,
   "metadata": {},
   "outputs": [
    {
     "data": {
      "text/html": [
       "<style>.container { width:85% !important; }</style>"
      ],
      "text/plain": [
       "<IPython.core.display.HTML object>"
      ]
     },
     "metadata": {},
     "output_type": "display_data"
    }
   ],
   "source": [
    "from IPython.core.display import display, HTML\n",
    "display(HTML(\"<style>.container { width:85% !important; }</style>\"))"
   ]
  },
  {
   "cell_type": "markdown",
   "metadata": {},
   "source": [
    "На нескольких алгоритмах кластеризации, умеющих работать с sparse матрицами, проверьте, что работает лучше Count_Vectorizer или TfidfVectorizer (попробуйте выжать максимум из каждого - попробуйте нграммы, символьные нграммы, разные значения max_features и min_df) (3 балла)\n",
    "\n",
    "На нескольких алгоритмах кластеризации проверьте, какое матричное разложение (TruncatedSVD или NMF) работает лучше для кластеризации. (3 балла)\n",
    "\n",
    "С помощью алгоритмов, умеющих выделять выбросы, попробуйте найти необычные объявления (необычные - это такие, которые непонятно к какой категории можно вообще отнести, что-то с ошибками или вообще какая-то дичь). В этом задании можно использовать любую векторизацию. (4 балла)\n",
    "\n",
    "Используйте те же данные, что и в семинаре (колонки - title и category_name)\n",
    "\n",
    "Делайте соответствующие вашими ресурсам и потребностям алгоритма подвыборки из всего датасета. Для сравнения используйте любую из метрик, которые есть в семинаре. Оценивать на глаз тоже можно, но тогда нужно объяснить, почему вы считаете одну кластеризацию лучше.\n",
    "\n",
    "НЕ ЗАБЫВАЙТЕ подбирать параметры в кластеризации. За использование всех параметров по умолчанию, оценка будет снижаться (под использованием всех параметров по умолчанию я имею в виду что-то такое - cluster = DBSCAN())\n",
    "\n",
    "Если получится, используйте метод локтя. (1 бонусный балл)"
   ]
  },
  {
   "cell_type": "code",
   "execution_count": 337,
   "metadata": {},
   "outputs": [],
   "source": [
    "from sklearn.feature_extraction.text import TfidfVectorizer, CountVectorizer\n",
    "import pandas as pd\n",
    "from sklearn.decomposition import TruncatedSVD, NMF\n",
    "from sklearn.cluster import AffinityPropagation, AgglomerativeClustering, DBSCAN, \\\n",
    "                            KMeans, MiniBatchKMeans, Birch, MeanShift, SpectralClustering\n",
    "from sklearn.metrics import adjusted_rand_score, adjusted_mutual_info_score, \\\n",
    "                            silhouette_score, homogeneity_score, completeness_score, \\\n",
    "                            v_measure_score\n",
    "import matplotlib.pyplot as plt\n",
    "\n",
    "import warnings\n",
    "warnings.filterwarnings(\"ignore\")"
   ]
  },
  {
   "cell_type": "code",
   "execution_count": 338,
   "metadata": {},
   "outputs": [],
   "source": [
    "data = pd.read_csv('data.csv')"
   ]
  },
  {
   "cell_type": "code",
   "execution_count": 339,
   "metadata": {},
   "outputs": [],
   "source": [
    "data = data[['category_name', 'title']]"
   ]
  },
  {
   "cell_type": "markdown",
   "metadata": {},
   "source": [
    "На нескольких алгоритмах кластеризации, умеющих работать с sparse матрицами, проверьте, что работает лучше Count_Vectorizer или TfidfVectorizer (попробуйте выжать максимум из каждого - попробуйте нграммы, символьные нграммы, разные значения max_features и min_df) <br>\n",
    "<b>(3 балла)</b>"
   ]
  },
  {
   "cell_type": "code",
   "execution_count": 340,
   "metadata": {},
   "outputs": [],
   "source": [
    "def eval_clusterization(X, y, cluster_labels):\n",
    "    silhouette = silhouette_score(X, cluster_labels)\n",
    "    homogeneity = homogeneity_score(y, cluster_labels)\n",
    "    completeness = completeness_score(y, cluster_labels)\n",
    "    v_measure = v_measure_score(y, cluster_labels)\n",
    "    adj_rand = adjusted_rand_score(y, cluster_labels)\n",
    "    mi_score = adjusted_mutual_info_score(y, cluster_labels)\n",
    "    print('Clusterization metrics')\n",
    "    print(f'Silhouette score: {silhouette:.3f}')\n",
    "    print(f'Homogeneity score: {homogeneity:.3f}')\n",
    "    print(f'Completeness score: {completeness:.3f}')\n",
    "    print(f'V-measure: {v_measure:.3f}')\n",
    "    print(f'Ajusted Rand Index: {adj_rand:.3f}')\n",
    "    print(f'Adjusted Mutual Information score: {mi_score:.3f}')"
   ]
  },
  {
   "cell_type": "code",
   "execution_count": 341,
   "metadata": {},
   "outputs": [],
   "source": [
    "def fit_and_eval(X, y, clusterizer):\n",
    "    global sample\n",
    "    clusterizer.fit(X)\n",
    "    labels = clusterizer.labels_\n",
    "    eval_clusterization(X, y, labels)\n",
    "    sample['cluster'] = labels"
   ]
  },
  {
   "cell_type": "markdown",
   "metadata": {},
   "source": [
    "#### Affinity Propagation"
   ]
  },
  {
   "cell_type": "code",
   "execution_count": 342,
   "metadata": {},
   "outputs": [],
   "source": [
    "sample = data.sample(frac=0.01)\n",
    "y = sample['category_name']"
   ]
  },
  {
   "cell_type": "markdown",
   "metadata": {},
   "source": [
    "*TfidfVectorizer*"
   ]
  },
  {
   "cell_type": "code",
   "execution_count": 343,
   "metadata": {},
   "outputs": [],
   "source": [
    "tf = TfidfVectorizer(min_df=2, max_df=0.9, max_features=500, ngram_range=(1, 2))\n",
    "X_tf = tf.fit_transform(sample['title'])"
   ]
  },
  {
   "cell_type": "code",
   "execution_count": 344,
   "metadata": {
    "scrolled": false
   },
   "outputs": [
    {
     "name": "stdout",
     "output_type": "stream",
     "text": [
      "Did not converge\n",
      "Clusterization metrics\n",
      "Silhouette score: 0.496\n",
      "Homogeneity score: 0.591\n",
      "Completeness score: 0.389\n",
      "V-measure: 0.469\n",
      "Ajusted Rand Index: -0.013\n",
      "Adjusted Mutual Information score: 0.198\n"
     ]
    }
   ],
   "source": [
    "cluster = AffinityPropagation(damping=0.7, preference=-2, \n",
    "                              max_iter=400, verbose=2,\n",
    "                              convergence_iter=10)\n",
    "\n",
    "fit_and_eval(X_tf, y, cluster)"
   ]
  },
  {
   "cell_type": "markdown",
   "metadata": {},
   "source": [
    "*CountVectorizer*"
   ]
  },
  {
   "cell_type": "code",
   "execution_count": 345,
   "metadata": {},
   "outputs": [],
   "source": [
    "cv = CountVectorizer(min_df=3, max_df=0.6, max_features=1000)\n",
    "X_cv = cv.fit_transform(sample['title'])"
   ]
  },
  {
   "cell_type": "code",
   "execution_count": 346,
   "metadata": {
    "scrolled": true
   },
   "outputs": [
    {
     "name": "stdout",
     "output_type": "stream",
     "text": [
      "Converged after 244 iterations.\n",
      "Clusterization metrics\n",
      "Silhouette score: 0.481\n",
      "Homogeneity score: 0.601\n",
      "Completeness score: 0.371\n",
      "V-measure: 0.459\n",
      "Ajusted Rand Index: -0.010\n",
      "Adjusted Mutual Information score: 0.155\n"
     ]
    }
   ],
   "source": [
    "cluster = AffinityPropagation(damping=0.7, preference=-2, \n",
    "                              max_iter=400, verbose=2,\n",
    "                              convergence_iter=10)\n",
    "\n",
    "fit_and_eval(X_cv, y, cluster)"
   ]
  },
  {
   "cell_type": "markdown",
   "metadata": {},
   "source": [
    "Для этого алгоритма оба способа векторизации выдают близкие значения V-measure. У tf преимущество по silhouette score, а у cv по homogeneity. У tf выше показатели completeness и MI score, поэтому, на мой взгляд, в данном случае он лучше подходит для данного алгоритма."
   ]
  },
  {
   "cell_type": "markdown",
   "metadata": {},
   "source": [
    "#### K-means"
   ]
  },
  {
   "cell_type": "code",
   "execution_count": 348,
   "metadata": {},
   "outputs": [],
   "source": [
    "sample = data.sample(frac=0.01)\n",
    "y = sample['category_name']"
   ]
  },
  {
   "cell_type": "markdown",
   "metadata": {},
   "source": [
    "*TfidfVectorizer*"
   ]
  },
  {
   "cell_type": "code",
   "execution_count": 349,
   "metadata": {},
   "outputs": [],
   "source": [
    "tf = TfidfVectorizer(min_df=2, max_df=0.8, max_features=500)\n",
    "X_tf = tf.fit_transform(sample['title'])"
   ]
  },
  {
   "cell_type": "code",
   "execution_count": 350,
   "metadata": {},
   "outputs": [
    {
     "name": "stdout",
     "output_type": "stream",
     "text": [
      "Clusterization metrics\n",
      "Silhouette score: 0.224\n",
      "Homogeneity score: 0.318\n",
      "Completeness score: 0.406\n",
      "V-measure: 0.357\n",
      "Ajusted Rand Index: -0.001\n",
      "Adjusted Mutual Information score: 0.249\n"
     ]
    }
   ],
   "source": [
    "cluster = KMeans(n_clusters=47, n_jobs=-1, random_state=0)\n",
    "fit_and_eval(X_tf, y, cluster)"
   ]
  },
  {
   "cell_type": "markdown",
   "metadata": {},
   "source": [
    "*CountVectorizer*"
   ]
  },
  {
   "cell_type": "code",
   "execution_count": 351,
   "metadata": {},
   "outputs": [],
   "source": [
    "cv = CountVectorizer(min_df=3, max_df=0.4, max_features=1000)\n",
    "X_cv = cv.fit_transform(sample['title'])"
   ]
  },
  {
   "cell_type": "code",
   "execution_count": 352,
   "metadata": {
    "scrolled": true
   },
   "outputs": [
    {
     "name": "stdout",
     "output_type": "stream",
     "text": [
      "Clusterization metrics\n",
      "Silhouette score: 0.184\n",
      "Homogeneity score: 0.276\n",
      "Completeness score: 0.405\n",
      "V-measure: 0.328\n",
      "Ajusted Rand Index: 0.003\n",
      "Adjusted Mutual Information score: 0.212\n"
     ]
    }
   ],
   "source": [
    "cluster = KMeans(n_clusters=47, n_jobs=-1, random_state=0)\n",
    "fit_and_eval(X_cv, y, cluster)"
   ]
  },
  {
   "cell_type": "markdown",
   "metadata": {},
   "source": [
    "У tf выше homogeneity, но ниже completeness. У tf значительно выше silhouette score. MI score также выше. tf здесь опять же лучше."
   ]
  },
  {
   "cell_type": "markdown",
   "metadata": {},
   "source": [
    "Если получится, используйте метод локтя. <br> <b>(1 бонусный балл)</b>"
   ]
  },
  {
   "cell_type": "code",
   "execution_count": 347,
   "metadata": {},
   "outputs": [],
   "source": [
    "def elbow_method(X, clusterizer, left_boundary, right_boundary, step):\n",
    "    scores = []\n",
    "    for i in range(left_boundary, right_boundary, step):\n",
    "        cluster = clusterizer(n_clusters=i, n_jobs=-1, random_state=0)\n",
    "        cluster.fit(X)\n",
    "        labels = cluster.labels_\n",
    "        score = silhouette_score(X, labels)\n",
    "        scores.append(score)\n",
    "    plt.figure(figsize=(12, 5))\n",
    "    plt.plot(list(range(left_boundary, right_boundary, step)), scores)\n",
    "    return scores"
   ]
  },
  {
   "cell_type": "code",
   "execution_count": 356,
   "metadata": {},
   "outputs": [
    {
     "data": {
      "text/plain": [
       "[0.18342572161570042,\n",
       " 0.29745714764594167,\n",
       " 0.36429422641953124,\n",
       " 0.43063628672781123,\n",
       " 0.4865221069677786,\n",
       " 0.5261360445325831,\n",
       " 0.547916441125916,\n",
       " 0.5715974585660296,\n",
       " 0.5834028328256952,\n",
       " 0.5929605096910143,\n",
       " 0.6020625061185594,\n",
       " 0.6077160362627526,\n",
       " 0.6146577537530645,\n",
       " 0.6233279851169248,\n",
       " 0.6262296002586222,\n",
       " 0.6305121135018382,\n",
       " 0.6301527362085086]"
      ]
     },
     "execution_count": 356,
     "metadata": {},
     "output_type": "execute_result"
    },
    {
     "data": {
      "image/png": "[encoded data removed]",
      "text/plain": [
       "<Figure size 864x360 with 1 Axes>"
      ]
     },
     "metadata": {
      "needs_background": "light"
     },
     "output_type": "display_data"
    }
   ],
   "source": [
    "elbow_method(X_tf, KMeans, 25, 1250, 75)"
   ]
  },
  {
   "cell_type": "markdown",
   "metadata": {},
   "source": [
    "Видим, что в районе 1100 кластеров перестает расти silhouette score."
   ]
  },
  {
   "cell_type": "code",
   "execution_count": 357,
   "metadata": {
    "scrolled": true
   },
   "outputs": [
    {
     "name": "stdout",
     "output_type": "stream",
     "text": [
      "Clusterization metrics\n",
      "Silhouette score: 0.627\n",
      "Homogeneity score: 0.742\n",
      "Completeness score: 0.390\n",
      "V-measure: 0.511\n",
      "Ajusted Rand Index: -0.003\n",
      "Adjusted Mutual Information score: 0.111\n"
     ]
    }
   ],
   "source": [
    "cluster = KMeans(n_clusters=1100, n_jobs=-1, random_state=0)\n",
    "cluster.fit(X_tf)\n",
    "c_labels = cluster.labels_\n",
    "eval_clusterization(X_tf, y, c_labels)"
   ]
  },
  {
   "cell_type": "markdown",
   "metadata": {},
   "source": [
    "Все метрики действительно повысились. При этом не ясно как интерпретировать такое количество кластеров."
   ]
  },
  {
   "cell_type": "markdown",
   "metadata": {},
   "source": [
    "#### Spectral Clustering"
   ]
  },
  {
   "cell_type": "code",
   "execution_count": 71,
   "metadata": {},
   "outputs": [],
   "source": [
    "sample = data.sample(frac=0.01)\n",
    "y = sample['category_name']"
   ]
  },
  {
   "cell_type": "markdown",
   "metadata": {},
   "source": [
    "*TfidfVectorizer*"
   ]
  },
  {
   "cell_type": "code",
   "execution_count": 72,
   "metadata": {},
   "outputs": [],
   "source": [
    "tf = TfidfVectorizer(min_df=2, max_df=0.8, max_features=500)\n",
    "X_tf = tf.fit_transform(sample['title'])"
   ]
  },
  {
   "cell_type": "code",
   "execution_count": 73,
   "metadata": {
    "scrolled": true
   },
   "outputs": [
    {
     "name": "stdout",
     "output_type": "stream",
     "text": [
      "Clusterization metrics\n",
      "Silhouette score: 0.216\n",
      "Homogeneity score: 0.243\n",
      "Completeness score: 0.377\n",
      "V-measure: 0.296\n",
      "Ajusted Rand Index: -0.021\n",
      "Adjusted Mutual Information score: 0.171\n"
     ]
    }
   ],
   "source": [
    "cluster = SpectralClustering(n_clusters=47, n_jobs=-1, random_state=0)\n",
    "fit_and_eval(X_tf, y, cluster)"
   ]
  },
  {
   "cell_type": "markdown",
   "metadata": {},
   "source": [
    "*CountVectorizer*"
   ]
  },
  {
   "cell_type": "code",
   "execution_count": 74,
   "metadata": {},
   "outputs": [],
   "source": [
    "cv = CountVectorizer(min_df=3, max_df=0.4, max_features=1000)\n",
    "X_cv = cv.fit_transform(sample['title'])"
   ]
  },
  {
   "cell_type": "code",
   "execution_count": 75,
   "metadata": {
    "scrolled": false
   },
   "outputs": [
    {
     "name": "stdout",
     "output_type": "stream",
     "text": [
      "Clusterization metrics\n",
      "Silhouette score: 0.211\n",
      "Homogeneity score: 0.125\n",
      "Completeness score: 0.593\n",
      "V-measure: 0.207\n",
      "Ajusted Rand Index: 0.025\n",
      "Adjusted Mutual Information score: 0.086\n"
     ]
    }
   ],
   "source": [
    "cluster = SpectralClustering(n_clusters=47, n_jobs=-1, random_state=0)\n",
    "fit_and_eval(X_cv, y, cluster)"
   ]
  },
  {
   "cell_type": "markdown",
   "metadata": {},
   "source": [
    "На этом алгоритме видим явное преимущество tf почти по всем метрикам."
   ]
  },
  {
   "cell_type": "markdown",
   "metadata": {},
   "source": [
    "На нескольких алгоритмах кластеризации проверьте, какое матричное разложение (TruncatedSVD или NMF) работает лучше для кластеризации. <br>\n",
    "<b>(3 балла)</b>"
   ]
  },
  {
   "cell_type": "markdown",
   "metadata": {},
   "source": [
    "#### Mean Shift"
   ]
  },
  {
   "cell_type": "code",
   "execution_count": 92,
   "metadata": {},
   "outputs": [],
   "source": [
    "sample = data.sample(frac=0.01)\n",
    "y = sample['category_name']"
   ]
  },
  {
   "cell_type": "code",
   "execution_count": 93,
   "metadata": {},
   "outputs": [],
   "source": [
    "cv = CountVectorizer(min_df=3, max_df=0.6, max_features=2000)\n",
    "X_cv = cv.fit_transform(sample['title'])\n",
    "svd = TruncatedSVD(50, random_state=0)\n",
    "X_svd = svd.fit_transform(X_cv)"
   ]
  },
  {
   "cell_type": "markdown",
   "metadata": {},
   "source": [
    "*SVD*"
   ]
  },
  {
   "cell_type": "code",
   "execution_count": 94,
   "metadata": {},
   "outputs": [
    {
     "name": "stdout",
     "output_type": "stream",
     "text": [
      "Clusterization metrics\n",
      "Silhouette score: 0.714\n",
      "Homogeneity score: 0.339\n",
      "Completeness score: 0.377\n",
      "V-measure: 0.357\n",
      "Ajusted Rand Index: -0.008\n",
      "Adjusted Mutual Information score: 0.212\n"
     ]
    }
   ],
   "source": [
    "cluster = MeanShift(cluster_all=False, bandwidth=0.8, n_jobs=-1)\n",
    "fit_and_eval(X_svd, y, cluster)"
   ]
  },
  {
   "cell_type": "markdown",
   "metadata": {},
   "source": [
    "*NMF*"
   ]
  },
  {
   "cell_type": "code",
   "execution_count": 95,
   "metadata": {},
   "outputs": [],
   "source": [
    "cv = CountVectorizer(min_df=3, max_df=0.6, max_features=2000)\n",
    "X_cv = cv.fit_transform(sample['title'])\n",
    "nmf = NMF(50, random_state=0)\n",
    "X_nmf = nmf.fit_transform(X_cv)"
   ]
  },
  {
   "cell_type": "code",
   "execution_count": 96,
   "metadata": {
    "scrolled": true
   },
   "outputs": [
    {
     "name": "stdout",
     "output_type": "stream",
     "text": [
      "Clusterization metrics\n",
      "Silhouette score: 0.608\n",
      "Homogeneity score: 0.002\n",
      "Completeness score: 0.307\n",
      "V-measure: 0.004\n",
      "Ajusted Rand Index: 0.000\n",
      "Adjusted Mutual Information score: 0.001\n"
     ]
    }
   ],
   "source": [
    "cluster = MeanShift(cluster_all=False, bandwidth=0.8, n_jobs=-1)\n",
    "fit_and_eval(X_nmf, y, cluster)"
   ]
  },
  {
   "cell_type": "markdown",
   "metadata": {},
   "source": [
    "Для данного алгоритма значительное преимущество у SVD разложения: V-measure, MI score."
   ]
  },
  {
   "cell_type": "markdown",
   "metadata": {},
   "source": [
    "#### Agglomerative Clustering"
   ]
  },
  {
   "cell_type": "code",
   "execution_count": 102,
   "metadata": {},
   "outputs": [],
   "source": [
    "sample = data.sample(frac=0.05)\n",
    "y = sample['category_name']"
   ]
  },
  {
   "cell_type": "markdown",
   "metadata": {},
   "source": [
    "*SVD*"
   ]
  },
  {
   "cell_type": "code",
   "execution_count": 104,
   "metadata": {},
   "outputs": [],
   "source": [
    "cv = CountVectorizer(min_df=3, max_df=0.6, max_features=2000)\n",
    "X_cv = cv.fit_transform(sample['title'])\n",
    "svd = TruncatedSVD(50, random_state=0)\n",
    "X_svd = svd.fit_transform(X_cv)"
   ]
  },
  {
   "cell_type": "code",
   "execution_count": 105,
   "metadata": {
    "scrolled": true
   },
   "outputs": [
    {
     "name": "stdout",
     "output_type": "stream",
     "text": [
      "Clusterization metrics\n",
      "Silhouette score: 0.637\n",
      "Homogeneity score: 0.302\n",
      "Completeness score: 0.370\n",
      "V-measure: 0.332\n",
      "Ajusted Rand Index: -0.001\n",
      "Adjusted Mutual Information score: 0.282\n"
     ]
    }
   ],
   "source": [
    "cluster = AgglomerativeClustering(n_clusters=47)\n",
    "fit_and_eval(X_svd, y, cluster)"
   ]
  },
  {
   "cell_type": "markdown",
   "metadata": {},
   "source": [
    "*NMF*"
   ]
  },
  {
   "cell_type": "code",
   "execution_count": 106,
   "metadata": {},
   "outputs": [],
   "source": [
    "cv = CountVectorizer(min_df=3, max_df=0.6, max_features=2000)\n",
    "X_cv = cv.fit_transform(sample['title'])\n",
    "nmf = NMF(50, random_state=0)\n",
    "X_nmf = nmf.fit_transform(X_cv)"
   ]
  },
  {
   "cell_type": "code",
   "execution_count": 107,
   "metadata": {
    "scrolled": true
   },
   "outputs": [
    {
     "name": "stdout",
     "output_type": "stream",
     "text": [
      "Clusterization metrics\n",
      "Silhouette score: 0.707\n",
      "Homogeneity score: 0.292\n",
      "Completeness score: 0.365\n",
      "V-measure: 0.324\n",
      "Ajusted Rand Index: -0.003\n",
      "Adjusted Mutual Information score: 0.272\n"
     ]
    }
   ],
   "source": [
    "cluster = AgglomerativeClustering(n_clusters=47)\n",
    "fit_and_eval(X_nmf, y, cluster)"
   ]
  },
  {
   "cell_type": "markdown",
   "metadata": {},
   "source": [
    "В отличие от предыдущих алгоритмов, здесь NMF в некоторых метриках показывает результат лучше (silhouette score, v-measure), в остальных на почти на равных с SVD. Кажется, в данном случае сложно оценить какое разложение действительно лучше. "
   ]
  },
  {
   "cell_type": "markdown",
   "metadata": {},
   "source": [
    "#### DBSCAN"
   ]
  },
  {
   "cell_type": "code",
   "execution_count": 115,
   "metadata": {},
   "outputs": [],
   "source": [
    "sample = data.sample(frac=0.05)\n",
    "y = sample['category_name']"
   ]
  },
  {
   "cell_type": "code",
   "execution_count": 116,
   "metadata": {},
   "outputs": [],
   "source": [
    "cv = CountVectorizer(min_df=3, max_df=0.6, max_features=2000)\n",
    "X_cv = cv.fit_transform(sample['title'])\n",
    "svd = TruncatedSVD(50, random_state=0)\n",
    "X_svd = svd.fit_transform(X_cv)"
   ]
  },
  {
   "cell_type": "markdown",
   "metadata": {},
   "source": [
    "*SVD*"
   ]
  },
  {
   "cell_type": "code",
   "execution_count": 117,
   "metadata": {},
   "outputs": [
    {
     "name": "stdout",
     "output_type": "stream",
     "text": [
      "Clusterization metrics\n",
      "Silhouette score: 0.672\n",
      "Homogeneity score: 0.301\n",
      "Completeness score: 0.343\n",
      "V-measure: 0.321\n",
      "Ajusted Rand Index: -0.010\n",
      "Adjusted Mutual Information score: 0.265\n"
     ]
    }
   ],
   "source": [
    "cluster = DBSCAN(min_samples=7, eps=0.4, n_jobs=-1)\n",
    "fit_and_eval(X_svd, y, cluster)"
   ]
  },
  {
   "cell_type": "markdown",
   "metadata": {},
   "source": [
    "*NMF*"
   ]
  },
  {
   "cell_type": "code",
   "execution_count": 121,
   "metadata": {},
   "outputs": [
    {
     "name": "stdout",
     "output_type": "stream",
     "text": [
      "Clusterization metrics\n",
      "Silhouette score: 0.507\n",
      "Homogeneity score: 0.001\n",
      "Completeness score: 0.053\n",
      "V-measure: 0.002\n",
      "Ajusted Rand Index: -0.000\n",
      "Adjusted Mutual Information score: -0.000\n"
     ]
    }
   ],
   "source": [
    "# с параметрами как у SVD не работает\n",
    "cluster = DBSCAN(min_samples=10, eps=0.3)\n",
    "fit_and_eval(X_nmf, y, cluster)"
   ]
  },
  {
   "cell_type": "markdown",
   "metadata": {},
   "source": [
    "Здесь SVD лучше по всем параметрам."
   ]
  },
  {
   "cell_type": "markdown",
   "metadata": {},
   "source": [
    "Данный раздел можно резюмировать тем, что несмотря на то, что tfidfvectorizer лучше работает на алгоритмах с dense матрицами, в алгоритмах со sparse матрицами лучше себя показывает countvectorizer. Честно говоря, достаточно сложно оценить в чем причина такого различия, но это стоит иметь в виду."
   ]
  },
  {
   "cell_type": "markdown",
   "metadata": {},
   "source": [
    "С помощью алгоритмов, умеющих выделять выбросы, попробуйте найти необычные объявления (необычные - это такие, которые непонятно к какой категории можно вообще отнести, что-то с ошибками или вообще какая-то дичь). В этом задании можно использовать любую векторизацию. <br>\n",
    "<b>(4 балла)</b>"
   ]
  },
  {
   "cell_type": "markdown",
   "metadata": {},
   "source": [
    "Алгоритмы **DBSCAN** и **Mean Shift** умеют выделять в кластеры те элементы, которые не удалось поместить ни в какие другие кластеры. Строго говоря, это не обязательно то же самое, что выбросы."
   ]
  },
  {
   "cell_type": "markdown",
   "metadata": {},
   "source": [
    "#### DBSCAN"
   ]
  },
  {
   "cell_type": "code",
   "execution_count": 122,
   "metadata": {},
   "outputs": [],
   "source": [
    "sample = data.sample(frac=0.05)\n",
    "y = sample['category_name']"
   ]
  },
  {
   "cell_type": "code",
   "execution_count": 130,
   "metadata": {},
   "outputs": [],
   "source": [
    "cv = CountVectorizer(min_df=4, max_df=0.6, max_features=2000)\n",
    "X_cv = cv.fit_transform(sample['title'])\n",
    "svd = TruncatedSVD(50, random_state=0)\n",
    "X_svd = svd.fit_transform(X_cv)"
   ]
  },
  {
   "cell_type": "markdown",
   "metadata": {},
   "source": [
    "Попробовал разные параметры. Увеличение требований к кластерам (больший `min_sample` и меньший `eps`) приводит к увеличению размера кластера `-1`. В результате получается от 600 до нескольких тысяч строк. Изменение параметра `leaf_size` для алгоритмов, поддерживающих его, не влияет на размер данного кластера."
   ]
  },
  {
   "cell_type": "code",
   "execution_count": 247,
   "metadata": {
    "scrolled": false
   },
   "outputs": [
    {
     "name": "stdout",
     "output_type": "stream",
     "text": [
      "Clusterization metrics\n",
      "Silhouette score: 0.431\n",
      "Homogeneity score: 0.253\n",
      "Completeness score: 0.338\n",
      "V-measure: 0.289\n",
      "Ajusted Rand Index: 0.007\n",
      "Adjusted Mutual Information score: 0.176\n"
     ]
    }
   ],
   "source": [
    "cluster = DBSCAN(min_samples=6, eps=0.6, n_jobs=-1, algorithm='kd_tree', leaf_size=30)\n",
    "fit_and_eval(X_svd, y, cluster)"
   ]
  },
  {
   "cell_type": "markdown",
   "metadata": {},
   "source": [
    "Не удалось подобрать такую комбинацию параметров, чтобы в кластере -1 было бы менее 600 строк."
   ]
  },
  {
   "cell_type": "code",
   "execution_count": 248,
   "metadata": {
    "scrolled": true
   },
   "outputs": [
    {
     "data": {
      "text/plain": [
       "636"
      ]
     },
     "execution_count": 248,
     "metadata": {},
     "output_type": "execute_result"
    }
   ],
   "source": [
    "len(sample.loc[sample.cluster == -1])"
   ]
  },
  {
   "cell_type": "markdown",
   "metadata": {},
   "source": [
    "Кажется, что это обычные объявления. Сложно назвать это выбросами."
   ]
  },
  {
   "cell_type": "code",
   "execution_count": 249,
   "metadata": {
    "scrolled": true
   },
   "outputs": [
    {
     "data": {
      "text/html": [
       "<div>\n",
       "<style scoped>\n",
       "    .dataframe tbody tr th:only-of-type {\n",
       "        vertical-align: middle;\n",
       "    }\n",
       "\n",
       "    .dataframe tbody tr th {\n",
       "        vertical-align: top;\n",
       "    }\n",
       "\n",
       "    .dataframe thead th {\n",
       "        text-align: right;\n",
       "    }\n",
       "</style>\n",
       "<table border=\"1\" class=\"dataframe\">\n",
       "  <thead>\n",
       "    <tr style=\"text-align: right;\">\n",
       "      <th></th>\n",
       "      <th>category_name</th>\n",
       "      <th>title</th>\n",
       "      <th>cluster</th>\n",
       "    </tr>\n",
       "  </thead>\n",
       "  <tbody>\n",
       "    <tr>\n",
       "      <th>76677</th>\n",
       "      <td>Одежда, обувь, аксессуары</td>\n",
       "      <td>Куртка из натуральной кожи</td>\n",
       "      <td>-1</td>\n",
       "    </tr>\n",
       "    <tr>\n",
       "      <th>45489</th>\n",
       "      <td>Одежда, обувь, аксессуары</td>\n",
       "      <td>Женские босоножки</td>\n",
       "      <td>-1</td>\n",
       "    </tr>\n",
       "    <tr>\n",
       "      <th>84495</th>\n",
       "      <td>Автомобили</td>\n",
       "      <td>LADA Priora, 2010</td>\n",
       "      <td>-1</td>\n",
       "    </tr>\n",
       "    <tr>\n",
       "      <th>119651</th>\n",
       "      <td>Предложение услуг</td>\n",
       "      <td>Ремонт и настройка пк, ноутбуков,интернета на ...</td>\n",
       "      <td>-1</td>\n",
       "    </tr>\n",
       "    <tr>\n",
       "      <th>92774</th>\n",
       "      <td>Гаражи и машиноместа</td>\n",
       "      <td>Гараж, 24 м²</td>\n",
       "      <td>-1</td>\n",
       "    </tr>\n",
       "    <tr>\n",
       "      <th>186326</th>\n",
       "      <td>Детская одежда и обувь</td>\n",
       "      <td>Пакетом 10 платьев</td>\n",
       "      <td>-1</td>\n",
       "    </tr>\n",
       "    <tr>\n",
       "      <th>87527</th>\n",
       "      <td>Детская одежда и обувь</td>\n",
       "      <td>Кепочка-зайка для мальчика</td>\n",
       "      <td>-1</td>\n",
       "    </tr>\n",
       "    <tr>\n",
       "      <th>189859</th>\n",
       "      <td>Телефоны</td>\n",
       "      <td>iPhone 5s 16gb (Арт.573279)</td>\n",
       "      <td>-1</td>\n",
       "    </tr>\n",
       "    <tr>\n",
       "      <th>55557</th>\n",
       "      <td>Детская одежда и обувь</td>\n",
       "      <td>Бриджи на девочку размер 92 черубино новые</td>\n",
       "      <td>-1</td>\n",
       "    </tr>\n",
       "    <tr>\n",
       "      <th>45640</th>\n",
       "      <td>Товары для компьютера</td>\n",
       "      <td>Wi-Fi роутер D-Link dir-300 в идеальном состоянии</td>\n",
       "      <td>-1</td>\n",
       "    </tr>\n",
       "  </tbody>\n",
       "</table>\n",
       "</div>"
      ],
      "text/plain": [
       "                    category_name  \\\n",
       "76677   Одежда, обувь, аксессуары   \n",
       "45489   Одежда, обувь, аксессуары   \n",
       "84495                  Автомобили   \n",
       "119651          Предложение услуг   \n",
       "92774        Гаражи и машиноместа   \n",
       "186326     Детская одежда и обувь   \n",
       "87527      Детская одежда и обувь   \n",
       "189859                   Телефоны   \n",
       "55557      Детская одежда и обувь   \n",
       "45640       Товары для компьютера   \n",
       "\n",
       "                                                    title  cluster  \n",
       "76677                          Куртка из натуральной кожи       -1  \n",
       "45489                                   Женские босоножки       -1  \n",
       "84495                                   LADA Priora, 2010       -1  \n",
       "119651  Ремонт и настройка пк, ноутбуков,интернета на ...       -1  \n",
       "92774                                        Гараж, 24 м²       -1  \n",
       "186326                                 Пакетом 10 платьев       -1  \n",
       "87527                          Кепочка-зайка для мальчика       -1  \n",
       "189859                        iPhone 5s 16gb (Арт.573279)       -1  \n",
       "55557          Бриджи на девочку размер 92 черубино новые       -1  \n",
       "45640   Wi-Fi роутер D-Link dir-300 в идеальном состоянии       -1  "
      ]
     },
     "execution_count": 249,
     "metadata": {},
     "output_type": "execute_result"
    }
   ],
   "source": [
    "sample.loc[sample.cluster == -1].head(10)"
   ]
  },
  {
   "cell_type": "markdown",
   "metadata": {},
   "source": [
    "#### Mean Shift"
   ]
  },
  {
   "cell_type": "code",
   "execution_count": 251,
   "metadata": {},
   "outputs": [],
   "source": [
    "sample = data.sample(frac=0.01)\n",
    "y = sample['category_name']"
   ]
  },
  {
   "cell_type": "code",
   "execution_count": 252,
   "metadata": {},
   "outputs": [],
   "source": [
    "cv = CountVectorizer(min_df=3, max_df=0.6, max_features=2000)\n",
    "X_cv = cv.fit_transform(sample['title'])\n",
    "svd = TruncatedSVD(100, random_state=0)\n",
    "X_svd = svd.fit_transform(X_cv)"
   ]
  },
  {
   "cell_type": "code",
   "execution_count": 258,
   "metadata": {
    "scrolled": false
   },
   "outputs": [
    {
     "name": "stdout",
     "output_type": "stream",
     "text": [
      "Clusterization metrics\n",
      "Silhouette score: 0.595\n",
      "Homogeneity score: 0.412\n",
      "Completeness score: 0.367\n",
      "V-measure: 0.388\n",
      "Ajusted Rand Index: -0.013\n",
      "Adjusted Mutual Information score: 0.199\n"
     ]
    }
   ],
   "source": [
    "cluster = MeanShift(cluster_all=False, bandwidth=0.9, n_jobs=-1)\n",
    "fit_and_eval(X_svd, y, cluster)"
   ]
  },
  {
   "cell_type": "markdown",
   "metadata": {},
   "source": [
    "Опять же достаточно обычные объявления. Какой-то особой странности не наблюдается."
   ]
  },
  {
   "cell_type": "code",
   "execution_count": 259,
   "metadata": {},
   "outputs": [
    {
     "data": {
      "text/plain": [
       "122"
      ]
     },
     "execution_count": 259,
     "metadata": {},
     "output_type": "execute_result"
    }
   ],
   "source": [
    "len(sample.loc[sample.cluster == -1])"
   ]
  },
  {
   "cell_type": "code",
   "execution_count": 260,
   "metadata": {
    "scrolled": false
   },
   "outputs": [
    {
     "data": {
      "text/html": [
       "<div>\n",
       "<style scoped>\n",
       "    .dataframe tbody tr th:only-of-type {\n",
       "        vertical-align: middle;\n",
       "    }\n",
       "\n",
       "    .dataframe tbody tr th {\n",
       "        vertical-align: top;\n",
       "    }\n",
       "\n",
       "    .dataframe thead th {\n",
       "        text-align: right;\n",
       "    }\n",
       "</style>\n",
       "<table border=\"1\" class=\"dataframe\">\n",
       "  <thead>\n",
       "    <tr style=\"text-align: right;\">\n",
       "      <th></th>\n",
       "      <th>category_name</th>\n",
       "      <th>title</th>\n",
       "      <th>cluster</th>\n",
       "    </tr>\n",
       "  </thead>\n",
       "  <tbody>\n",
       "    <tr>\n",
       "      <th>134542</th>\n",
       "      <td>Предложение услуг</td>\n",
       "      <td>Обивка ремонт мягкой мебели</td>\n",
       "      <td>-1</td>\n",
       "    </tr>\n",
       "    <tr>\n",
       "      <th>206252</th>\n",
       "      <td>Предложение услуг</td>\n",
       "      <td>Качественный ремонт квартир</td>\n",
       "      <td>-1</td>\n",
       "    </tr>\n",
       "    <tr>\n",
       "      <th>212296</th>\n",
       "      <td>Предложение услуг</td>\n",
       "      <td>Ремонт любой сложности</td>\n",
       "      <td>-1</td>\n",
       "    </tr>\n",
       "    <tr>\n",
       "      <th>87143</th>\n",
       "      <td>Ноутбуки</td>\n",
       "      <td>Ноутбук Asus</td>\n",
       "      <td>-1</td>\n",
       "    </tr>\n",
       "    <tr>\n",
       "      <th>239834</th>\n",
       "      <td>Посуда и товары для кухни</td>\n",
       "      <td>Набор 34 столовых приборов \"Тройка\"</td>\n",
       "      <td>-1</td>\n",
       "    </tr>\n",
       "    <tr>\n",
       "      <th>165852</th>\n",
       "      <td>Предложение услуг</td>\n",
       "      <td>Сварочные работы любой сложности</td>\n",
       "      <td>-1</td>\n",
       "    </tr>\n",
       "    <tr>\n",
       "      <th>91912</th>\n",
       "      <td>Предложение услуг</td>\n",
       "      <td>Строительные работы</td>\n",
       "      <td>-1</td>\n",
       "    </tr>\n",
       "    <tr>\n",
       "      <th>253522</th>\n",
       "      <td>Предложение услуг</td>\n",
       "      <td>Выполню монтаж, ремонт, тех. обслугу опс, лвс</td>\n",
       "      <td>-1</td>\n",
       "    </tr>\n",
       "    <tr>\n",
       "      <th>55967</th>\n",
       "      <td>Одежда, обувь, аксессуары</td>\n",
       "      <td>Новое болеро</td>\n",
       "      <td>-1</td>\n",
       "    </tr>\n",
       "    <tr>\n",
       "      <th>185780</th>\n",
       "      <td>Квартиры</td>\n",
       "      <td>2-к квартира, 68 м², 3/17 эт.</td>\n",
       "      <td>-1</td>\n",
       "    </tr>\n",
       "  </tbody>\n",
       "</table>\n",
       "</div>"
      ],
      "text/plain": [
       "                    category_name  \\\n",
       "134542          Предложение услуг   \n",
       "206252          Предложение услуг   \n",
       "212296          Предложение услуг   \n",
       "87143                    Ноутбуки   \n",
       "239834  Посуда и товары для кухни   \n",
       "165852          Предложение услуг   \n",
       "91912           Предложение услуг   \n",
       "253522          Предложение услуг   \n",
       "55967   Одежда, обувь, аксессуары   \n",
       "185780                   Квартиры   \n",
       "\n",
       "                                                title  cluster  \n",
       "134542                    Обивка ремонт мягкой мебели       -1  \n",
       "206252                    Качественный ремонт квартир       -1  \n",
       "212296                         Ремонт любой сложности       -1  \n",
       "87143                                    Ноутбук Asus       -1  \n",
       "239834            Набор 34 столовых приборов \"Тройка\"       -1  \n",
       "165852               Сварочные работы любой сложности       -1  \n",
       "91912                             Строительные работы       -1  \n",
       "253522  Выполню монтаж, ремонт, тех. обслугу опс, лвс       -1  \n",
       "55967                                    Новое болеро       -1  \n",
       "185780                  2-к квартира, 68 м², 3/17 эт.       -1  "
      ]
     },
     "execution_count": 260,
     "metadata": {},
     "output_type": "execute_result"
    }
   ],
   "source": [
    "sample.loc[sample.cluster == -1].head(10)"
   ]
  },
  {
   "cell_type": "markdown",
   "metadata": {},
   "source": [
    "Вообще для определения именно выбросов есть специальные алгоритмы."
   ]
  },
  {
   "cell_type": "code",
   "execution_count": 277,
   "metadata": {},
   "outputs": [],
   "source": [
    "from sklearn.ensemble import IsolationForest\n",
    "from sklearn.neighbors import LocalOutlierFactor"
   ]
  },
  {
   "cell_type": "code",
   "execution_count": 278,
   "metadata": {},
   "outputs": [],
   "source": [
    "iforest = IsolationForest(random_state=0)\n",
    "lof = LocalOutlierFactor(n_neighbors=30)"
   ]
  },
  {
   "cell_type": "code",
   "execution_count": 279,
   "metadata": {},
   "outputs": [],
   "source": [
    "sample['forest'] = iforest.fit_predict(X_cv)\n",
    "sample['lof'] = lof.fit_predict(X_cv)"
   ]
  },
  {
   "cell_type": "markdown",
   "metadata": {},
   "source": [
    "Однако, и они не выдают ничего интересного. IsolationForest в основном выбирает недвижимость."
   ]
  },
  {
   "cell_type": "code",
   "execution_count": 285,
   "metadata": {},
   "outputs": [
    {
     "data": {
      "text/plain": [
       "Квартиры                      99\n",
       "Дома, дачи, коттеджи          50\n",
       "Детская одежда и обувь        34\n",
       "Одежда, обувь, аксессуары     16\n",
       "Товары для детей и игрушки    12\n",
       "Земельные участки             12\n",
       "Комнаты                       11\n",
       "Автомобили                     6\n",
       "Гаражи и машиноместа           6\n",
       "Телефоны                       3\n",
       "Коммерческая недвижимость      3\n",
       "Бытовая техника                1\n",
       "Коллекционирование             1\n",
       "Спорт и отдых                  1\n",
       "Name: category_name, dtype: int64"
      ]
     },
     "execution_count": 285,
     "metadata": {},
     "output_type": "execute_result"
    }
   ],
   "source": [
    "sample.loc[sample.forest == -1].category_name.value_counts()"
   ]
  },
  {
   "cell_type": "code",
   "execution_count": 280,
   "metadata": {
    "scrolled": true
   },
   "outputs": [
    {
     "data": {
      "text/html": [
       "<div>\n",
       "<style scoped>\n",
       "    .dataframe tbody tr th:only-of-type {\n",
       "        vertical-align: middle;\n",
       "    }\n",
       "\n",
       "    .dataframe tbody tr th {\n",
       "        vertical-align: top;\n",
       "    }\n",
       "\n",
       "    .dataframe thead th {\n",
       "        text-align: right;\n",
       "    }\n",
       "</style>\n",
       "<table border=\"1\" class=\"dataframe\">\n",
       "  <thead>\n",
       "    <tr style=\"text-align: right;\">\n",
       "      <th></th>\n",
       "      <th>category_name</th>\n",
       "      <th>title</th>\n",
       "      <th>cluster</th>\n",
       "      <th>forest</th>\n",
       "      <th>lof</th>\n",
       "    </tr>\n",
       "  </thead>\n",
       "  <tbody>\n",
       "    <tr>\n",
       "      <th>172008</th>\n",
       "      <td>Квартиры</td>\n",
       "      <td>2-к квартира, 44 м², 3/5 эт.</td>\n",
       "      <td>1</td>\n",
       "      <td>-1</td>\n",
       "      <td>1</td>\n",
       "    </tr>\n",
       "    <tr>\n",
       "      <th>6417</th>\n",
       "      <td>Детская одежда и обувь</td>\n",
       "      <td>Стильная ветровка mexx</td>\n",
       "      <td>53</td>\n",
       "      <td>-1</td>\n",
       "      <td>1</td>\n",
       "    </tr>\n",
       "    <tr>\n",
       "      <th>253112</th>\n",
       "      <td>Дома, дачи, коттеджи</td>\n",
       "      <td>Дача 25 м² на участке 6 сот.</td>\n",
       "      <td>41</td>\n",
       "      <td>-1</td>\n",
       "      <td>1</td>\n",
       "    </tr>\n",
       "    <tr>\n",
       "      <th>252528</th>\n",
       "      <td>Квартиры</td>\n",
       "      <td>Студия, 25.9 м², 13/18 эт.</td>\n",
       "      <td>143</td>\n",
       "      <td>-1</td>\n",
       "      <td>1</td>\n",
       "    </tr>\n",
       "    <tr>\n",
       "      <th>26401</th>\n",
       "      <td>Земельные участки</td>\n",
       "      <td>Участок 10 сот. (СНТ, ДНП)</td>\n",
       "      <td>155</td>\n",
       "      <td>-1</td>\n",
       "      <td>1</td>\n",
       "    </tr>\n",
       "    <tr>\n",
       "      <th>203057</th>\n",
       "      <td>Гаражи и машиноместа</td>\n",
       "      <td>Гараж, 18 м²</td>\n",
       "      <td>47</td>\n",
       "      <td>-1</td>\n",
       "      <td>1</td>\n",
       "    </tr>\n",
       "    <tr>\n",
       "      <th>84706</th>\n",
       "      <td>Квартиры</td>\n",
       "      <td>Студия, 25 м², 11/16 эт.</td>\n",
       "      <td>141</td>\n",
       "      <td>-1</td>\n",
       "      <td>1</td>\n",
       "    </tr>\n",
       "    <tr>\n",
       "      <th>65860</th>\n",
       "      <td>Квартиры</td>\n",
       "      <td>2-к квартира, 45 м², 1/9 эт.</td>\n",
       "      <td>1</td>\n",
       "      <td>-1</td>\n",
       "      <td>1</td>\n",
       "    </tr>\n",
       "    <tr>\n",
       "      <th>42772</th>\n",
       "      <td>Квартиры</td>\n",
       "      <td>2-к квартира, 68 м², 3/10 эт.</td>\n",
       "      <td>31</td>\n",
       "      <td>-1</td>\n",
       "      <td>1</td>\n",
       "    </tr>\n",
       "    <tr>\n",
       "      <th>195086</th>\n",
       "      <td>Комнаты</td>\n",
       "      <td>Комната 13 м² в 6-к, 4/4 эт.</td>\n",
       "      <td>57</td>\n",
       "      <td>-1</td>\n",
       "      <td>1</td>\n",
       "    </tr>\n",
       "  </tbody>\n",
       "</table>\n",
       "</div>"
      ],
      "text/plain": [
       "                 category_name                          title  cluster  \\\n",
       "172008                Квартиры   2-к квартира, 44 м², 3/5 эт.        1   \n",
       "6417    Детская одежда и обувь         Стильная ветровка mexx       53   \n",
       "253112    Дома, дачи, коттеджи   Дача 25 м² на участке 6 сот.       41   \n",
       "252528                Квартиры     Студия, 25.9 м², 13/18 эт.      143   \n",
       "26401        Земельные участки     Участок 10 сот. (СНТ, ДНП)      155   \n",
       "203057    Гаражи и машиноместа                   Гараж, 18 м²       47   \n",
       "84706                 Квартиры       Студия, 25 м², 11/16 эт.      141   \n",
       "65860                 Квартиры   2-к квартира, 45 м², 1/9 эт.        1   \n",
       "42772                 Квартиры  2-к квартира, 68 м², 3/10 эт.       31   \n",
       "195086                 Комнаты   Комната 13 м² в 6-к, 4/4 эт.       57   \n",
       "\n",
       "        forest  lof  \n",
       "172008      -1    1  \n",
       "6417        -1    1  \n",
       "253112      -1    1  \n",
       "252528      -1    1  \n",
       "26401       -1    1  \n",
       "203057      -1    1  \n",
       "84706       -1    1  \n",
       "65860       -1    1  \n",
       "42772       -1    1  \n",
       "195086      -1    1  "
      ]
     },
     "execution_count": 280,
     "metadata": {},
     "output_type": "execute_result"
    }
   ],
   "source": [
    "sample.loc[sample.forest == -1].head(10)"
   ]
  },
  {
   "cell_type": "markdown",
   "metadata": {},
   "source": [
    "LocalOutlierFactor скорее стремится к одежде."
   ]
  },
  {
   "cell_type": "code",
   "execution_count": 284,
   "metadata": {},
   "outputs": [
    {
     "data": {
      "text/plain": [
       "Одежда, обувь, аксессуары       37\n",
       "Автомобили                      34\n",
       "Детская одежда и обувь          31\n",
       "Телефоны                        23\n",
       "Ремонт и строительство          15\n",
       "Товары для компьютера           12\n",
       "Ноутбуки                        11\n",
       "Товары для детей и игрушки      10\n",
       "Мебель и интерьер                8\n",
       "Предложение услуг                8\n",
       "Бытовая техника                  7\n",
       "Коммерческая недвижимость        7\n",
       "Аудио и видео                    6\n",
       "Планшеты и электронные книги     6\n",
       "Игры, приставки и программы      5\n",
       "Красота и здоровье               5\n",
       "Фототехника                      4\n",
       "Оборудование для бизнеса         4\n",
       "Коллекционирование               3\n",
       "Музыкальные инструменты          2\n",
       "Книги и журналы                  2\n",
       "Оргтехника и расходники          2\n",
       "Настольные компьютеры            2\n",
       "Спорт и отдых                    2\n",
       "Кошки                            1\n",
       "Посуда и товары для кухни        1\n",
       "Билеты и путешествия             1\n",
       "Грузовики и спецтехника          1\n",
       "Собаки                           1\n",
       "Недвижимость за рубежом          1\n",
       "Водный транспорт                 1\n",
       "Товары для животных              1\n",
       "Гаражи и машиноместа             1\n",
       "Name: category_name, dtype: int64"
      ]
     },
     "execution_count": 284,
     "metadata": {},
     "output_type": "execute_result"
    }
   ],
   "source": [
    "sample.loc[sample.lof == -1].category_name.value_counts()"
   ]
  },
  {
   "cell_type": "code",
   "execution_count": 286,
   "metadata": {
    "scrolled": true
   },
   "outputs": [
    {
     "data": {
      "text/html": [
       "<div>\n",
       "<style scoped>\n",
       "    .dataframe tbody tr th:only-of-type {\n",
       "        vertical-align: middle;\n",
       "    }\n",
       "\n",
       "    .dataframe tbody tr th {\n",
       "        vertical-align: top;\n",
       "    }\n",
       "\n",
       "    .dataframe thead th {\n",
       "        text-align: right;\n",
       "    }\n",
       "</style>\n",
       "<table border=\"1\" class=\"dataframe\">\n",
       "  <thead>\n",
       "    <tr style=\"text-align: right;\">\n",
       "      <th></th>\n",
       "      <th>category_name</th>\n",
       "      <th>title</th>\n",
       "      <th>cluster</th>\n",
       "      <th>forest</th>\n",
       "      <th>lof</th>\n",
       "    </tr>\n",
       "  </thead>\n",
       "  <tbody>\n",
       "    <tr>\n",
       "      <th>240087</th>\n",
       "      <td>Товары для компьютера</td>\n",
       "      <td>Жёсткий диск Barracuda 7200.12 500Gb</td>\n",
       "      <td>84</td>\n",
       "      <td>1</td>\n",
       "      <td>-1</td>\n",
       "    </tr>\n",
       "    <tr>\n",
       "      <th>242537</th>\n",
       "      <td>Детская одежда и обувь</td>\n",
       "      <td>Сорочка (клетка) 36 раз.новая</td>\n",
       "      <td>220</td>\n",
       "      <td>1</td>\n",
       "      <td>-1</td>\n",
       "    </tr>\n",
       "    <tr>\n",
       "      <th>239834</th>\n",
       "      <td>Посуда и товары для кухни</td>\n",
       "      <td>Набор 34 столовых приборов \"Тройка\"</td>\n",
       "      <td>-1</td>\n",
       "      <td>1</td>\n",
       "      <td>-1</td>\n",
       "    </tr>\n",
       "    <tr>\n",
       "      <th>66409</th>\n",
       "      <td>Кошки</td>\n",
       "      <td>Британок в хорошие руки</td>\n",
       "      <td>20</td>\n",
       "      <td>1</td>\n",
       "      <td>-1</td>\n",
       "    </tr>\n",
       "    <tr>\n",
       "      <th>30782</th>\n",
       "      <td>Ремонт и строительство</td>\n",
       "      <td>Продам сварочный инвертор</td>\n",
       "      <td>3</td>\n",
       "      <td>1</td>\n",
       "      <td>-1</td>\n",
       "    </tr>\n",
       "    <tr>\n",
       "      <th>214975</th>\n",
       "      <td>Планшеты и электронные книги</td>\n",
       "      <td>iPad 2 16 gb 3g</td>\n",
       "      <td>74</td>\n",
       "      <td>1</td>\n",
       "      <td>-1</td>\n",
       "    </tr>\n",
       "    <tr>\n",
       "      <th>180894</th>\n",
       "      <td>Игры, приставки и программы</td>\n",
       "      <td>Playstation 4 + 2 игры Fifa 16, GTA5+ 2 джостика</td>\n",
       "      <td>74</td>\n",
       "      <td>1</td>\n",
       "      <td>-1</td>\n",
       "    </tr>\n",
       "    <tr>\n",
       "      <th>216104</th>\n",
       "      <td>Одежда, обувь, аксессуары</td>\n",
       "      <td>Продам замшевые балетки 38 р-р</td>\n",
       "      <td>3</td>\n",
       "      <td>1</td>\n",
       "      <td>-1</td>\n",
       "    </tr>\n",
       "    <tr>\n",
       "      <th>165852</th>\n",
       "      <td>Предложение услуг</td>\n",
       "      <td>Сварочные работы любой сложности</td>\n",
       "      <td>-1</td>\n",
       "      <td>1</td>\n",
       "      <td>-1</td>\n",
       "    </tr>\n",
       "    <tr>\n",
       "      <th>137645</th>\n",
       "      <td>Автомобили</td>\n",
       "      <td>Ford Fusion, 2007</td>\n",
       "      <td>0</td>\n",
       "      <td>1</td>\n",
       "      <td>-1</td>\n",
       "    </tr>\n",
       "  </tbody>\n",
       "</table>\n",
       "</div>"
      ],
      "text/plain": [
       "                       category_name  \\\n",
       "240087         Товары для компьютера   \n",
       "242537        Детская одежда и обувь   \n",
       "239834     Посуда и товары для кухни   \n",
       "66409                          Кошки   \n",
       "30782         Ремонт и строительство   \n",
       "214975  Планшеты и электронные книги   \n",
       "180894   Игры, приставки и программы   \n",
       "216104     Одежда, обувь, аксессуары   \n",
       "165852             Предложение услуг   \n",
       "137645                    Автомобили   \n",
       "\n",
       "                                                   title  cluster  forest  lof  \n",
       "240087              Жёсткий диск Barracuda 7200.12 500Gb       84       1   -1  \n",
       "242537                     Сорочка (клетка) 36 раз.новая      220       1   -1  \n",
       "239834               Набор 34 столовых приборов \"Тройка\"       -1       1   -1  \n",
       "66409                            Британок в хорошие руки       20       1   -1  \n",
       "30782                          Продам сварочный инвертор        3       1   -1  \n",
       "214975                                   iPad 2 16 gb 3g       74       1   -1  \n",
       "180894  Playstation 4 + 2 игры Fifa 16, GTA5+ 2 джостика       74       1   -1  \n",
       "216104                    Продам замшевые балетки 38 р-р        3       1   -1  \n",
       "165852                  Сварочные работы любой сложности       -1       1   -1  \n",
       "137645                                 Ford Fusion, 2007        0       1   -1  "
      ]
     },
     "execution_count": 286,
     "metadata": {},
     "output_type": "execute_result"
    }
   ],
   "source": [
    "sample.loc[sample.lof == -1].head(10)"
   ]
  },
  {
   "cell_type": "markdown",
   "metadata": {},
   "source": [
    "Согласны они в небольшом количестве случаев."
   ]
  },
  {
   "cell_type": "code",
   "execution_count": 287,
   "metadata": {},
   "outputs": [
    {
     "data": {
      "text/html": [
       "<div>\n",
       "<style scoped>\n",
       "    .dataframe tbody tr th:only-of-type {\n",
       "        vertical-align: middle;\n",
       "    }\n",
       "\n",
       "    .dataframe tbody tr th {\n",
       "        vertical-align: top;\n",
       "    }\n",
       "\n",
       "    .dataframe thead th {\n",
       "        text-align: right;\n",
       "    }\n",
       "</style>\n",
       "<table border=\"1\" class=\"dataframe\">\n",
       "  <thead>\n",
       "    <tr style=\"text-align: right;\">\n",
       "      <th></th>\n",
       "      <th>category_name</th>\n",
       "      <th>title</th>\n",
       "      <th>cluster</th>\n",
       "      <th>forest</th>\n",
       "      <th>lof</th>\n",
       "    </tr>\n",
       "  </thead>\n",
       "  <tbody>\n",
       "    <tr>\n",
       "      <th>24072</th>\n",
       "      <td>Детская одежда и обувь</td>\n",
       "      <td>Продам новые сапожки на теплую весну, осень</td>\n",
       "      <td>165</td>\n",
       "      <td>-1</td>\n",
       "      <td>-1</td>\n",
       "    </tr>\n",
       "    <tr>\n",
       "      <th>160896</th>\n",
       "      <td>Детская одежда и обувь</td>\n",
       "      <td>Продам жилет для мальчика на 2-3 года</td>\n",
       "      <td>162</td>\n",
       "      <td>-1</td>\n",
       "      <td>-1</td>\n",
       "    </tr>\n",
       "    <tr>\n",
       "      <th>13926</th>\n",
       "      <td>Детская одежда и обувь</td>\n",
       "      <td>Резиновые сапожки котофей 23 р</td>\n",
       "      <td>-1</td>\n",
       "      <td>-1</td>\n",
       "      <td>-1</td>\n",
       "    </tr>\n",
       "    <tr>\n",
       "      <th>172407</th>\n",
       "      <td>Одежда, обувь, аксессуары</td>\n",
       "      <td>Новая блузка для беременной Франция р.50-52</td>\n",
       "      <td>197</td>\n",
       "      <td>-1</td>\n",
       "      <td>-1</td>\n",
       "    </tr>\n",
       "    <tr>\n",
       "      <th>97436</th>\n",
       "      <td>Детская одежда и обувь</td>\n",
       "      <td>Платье для девочки 2-4 лет от Disney</td>\n",
       "      <td>107</td>\n",
       "      <td>-1</td>\n",
       "      <td>-1</td>\n",
       "    </tr>\n",
       "    <tr>\n",
       "      <th>92102</th>\n",
       "      <td>Бытовая техника</td>\n",
       "      <td>Стиральная машина Аристон 17.04</td>\n",
       "      <td>199</td>\n",
       "      <td>-1</td>\n",
       "      <td>-1</td>\n",
       "    </tr>\n",
       "    <tr>\n",
       "      <th>137337</th>\n",
       "      <td>Коммерческая недвижимость</td>\n",
       "      <td>Помещение свободного назначения, 73 м²</td>\n",
       "      <td>42</td>\n",
       "      <td>-1</td>\n",
       "      <td>-1</td>\n",
       "    </tr>\n",
       "    <tr>\n",
       "      <th>40901</th>\n",
       "      <td>Коммерческая недвижимость</td>\n",
       "      <td>Помещение свободного назначения, 94 м²</td>\n",
       "      <td>42</td>\n",
       "      <td>-1</td>\n",
       "      <td>-1</td>\n",
       "    </tr>\n",
       "    <tr>\n",
       "      <th>234762</th>\n",
       "      <td>Автомобили</td>\n",
       "      <td>LADA Kalina, 2011</td>\n",
       "      <td>40</td>\n",
       "      <td>-1</td>\n",
       "      <td>-1</td>\n",
       "    </tr>\n",
       "    <tr>\n",
       "      <th>54650</th>\n",
       "      <td>Телефоны</td>\n",
       "      <td>Продам Samsung Galaxy Core 2 Duos SM-G355H Black</td>\n",
       "      <td>271</td>\n",
       "      <td>-1</td>\n",
       "      <td>-1</td>\n",
       "    </tr>\n",
       "    <tr>\n",
       "      <th>241513</th>\n",
       "      <td>Одежда, обувь, аксессуары</td>\n",
       "      <td>Одежда размеры 50.52.54.56.58.62.64 verno</td>\n",
       "      <td>193</td>\n",
       "      <td>-1</td>\n",
       "      <td>-1</td>\n",
       "    </tr>\n",
       "    <tr>\n",
       "      <th>55377</th>\n",
       "      <td>Одежда, обувь, аксессуары</td>\n",
       "      <td>Плащ р.50 (европейский 42)</td>\n",
       "      <td>201</td>\n",
       "      <td>-1</td>\n",
       "      <td>-1</td>\n",
       "    </tr>\n",
       "    <tr>\n",
       "      <th>98633</th>\n",
       "      <td>Детская одежда и обувь</td>\n",
       "      <td>Полуботинки детские натуральная кожа</td>\n",
       "      <td>-1</td>\n",
       "      <td>-1</td>\n",
       "      <td>-1</td>\n",
       "    </tr>\n",
       "    <tr>\n",
       "      <th>237232</th>\n",
       "      <td>Коммерческая недвижимость</td>\n",
       "      <td>Помещение свободного назначения, 390 м²</td>\n",
       "      <td>42</td>\n",
       "      <td>-1</td>\n",
       "      <td>-1</td>\n",
       "    </tr>\n",
       "    <tr>\n",
       "      <th>135325</th>\n",
       "      <td>Одежда, обувь, аксессуары</td>\n",
       "      <td>Обувь 36 размер</td>\n",
       "      <td>221</td>\n",
       "      <td>-1</td>\n",
       "      <td>-1</td>\n",
       "    </tr>\n",
       "    <tr>\n",
       "      <th>139192</th>\n",
       "      <td>Детская одежда и обувь</td>\n",
       "      <td>Демисезонные ботиночки для мальчика или девочки</td>\n",
       "      <td>229</td>\n",
       "      <td>-1</td>\n",
       "      <td>-1</td>\n",
       "    </tr>\n",
       "    <tr>\n",
       "      <th>145860</th>\n",
       "      <td>Телефоны</td>\n",
       "      <td>Apple iPhone SE/Silver/Гарантия до 17.12.17</td>\n",
       "      <td>190</td>\n",
       "      <td>-1</td>\n",
       "      <td>-1</td>\n",
       "    </tr>\n",
       "    <tr>\n",
       "      <th>32601</th>\n",
       "      <td>Детская одежда и обувь</td>\n",
       "      <td>Демисез.ботиночки нат.кожа,в отл.состоянии</td>\n",
       "      <td>36</td>\n",
       "      <td>-1</td>\n",
       "      <td>-1</td>\n",
       "    </tr>\n",
       "    <tr>\n",
       "      <th>157503</th>\n",
       "      <td>Детская одежда и обувь</td>\n",
       "      <td>Продаю демисезонные сапожки для малыша</td>\n",
       "      <td>244</td>\n",
       "      <td>-1</td>\n",
       "      <td>-1</td>\n",
       "    </tr>\n",
       "    <tr>\n",
       "      <th>230977</th>\n",
       "      <td>Детская одежда и обувь</td>\n",
       "      <td>Сапожки зимние 24-25 р Демар</td>\n",
       "      <td>219</td>\n",
       "      <td>-1</td>\n",
       "      <td>-1</td>\n",
       "    </tr>\n",
       "    <tr>\n",
       "      <th>194735</th>\n",
       "      <td>Одежда, обувь, аксессуары</td>\n",
       "      <td>Ветровка размер 50 (Германия) art.17apr/13</td>\n",
       "      <td>211</td>\n",
       "      <td>-1</td>\n",
       "      <td>-1</td>\n",
       "    </tr>\n",
       "    <tr>\n",
       "      <th>68638</th>\n",
       "      <td>Телефоны</td>\n",
       "      <td>Батарея аккумуляторная для Apple iPhone 6s Plus</td>\n",
       "      <td>85</td>\n",
       "      <td>-1</td>\n",
       "      <td>-1</td>\n",
       "    </tr>\n",
       "  </tbody>\n",
       "</table>\n",
       "</div>"
      ],
      "text/plain": [
       "                    category_name  \\\n",
       "24072      Детская одежда и обувь   \n",
       "160896     Детская одежда и обувь   \n",
       "13926      Детская одежда и обувь   \n",
       "172407  Одежда, обувь, аксессуары   \n",
       "97436      Детская одежда и обувь   \n",
       "92102             Бытовая техника   \n",
       "137337  Коммерческая недвижимость   \n",
       "40901   Коммерческая недвижимость   \n",
       "234762                 Автомобили   \n",
       "54650                    Телефоны   \n",
       "241513  Одежда, обувь, аксессуары   \n",
       "55377   Одежда, обувь, аксессуары   \n",
       "98633      Детская одежда и обувь   \n",
       "237232  Коммерческая недвижимость   \n",
       "135325  Одежда, обувь, аксессуары   \n",
       "139192     Детская одежда и обувь   \n",
       "145860                   Телефоны   \n",
       "32601      Детская одежда и обувь   \n",
       "157503     Детская одежда и обувь   \n",
       "230977     Детская одежда и обувь   \n",
       "194735  Одежда, обувь, аксессуары   \n",
       "68638                    Телефоны   \n",
       "\n",
       "                                                   title  cluster  forest  lof  \n",
       "24072        Продам новые сапожки на теплую весну, осень      165      -1   -1  \n",
       "160896             Продам жилет для мальчика на 2-3 года      162      -1   -1  \n",
       "13926                     Резиновые сапожки котофей 23 р       -1      -1   -1  \n",
       "172407       Новая блузка для беременной Франция р.50-52      197      -1   -1  \n",
       "97436               Платье для девочки 2-4 лет от Disney      107      -1   -1  \n",
       "92102                    Стиральная машина Аристон 17.04      199      -1   -1  \n",
       "137337            Помещение свободного назначения, 73 м²       42      -1   -1  \n",
       "40901             Помещение свободного назначения, 94 м²       42      -1   -1  \n",
       "234762                                 LADA Kalina, 2011       40      -1   -1  \n",
       "54650   Продам Samsung Galaxy Core 2 Duos SM-G355H Black      271      -1   -1  \n",
       "241513         Одежда размеры 50.52.54.56.58.62.64 verno      193      -1   -1  \n",
       "55377                         Плащ р.50 (европейский 42)      201      -1   -1  \n",
       "98633               Полуботинки детские натуральная кожа       -1      -1   -1  \n",
       "237232           Помещение свободного назначения, 390 м²       42      -1   -1  \n",
       "135325                                   Обувь 36 размер      221      -1   -1  \n",
       "139192   Демисезонные ботиночки для мальчика или девочки      229      -1   -1  \n",
       "145860       Apple iPhone SE/Silver/Гарантия до 17.12.17      190      -1   -1  \n",
       "32601         Демисез.ботиночки нат.кожа,в отл.состоянии       36      -1   -1  \n",
       "157503            Продаю демисезонные сапожки для малыша      244      -1   -1  \n",
       "230977                      Сапожки зимние 24-25 р Демар      219      -1   -1  \n",
       "194735        Ветровка размер 50 (Германия) art.17apr/13      211      -1   -1  \n",
       "68638    Батарея аккумуляторная для Apple iPhone 6s Plus       85      -1   -1  "
      ]
     },
     "execution_count": 287,
     "metadata": {},
     "output_type": "execute_result"
    }
   ],
   "source": [
    "sample.loc[(sample.lof == -1) & (sample.forest == -1)]"
   ]
  },
  {
   "cell_type": "markdown",
   "metadata": {},
   "source": [
    "Как видим, ни одним из методов не получается достать ничего необычного."
   ]
  },
  {
   "cell_type": "code",
   "execution_count": null,
   "metadata": {},
   "outputs": [],
   "source": []
  }
 ],
 "metadata": {
  "kernelspec": {
   "display_name": "Python 3",
   "language": "python",
   "name": "python3"
  },
  "language_info": {
   "codemirror_mode": {
    "name": "ipython",
    "version": 3
   },
   "file_extension": ".py",
   "mimetype": "text/x-python",
   "name": "python",
   "nbconvert_exporter": "python",
   "pygments_lexer": "ipython3",
   "version": "3.7.3"
  }
 },
 "nbformat": 4,
 "nbformat_minor": 4
}
