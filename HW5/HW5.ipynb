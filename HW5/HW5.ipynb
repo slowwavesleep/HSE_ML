{
  "nbformat": 4,
  "nbformat_minor": 0,
  "metadata": {
    "colab": {
      "name": "Ensembles.ipynb",
      "provenance": [],
      "collapsed_sections": [],
      "machine_shape": "hm"
    },
    "kernelspec": {
      "name": "python3",
      "display_name": "Python 3"
    }
  },
  "cells": [
    {
      "cell_type": "code",
      "metadata": {
        "id": "inKl1KRe0Yy4",
        "colab_type": "code",
        "colab": {
          "base_uri": "https://localhost:8080/",
          "height": 136
        },
        "outputId": "9d7d2d79-87e3-46d6-b290-19df3d0cab61"
      },
      "source": [
        "!git clone https://github.com/facebookresearch/fastText.git"
      ],
      "execution_count": 1,
      "outputs": [
        {
          "output_type": "stream",
          "text": [
            "Cloning into 'fastText'...\n",
            "remote: Enumerating objects: 40, done.\u001b[K\n",
            "remote: Counting objects: 100% (40/40), done.\u001b[K\n",
            "remote: Compressing objects: 100% (26/26), done.\u001b[K\n",
            "remote: Total 3724 (delta 14), reused 23 (delta 8), pack-reused 3684\u001b[K\n",
            "Receiving objects: 100% (3724/3724), 8.14 MiB | 5.48 MiB/s, done.\n",
            "Resolving deltas: 100% (2333/2333), done.\n"
          ],
          "name": "stdout"
        }
      ]
    },
    {
      "cell_type": "code",
      "metadata": {
        "id": "7HUGkj7r0wME",
        "colab_type": "code",
        "colab": {
          "base_uri": "https://localhost:8080/",
          "height": 204
        },
        "outputId": "728e7595-5a5e-491a-a7a7-b7fd576c0c69"
      },
      "source": [
        "!pip install ./fastText"
      ],
      "execution_count": 2,
      "outputs": [
        {
          "output_type": "stream",
          "text": [
            "Processing ./fastText\n",
            "Requirement already satisfied: pybind11>=2.2 in /usr/local/lib/python3.6/dist-packages (from fasttext==0.9.1) (2.4.3)\n",
            "Requirement already satisfied: setuptools>=0.7.0 in /usr/local/lib/python3.6/dist-packages (from fasttext==0.9.1) (46.0.0)\n",
            "Requirement already satisfied: numpy in /usr/local/lib/python3.6/dist-packages (from fasttext==0.9.1) (1.18.2)\n",
            "Building wheels for collected packages: fasttext\n",
            "  Building wheel for fasttext (setup.py) ... \u001b[?25l\u001b[?25hdone\n",
            "  Created wheel for fasttext: filename=fasttext-0.9.1-cp36-cp36m-linux_x86_64.whl size=2855928 sha256=4a5d1bf6b92dff0bbf48fedb06621f891173ef29fbb75fe0216c24d25462c5e9\n",
            "  Stored in directory: /tmp/pip-ephem-wheel-cache-72uh6bsz/wheels/a1/9f/52/696ce6c5c46325e840c76614ee5051458c0df10306987e7443\n",
            "Successfully built fasttext\n",
            "Installing collected packages: fasttext\n",
            "Successfully installed fasttext-0.9.1\n"
          ],
          "name": "stdout"
        }
      ]
    },
    {
      "cell_type": "code",
      "metadata": {
        "id": "wSpZImZ41A9G",
        "colab_type": "code",
        "colab": {
          "base_uri": "https://localhost:8080/",
          "height": 34
        },
        "outputId": "aee6a344-23f5-44c6-aca1-e5852be4bb40"
      },
      "source": [
        "import fasttext.util\n",
        "fasttext.util.download_model('en', if_exists='ignore') \n",
        "ft = fasttext.load_model('cc.en.300.bin')"
      ],
      "execution_count": 41,
      "outputs": [
        {
          "output_type": "stream",
          "text": [
            "Warning : `load_model` does not return WordVectorModel or SupervisedModel any more, but a `FastText` object which is very similar.\n"
          ],
          "name": "stderr"
        }
      ]
    },
    {
      "cell_type": "code",
      "metadata": {
        "id": "Y9TXMhSA9rh-",
        "colab_type": "code",
        "colab": {
          "base_uri": "https://localhost:8080/",
          "height": 34
        },
        "outputId": "8956ffa3-5687-4543-d1aa-1d92f7ac9d70"
      },
      "source": [
        "fasttext.util.reduce_model(ft, 150)"
      ],
      "execution_count": 42,
      "outputs": [
        {
          "output_type": "execute_result",
          "data": {
            "text/plain": [
              "<fasttext.FastText._FastText at 0x7fa7394eebe0>"
            ]
          },
          "metadata": {
            "tags": []
          },
          "execution_count": 42
        }
      ]
    },
    {
      "cell_type": "code",
      "metadata": {
        "id": "Hhk24Lnt2BYk",
        "colab_type": "code",
        "colab": {
          "base_uri": "https://localhost:8080/",
          "height": 71
        },
        "outputId": "f51ae99c-6aa6-49cf-f44e-b178513dc6aa"
      },
      "source": [
        "import numpy as np\n",
        "import pandas as pd\n",
        "import nltk\n",
        "from sklearn.pipeline import Pipeline\n",
        "from sklearn.ensemble import ExtraTreesClassifier\n",
        "from sklearn.feature_extraction.text import *\n",
        "from sklearn.metrics import *\n",
        "from sklearn.pipeline import Pipeline\n",
        "from sklearn.naive_bayes import MultinomialNB, GaussianNB\n",
        "from sklearn.linear_model import SGDClassifier, LogisticRegression, LinearRegression, LogisticRegressionCV\n",
        "from sklearn.ensemble import RandomForestClassifier,  BaggingClassifier, BaggingRegressor, RandomTreesEmbedding,GradientBoostingClassifier\n",
        "from sklearn.decomposition import TruncatedSVD\n",
        "from sklearn.svm import SVC\n",
        "from sklearn.tree import DecisionTreeClassifier, ExtraTreeClassifier\n",
        "from sklearn.model_selection import train_test_split\n",
        "from sklearn.feature_extraction.text import CountVectorizer, TfidfTransformer\n",
        "from nltk import word_tokenize\n",
        "from sklearn.ensemble import AdaBoostClassifier\n",
        "from sklearn.pipeline import FeatureUnion\n",
        "import xgboost as xgb\n",
        "from sklearn.neighbors import KNeighborsClassifier\n",
        "from mlxtend.classifier import StackingClassifier"
      ],
      "execution_count": 78,
      "outputs": [
        {
          "output_type": "stream",
          "text": [
            "/usr/local/lib/python3.6/dist-packages/sklearn/externals/six.py:31: FutureWarning: The module is deprecated in version 0.21 and will be removed in version 0.23 since we've dropped support for Python 2.7. Please rely on the official version of six (https://pypi.org/project/six/).\n",
            "  \"(https://pypi.org/project/six/).\", FutureWarning)\n"
          ],
          "name": "stderr"
        }
      ]
    },
    {
      "cell_type": "code",
      "metadata": {
        "id": "pFNvbsgC3EuI",
        "colab_type": "code",
        "colab": {}
      },
      "source": [
        "from sklearn.ensemble import RandomForestClassifier, VotingClassifier\n",
        "from sklearn.preprocessing import FunctionTransformer"
      ],
      "execution_count": 0,
      "outputs": []
    },
    {
      "cell_type": "code",
      "metadata": {
        "id": "3ETwDZry3LBC",
        "colab_type": "code",
        "colab": {
          "base_uri": "https://localhost:8080/",
          "height": 204
        },
        "outputId": "ef05c32e-083f-4d63-ba9e-177dd17e23d9"
      },
      "source": [
        "data_url = 'https://raw.githubusercontent.com/TatianaShavrina/hse_ml_m1/master/ensembles/complaints.csv'\n",
        "data = pd.read_csv(data_url, sep='\\t')\n",
        "data.head()"
      ],
      "execution_count": 6,
      "outputs": [
        {
          "output_type": "execute_result",
          "data": {
            "text/html": [
              "<div>\n",
              "<style scoped>\n",
              "    .dataframe tbody tr th:only-of-type {\n",
              "        vertical-align: middle;\n",
              "    }\n",
              "\n",
              "    .dataframe tbody tr th {\n",
              "        vertical-align: top;\n",
              "    }\n",
              "\n",
              "    .dataframe thead th {\n",
              "        text-align: right;\n",
              "    }\n",
              "</style>\n",
              "<table border=\"1\" class=\"dataframe\">\n",
              "  <thead>\n",
              "    <tr style=\"text-align: right;\">\n",
              "      <th></th>\n",
              "      <th>COMPLAINT_ID</th>\n",
              "      <th>DATE</th>\n",
              "      <th>PRODUCT_ID</th>\n",
              "      <th>ISSUE_ID</th>\n",
              "      <th>cleaned_text</th>\n",
              "    </tr>\n",
              "  </thead>\n",
              "  <tbody>\n",
              "    <tr>\n",
              "      <th>0</th>\n",
              "      <td>3178905</td>\n",
              "      <td>03/13/2019</td>\n",
              "      <td>44</td>\n",
              "      <td>318</td>\n",
              "      <td>go year . contact advis never took loan . advi...</td>\n",
              "    </tr>\n",
              "    <tr>\n",
              "      <th>1</th>\n",
              "      <td>3175952</td>\n",
              "      <td>03/12/2019</td>\n",
              "      <td>44</td>\n",
              "      <td>349</td>\n",
              "      <td>mail valid debt xx/xx/19 valid receiv , receiv...</td>\n",
              "    </tr>\n",
              "    <tr>\n",
              "      <th>2</th>\n",
              "      <td>3174747</td>\n",
              "      <td>03/09/2019</td>\n",
              "      <td>44</td>\n",
              "      <td>16</td>\n",
              "      <td>xx/xx/xxxx appli receiv onlin loan bluechip fi...</td>\n",
              "    </tr>\n",
              "    <tr>\n",
              "      <th>3</th>\n",
              "      <td>3173291</td>\n",
              "      <td>03/08/2019</td>\n",
              "      <td>44</td>\n",
              "      <td>16</td>\n",
              "      <td>xx/xx/xxxx appli receiv onlin loan . loan amou...</td>\n",
              "    </tr>\n",
              "    <tr>\n",
              "      <th>4</th>\n",
              "      <td>3172221</td>\n",
              "      <td>03/07/2019</td>\n",
              "      <td>44</td>\n",
              "      <td>48</td>\n",
              "      <td>told husband left bill . debt would pay within...</td>\n",
              "    </tr>\n",
              "  </tbody>\n",
              "</table>\n",
              "</div>"
            ],
            "text/plain": [
              "   COMPLAINT_ID  ...                                       cleaned_text\n",
              "0       3178905  ...  go year . contact advis never took loan . advi...\n",
              "1       3175952  ...  mail valid debt xx/xx/19 valid receiv , receiv...\n",
              "2       3174747  ...  xx/xx/xxxx appli receiv onlin loan bluechip fi...\n",
              "3       3173291  ...  xx/xx/xxxx appli receiv onlin loan . loan amou...\n",
              "4       3172221  ...  told husband left bill . debt would pay within...\n",
              "\n",
              "[5 rows x 5 columns]"
            ]
          },
          "metadata": {
            "tags": []
          },
          "execution_count": 6
        }
      ]
    },
    {
      "cell_type": "code",
      "metadata": {
        "id": "bMH0EqzA8s7l",
        "colab_type": "code",
        "colab": {
          "base_uri": "https://localhost:8080/",
          "height": 68
        },
        "outputId": "c6d12d81-eeea-41f6-f28e-9a77b10835db"
      },
      "source": [
        "nltk.download('punkt')"
      ],
      "execution_count": 7,
      "outputs": [
        {
          "output_type": "stream",
          "text": [
            "[nltk_data] Downloading package punkt to /root/nltk_data...\n",
            "[nltk_data]   Unzipping tokenizers/punkt.zip.\n"
          ],
          "name": "stdout"
        },
        {
          "output_type": "execute_result",
          "data": {
            "text/plain": [
              "True"
            ]
          },
          "metadata": {
            "tags": []
          },
          "execution_count": 7
        }
      ]
    },
    {
      "cell_type": "code",
      "metadata": {
        "id": "qDERRG4I1_kA",
        "colab_type": "code",
        "colab": {}
      },
      "source": [
        "class FastTextVectorizer(object):\n",
        "\n",
        "    def __init__(self, model):\n",
        "        self.model = model\n",
        "        self.dim = model.get_dimension()\n",
        "\n",
        "    def fit(self, X, y):\n",
        "        return self\n",
        "\n",
        "    def transform(self, X):\n",
        "        return np.array([self.model.get_word_vector(text) for text in X])"
      ],
      "execution_count": 0,
      "outputs": []
    },
    {
      "cell_type": "code",
      "metadata": {
        "id": "YWMRINAs8PNt",
        "colab_type": "code",
        "colab": {}
      },
      "source": [
        "y = data[\"PRODUCT_ID\"]\n",
        "X = data[\"cleaned_text\"]\n",
        "X_train, X_test, y_train, y_test = train_test_split(X, y, test_size=0.1, random_state=42)"
      ],
      "execution_count": 0,
      "outputs": []
    },
    {
      "cell_type": "code",
      "metadata": {
        "id": "zOyGDTn58Sd4",
        "colab_type": "code",
        "colab": {}
      },
      "source": [
        "def eval_pred(y_test, y_pred):\n",
        "    print(f'Precision: {precision_score(y_test, y_pred, average=\"macro\"):.2f}')\n",
        "    print(f'Recall: {recall_score(y_test, y_pred, average=\"macro\"):.2f}')\n",
        "    print(f'F1-measure {f1_score(y_test, y_pred, average=\"macro\"):.2f}')\n",
        "    print(f'Accuracy: {accuracy_score(y_test, y_pred):.2f}')"
      ],
      "execution_count": 0,
      "outputs": []
    },
    {
      "cell_type": "code",
      "metadata": {
        "id": "5DEkvzOB8ZHS",
        "colab_type": "code",
        "colab": {
          "base_uri": "https://localhost:8080/",
          "height": 85
        },
        "outputId": "a826c341-31af-49dd-ccec-bd48277b268e"
      },
      "source": [
        "clf = Pipeline([\n",
        "    (\"fasttext vectorizer\", FastTextVectorizer(ft)),\n",
        "    (\"extra trees\", ExtraTreesClassifier(n_estimators=200))])\n",
        "clf = clf.fit(X_train, y_train)\n",
        "y_pred = clf.predict(X_test)\n",
        "eval_pred(y_test, y_pred)"
      ],
      "execution_count": 70,
      "outputs": [
        {
          "output_type": "stream",
          "text": [
            "Precision: 0.50\n",
            "Recall: 0.49\n",
            "F1-measure 0.47\n",
            "Accuracy: 0.49\n"
          ],
          "name": "stdout"
        }
      ]
    },
    {
      "cell_type": "code",
      "metadata": {
        "id": "zETv0jmTSEsp",
        "colab_type": "code",
        "colab": {
          "base_uri": "https://localhost:8080/",
          "height": 85
        },
        "outputId": "b46e2017-59eb-46d0-fba8-192599b17e2e"
      },
      "source": [
        "clf = Pipeline([\n",
        "    ('tfidf', TfidfVectorizer(ngram_range=(1,3), analyzer='word', max_features=150)),\n",
        "    (\"extra trees\", ExtraTreesClassifier(n_estimators=200))])\n",
        "clf = clf.fit(X_train, y_train)\n",
        "y_pred = clf.predict(X_test)\n",
        "eval_pred(y_test, y_pred)"
      ],
      "execution_count": 100,
      "outputs": [
        {
          "output_type": "stream",
          "text": [
            "Precision: 0.69\n",
            "Recall: 0.69\n",
            "F1-measure 0.69\n",
            "Accuracy: 0.69\n"
          ],
          "name": "stdout"
        }
      ]
    },
    {
      "cell_type": "code",
      "metadata": {
        "id": "Dbr2KwyWD9GE",
        "colab_type": "code",
        "colab": {
          "base_uri": "https://localhost:8080/",
          "height": 85
        },
        "outputId": "1b267f85-bd7a-41f1-a0ac-70c8e40904f0"
      },
      "source": [
        "clf = Pipeline([\n",
        "    ('feats', FeatureUnion([\n",
        "        ('tfidf', TfidfVectorizer(ngram_range=(1,3), analyzer='word', max_features=150)),\n",
        "        (\"fasttext vectorizer\", FastTextVectorizer(ft))])),\n",
        "    ('clf', SVC(class_weight=\"balanced\", random_state=42))\n",
        "    ])\n",
        "\n",
        "clf = clf.fit(X_train, y_train)\n",
        "y_pred = clf.predict(X_test)\n",
        "eval_pred(y_test, y_pred)"
      ],
      "execution_count": 98,
      "outputs": [
        {
          "output_type": "stream",
          "text": [
            "Precision: 0.66\n",
            "Recall: 0.66\n",
            "F1-measure 0.66\n",
            "Accuracy: 0.66\n"
          ],
          "name": "stdout"
        }
      ]
    },
    {
      "cell_type": "code",
      "metadata": {
        "id": "eO0vcd46Qeqo",
        "colab_type": "code",
        "colab": {
          "base_uri": "https://localhost:8080/",
          "height": 85
        },
        "outputId": "0d6e2b9e-8c2e-4b20-b113-68b89c016bf5"
      },
      "source": [
        "clf = Pipeline([\n",
        "    ('feats', FeatureUnion([\n",
        "        ('tfidf', TfidfVectorizer(ngram_range=(1,3), analyzer='word', max_features=150)),\n",
        "        (\"fasttext vectorizer\", FastTextVectorizer(ft))])),\n",
        "    ('clf',  BaggingClassifier(base_estimator=SVC(class_weight=\"balanced\", random_state=42), n_estimators=10, max_samples=0.8, max_features=0.8))\n",
        "    ])\n",
        "\n",
        "clf = clf.fit(X_train, y_train)\n",
        "y_pred = clf.predict(X_test)\n",
        "eval_pred(y_test, y_pred)"
      ],
      "execution_count": 99,
      "outputs": [
        {
          "output_type": "stream",
          "text": [
            "Precision: 0.66\n",
            "Recall: 0.65\n",
            "F1-measure 0.65\n",
            "Accuracy: 0.65\n"
          ],
          "name": "stdout"
        }
      ]
    },
    {
      "cell_type": "markdown",
      "metadata": {
        "id": "zny6aboJRi-X",
        "colab_type": "text"
      },
      "source": [
        "Как видим, само по себе использование fasttext не даёт никаких особо интересных результатов. И вообще ExtraTreesClassifier с tf-idf работает лучше всего."
      ]
    },
    {
      "cell_type": "code",
      "metadata": {
        "id": "Jfd_n6nXRqOH",
        "colab_type": "code",
        "colab": {}
      },
      "source": [
        "def adaboost_pipeline(X, y, base_model, n_est=100, fast_text=False):\n",
        "\n",
        "  X_train, X_test, y_train, y_test = train_test_split(X, y, test_size=0.1, random_state=42)\n",
        "\n",
        "  ada = AdaBoostClassifier(base_estimator=base_model, n_estimators=n_est, random_state=1, learning_rate=0.8)\n",
        "\n",
        "  if fast_text:\n",
        "    vectorizer = FastTextVectorizer(ft)\n",
        "  else:\n",
        "    vectorizer = TfidfVectorizer(ngram_range=(1,3), analyzer='word', max_features=150)\n",
        "\n",
        "  clf = Pipeline([\n",
        "    ('vectorizer', vectorizer),\n",
        "    (\"adaboost\", ada)])\n",
        "  \n",
        "  clf.fit(X_train, y_train)\n",
        "\n",
        "  y_pred = clf.predict(X_test)\n",
        "\n",
        "  eval_pred(y_test, y_pred)"
      ],
      "execution_count": 0,
      "outputs": []
    },
    {
      "cell_type": "code",
      "metadata": {
        "id": "bfHaVEB9T7y1",
        "colab_type": "code",
        "colab": {
          "base_uri": "https://localhost:8080/",
          "height": 85
        },
        "outputId": "ae442279-d85a-4325-9b7d-f49169ac06d0"
      },
      "source": [
        "adaboost_pipeline(X, y, ExtraTreesClassifier(n_estimators=70, max_depth=25, criterion='gini', min_samples_split=4))"
      ],
      "execution_count": 130,
      "outputs": [
        {
          "output_type": "stream",
          "text": [
            "Precision: 0.72\n",
            "Recall: 0.71\n",
            "F1-measure 0.71\n",
            "Accuracy: 0.70\n"
          ],
          "name": "stdout"
        }
      ]
    },
    {
      "cell_type": "code",
      "metadata": {
        "id": "Sn8wVY7QU4jc",
        "colab_type": "code",
        "colab": {
          "base_uri": "https://localhost:8080/",
          "height": 85
        },
        "outputId": "c4c5f6ae-05a7-43f4-ced1-c7e3815c60fc"
      },
      "source": [
        "adaboost_pipeline(X, y, ExtraTreesClassifier(n_estimators=70, max_depth=25, criterion='gini', min_samples_split=4), fast_text=True)"
      ],
      "execution_count": 131,
      "outputs": [
        {
          "output_type": "stream",
          "text": [
            "Precision: 0.45\n",
            "Recall: 0.46\n",
            "F1-measure 0.45\n",
            "Accuracy: 0.46\n"
          ],
          "name": "stdout"
        }
      ]
    },
    {
      "cell_type": "code",
      "metadata": {
        "id": "mbBEOwadTFGy",
        "colab_type": "code",
        "colab": {}
      },
      "source": [
        "def xgboost_pipeline(X, y, fast_text=False):\n",
        "  \n",
        "  X_train, X_test, y_train, y_test = train_test_split(X, y, test_size=0.1, random_state=42)\n",
        "\n",
        "  xg = xgb.XGBClassifier(objective='multi:softmax')\n",
        "\n",
        "  if fast_text:\n",
        "    vectorizer = FastTextVectorizer(ft)\n",
        "  else:\n",
        "    vectorizer = TfidfVectorizer(ngram_range=(1,3), analyzer='word', max_features=150)\n",
        "    \n",
        "  clf = Pipeline([\n",
        "    ('vectorizer', vectorizer),\n",
        "    (\"XGB\", xg)])\n",
        "  \n",
        "  clf.fit(X_train, y_train)\n",
        "\n",
        "  y_pred = clf.predict(X_test)\n",
        "\n",
        "  eval_pred(y_test, y_pred)"
      ],
      "execution_count": 0,
      "outputs": []
    },
    {
      "cell_type": "code",
      "metadata": {
        "id": "S8u9NsN6bJyD",
        "colab_type": "code",
        "colab": {
          "base_uri": "https://localhost:8080/",
          "height": 85
        },
        "outputId": "4912795f-b0de-4d94-fa1c-45ec83fbd529"
      },
      "source": [
        "xgboost_pipeline(X, y)"
      ],
      "execution_count": 139,
      "outputs": [
        {
          "output_type": "stream",
          "text": [
            "Precision: 0.63\n",
            "Recall: 0.63\n",
            "F1-measure 0.63\n",
            "Accuracy: 0.63\n"
          ],
          "name": "stdout"
        }
      ]
    },
    {
      "cell_type": "code",
      "metadata": {
        "id": "wnpSxY1ebSPl",
        "colab_type": "code",
        "colab": {
          "base_uri": "https://localhost:8080/",
          "height": 85
        },
        "outputId": "e5426cf8-1c97-4fcc-892b-fe25b3090742"
      },
      "source": [
        "xgboost_pipeline(X, y, fast_text=True)"
      ],
      "execution_count": 140,
      "outputs": [
        {
          "output_type": "stream",
          "text": [
            "Precision: 0.49\n",
            "Recall: 0.50\n",
            "F1-measure 0.49\n",
            "Accuracy: 0.49\n"
          ],
          "name": "stdout"
        }
      ]
    },
    {
      "cell_type": "code",
      "metadata": {
        "id": "FASGDtz9cimG",
        "colab_type": "code",
        "colab": {}
      },
      "source": [
        "def bagging_model(X, y, base_model, fast_text=False, n_est=50):\n",
        "  clf = BaggingClassifier(base_estimator=base_model, n_estimators=n_est, max_samples=0.7, max_features=0.7)\n",
        "    \n",
        "  if fast_text:\n",
        "    vectorizer = FastTextVectorizer(ft)\n",
        "  else:\n",
        "    vectorizer = TfidfVectorizer(ngram_range=(1,3), analyzer='word', max_features=150)\n",
        "  \n",
        "  clf = Pipeline([\n",
        "    ('vectorizer', vectorizer),\n",
        "    (\"bagging\", clf)])\n",
        "  \n",
        "  clf.fit(X_train, y_train)\n",
        "\n",
        "  y_pred = clf.predict(X_test)\n",
        "\n",
        "  eval_pred(y_test, y_pred)"
      ],
      "execution_count": 0,
      "outputs": []
    },
    {
      "cell_type": "code",
      "metadata": {
        "id": "D5uagM4edasg",
        "colab_type": "code",
        "colab": {
          "base_uri": "https://localhost:8080/",
          "height": 85
        },
        "outputId": "ee7f3995-7bd6-4dee-af0d-f950b7d00465"
      },
      "source": [
        "bagging_model(X, y, ExtraTreesClassifier(n_estimators=70, max_depth=30, criterion='entropy', min_samples_split=2), n_est=20)"
      ],
      "execution_count": 149,
      "outputs": [
        {
          "output_type": "stream",
          "text": [
            "Precision: 0.70\n",
            "Recall: 0.69\n",
            "F1-measure 0.69\n",
            "Accuracy: 0.69\n"
          ],
          "name": "stdout"
        }
      ]
    },
    {
      "cell_type": "code",
      "metadata": {
        "id": "2fj7ePbddiSd",
        "colab_type": "code",
        "colab": {
          "base_uri": "https://localhost:8080/",
          "height": 85
        },
        "outputId": "338b934c-1c94-4a40-e961-c57292a96ee0"
      },
      "source": [
        "bagging_model(X, y, ExtraTreesClassifier(n_estimators=70, max_depth=30, criterion='entropy', min_samples_split=2), n_est=20, fast_text=True)"
      ],
      "execution_count": 150,
      "outputs": [
        {
          "output_type": "stream",
          "text": [
            "Precision: 0.53\n",
            "Recall: 0.51\n",
            "F1-measure 0.48\n",
            "Accuracy: 0.51\n"
          ],
          "name": "stdout"
        }
      ]
    },
    {
      "cell_type": "markdown",
      "metadata": {
        "id": "msNQaZEtf-yM",
        "colab_type": "text"
      },
      "source": [
        "В результате получается, что самый высокий результат у AdaBoost. fasttext не даёт хорошего результата. Возможно, здесь стоит использовать какие-то еще фичи."
      ]
    },
    {
      "cell_type": "code",
      "metadata": {
        "id": "zQB2niIwgr_1",
        "colab_type": "code",
        "colab": {}
      },
      "source": [
        ""
      ],
      "execution_count": 0,
      "outputs": []
    }
  ]
}